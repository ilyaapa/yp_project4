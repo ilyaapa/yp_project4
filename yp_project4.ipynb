{
 "cells": [
  {
   "cell_type": "markdown",
   "id": "916048c8",
   "metadata": {},
   "source": [
    "# Статистический анализ данных сервиса аренды самокатов GoFast\n",
    "\n",
    "**В нашем распоряжении данные о пользователях  популярного сервиса аренды самокатов GoFast из нескольких городов и их поездках. \n",
    "Чтобы совершать поездки по городу, пользователи сервиса GoFast пользуются мобильным приложением. Сервисом можно пользоваться без подписки:**\n",
    "\n",
    "- абонентская плата - отсутствует;\n",
    "- стоимость одной минуты поездки — 8 рублей;\n",
    "- стоимость старта (начала поездки) — 50 рублей;\n",
    "\n",
    "**с подпиской Ultra:**\n",
    "\n",
    "- абонентская плата — 199 рублей в месяц;\n",
    "- стоимость одной минуты поездки — 6 рублей;\n",
    "- стоимость старта — бесплатно.\n",
    "\n",
    "**Описание данных**\n",
    "\n",
    "**В основных данных есть информация о пользователях, их поездках и подписках.**\n",
    "\n",
    "**Пользователи — `users_go.csv`**\n",
    "\n",
    "- user_id - уникальный идентификатор пользователя;\n",
    "- name - имя пользователя;\n",
    "- age - возраст;\n",
    "- city - город;\n",
    "- subscription_type\t- тип подписки (free, ultra);\n",
    "\n",
    "**Поездки — `rides_go.csv`**\n",
    "\n",
    "- user_id - уникальный идентификатор пользователя;\n",
    "- distance - расстояние, которое пользователь проехал в текущей сессии (в метрах);\n",
    "- duration - продолжительность сессии (в минутах) — время с того момента, как пользователь нажал кнопку «Начать поездку» до момента, как он нажал кнопку «Завершить поездку»;\n",
    "- date - дата совершения поездки;\n",
    "\n",
    "**Подписки — `subscriptions_go.csv`**\n",
    "\n",
    "- subscription_type - тип подписки;\n",
    "- minute_price - стоимость одной минуты поездки по данной подписке;\n",
    "- start_ride_price - стоимость начала поездки;\n",
    "- subscription_fee - стоимость ежемесячного платежа;\n",
    "\n",
    "**Необходимо проанализировать данные и проверьте некоторые гипотезы, которые могут помочь бизнесу вырасти.**\n",
    "\n",
    "**Последовательность выполнения проекта.**\n",
    "\n",
    "**Шаг 1. Загрузка данных**\n",
    "\n",
    "1.1 Считайте CSV-файлы с данными с помощью библиотеки pandas и сохраните их в датафреймы. Пути к файлам:\n",
    "- /datasets/users_go.csv\n",
    "- /datasets/rides_go.csv\n",
    "- /datasets/subscriptions_go.csv\n",
    "1.2 Выведите первые строки каждого набора данных. Изучите общую информацию о каждом датафрейме.\n",
    "\n",
    "**Шаг 2. Предобработка данных**\n",
    "\n",
    "2.1 Приведите столбец date к типу даты pandas.\n",
    "\n",
    "2.2 Создайте новый столбец с номером месяца на основе столбца date.\n",
    "\n",
    "2.3 Проверьте наличие пропущенных значений и дубликатов в датафреймах. Обработайте их, если такие значения присутствуют.\n",
    "\n",
    "**Шаг 3. Исследовательский анализ данных**\n",
    "\n",
    "Опишите и визуализируйте общую информацию о пользователях и поездках:\n",
    "- частота встречаемости городов;\n",
    "- соотношение пользователей с подпиской и без подписки;\n",
    "- возраст пользователей;\n",
    "- расстояние, которое пользователь преодолел за одну поездку;\n",
    "- продолжительность поездок.\n",
    "\n",
    "**Шаг 4. Объединение данных**\n",
    "\n",
    "4.1 Объедините данные о пользователях, поездках и подписках в один датафрейм. Для этого воспользуйтесь методом merge().\n",
    "\n",
    "4.2 Создайте ещё два датафрейма из датафрейма, созданного на этапе 4.1:\n",
    "- c данными о пользователях без подписки;\n",
    "- с данными о пользователях с подпиской.\n",
    "\n",
    "4.3 Визуализируйте информацию о расстоянии и времени поездок для пользователей обеих категорий.\n",
    "\n",
    "**Шаг 5. Подсчёт выручки**\n",
    "\n",
    "5.1 Создайте датафрейм с агрегированными данными о поездках на основе датафрейма с объединёнными данными из шага 4: найдите суммарное расстояние, количество поездок и суммарное время для каждого пользователя за каждый месяц.\n",
    "\n",
    "5.2 В этот же датафрейм добавьте столбец с помесячной выручкой, которую принёс каждый пользователь. Для этого обратитесь к информации об условиях оплаты для подписчиков и тех, у кого нет подписки. Продолжительность каждой поездки в каждой строке исходного датафрейма для подсчёта стоимости округляется до следующего целого числа.\n",
    "\n",
    "**Шаг 6. Проверка гипотез**\n",
    "\n",
    "Продакт-менеджеры сервиса хотят увеличить количество пользователей с подпиской. Для этого они будут проводить различные акции, но сначала нужно выяснить несколько важных моментов.\n",
    "\n",
    "6.1 Важно понять, тратят ли пользователи с подпиской больше времени на поездки? Если да, то пользователи с подпиской могут быть «выгоднее» для компании. Проверьте гипотезу. Используйте исходные данные о продолжительности каждой сессии — отдельно для подписчиков и тех, у кого нет подписки.\n",
    "\n",
    "6.2 Расстояние одной поездки в 3130 метров — оптимальное с точки зрения износа самоката. Можно ли сказать, что среднее расстояние, которое проезжают пользователи с подпиской за одну поездку, не превышает 3130 метров? Проверьте гипотезу и сделайте выводы.\n",
    "\n",
    "6.3 Проверьте гипотезу о том, будет ли помесячная выручка от пользователей с подпиской по месяцам выше, чем выручка от пользователей без подписки. Сделайте вывод.\n",
    "\n",
    "6.4 Представьте такую ситуацию: техническая команда сервиса обновила сервера, с которыми взаимодействует мобильное приложение. Она надеется, что из-за этого количество обращений в техподдержку значимо снизилось. Некоторый файл содержит для каждого пользователя данные о количестве обращений до обновления и после него. Какой тест вам понадобился бы для проверки этой гипотезы?\n",
    "\n",
    "**Шаг 7 Распределения**\n",
    "\n",
    "7.1 Отделу маркетинга GoFast поставили задачу: нужно провести акцию с раздачей промокодов на один бесплатный месяц подписки, в рамках которой как минимум 100 существующих клиентов должны продлить эту подписку. То есть по завершении периода действия подписки пользователь может либо отказаться от неё, либо продлить, совершив соответствующий платёж. \n",
    "Эта акция уже проводилась ранее и по итогу выяснилось, что после бесплатного пробного периода подписку продлевают 10% пользователей. Выясните, какое минимальное количество промокодов нужно разослать, чтобы вероятность не выполнить план была примерно 5%. Подберите параметры распределения, описывающего эту ситуацию, постройте график распределения и сформулируйте ответ на вопрос о количестве промокодов.\n",
    "\n",
    "7.2 Отдел маркетинга рассылает клиентам push-уведомления в мобильном приложении. Клиенты могут открыть его или не открывать. Известно, что уведомления открывают около 40% получивших клиентов. Отдел планирует разослать 1 млн уведомлений. С помощью аппроксимации постройте примерный график распределения и оцените вероятность того, что уведомление откроют не более 399,5 тыс. пользователей.\n",
    "\n",
    "**Шаг 8. Общий вывод**"
   ]
  },
  {
   "cell_type": "markdown",
   "id": "c42cbe00",
   "metadata": {},
   "source": [
    "### Шаг 1. Загрузка данных"
   ]
  },
  {
   "cell_type": "markdown",
   "id": "d567d2d5",
   "metadata": {},
   "source": [
    "**Считаем данные из csv-файлов в датафреймы и сохраним их в переменные `users`, `rides`, `subscriptions`. Пути к файлам:**\n",
    "\n",
    "`/datasets/real_estate_data.csv`, `/datasets/rides_go.csv`, `/datasets/subscriptions_go.csv`."
   ]
  },
  {
   "cell_type": "code",
   "execution_count": 1,
   "id": "bad24fa6-0964-4159-ab69-523f9d24328f",
   "metadata": {},
   "outputs": [],
   "source": [
    "import pandas as pd"
   ]
  },
  {
   "cell_type": "code",
   "execution_count": 2,
   "id": "024929fd",
   "metadata": {},
   "outputs": [],
   "source": [
    "try:\n",
    "    users = pd.read_csv('/datasets/users_go.csv')\n",
    "except:\n",
    "    users = pd.read_csv('https://code.s3.yandex.net/datasets/users_go.csv')\n",
    "\n",
    "\n",
    "try:\n",
    "    rides = pd.read_csv('/datasets/rides_go.csv')\n",
    "except:\n",
    "    rides = pd.read_csv('https://code.s3.yandex.net/datasets/rides_go.csv')\n",
    "\n",
    "try:\n",
    "    subscriptions = pd.read_csv('/datasets/subscriptions_go.csv')\n",
    "except:\n",
    "    subscriptions = pd.read_csv('https://code.s3.yandex.net/datasets/subscriptions_go.csv')"
   ]
  },
  {
   "cell_type": "markdown",
   "id": "dd89a13f",
   "metadata": {},
   "source": [
    "**Выведем первые 20 строчек каждого датафрейма на экран. Датафрейм `subscriptions` должен содержать 2 строки, проверим это.**"
   ]
  },
  {
   "cell_type": "code",
   "execution_count": 3,
   "id": "4a9efec2",
   "metadata": {},
   "outputs": [
    {
     "name": "stdout",
     "output_type": "stream",
     "text": [
      "    user_id        name  age            city subscription_type\n",
      "0         1        Кира   22          Тюмень             ultra\n",
      "1         2   Станислав   31            Омск             ultra\n",
      "2         3     Алексей   20          Москва             ultra\n",
      "3         4  Константин   26  Ростов-на-Дону             ultra\n",
      "4         5       Адель   28            Омск             ultra\n",
      "5         6      Регина   25       Краснодар             ultra\n",
      "6         7       Игорь   23            Омск             ultra\n",
      "7         8        Юрий   23       Краснодар             ultra\n",
      "8         9          Ян   21       Пятигорск             ultra\n",
      "9        10     Валерий   18    Екатеринбург             ultra\n",
      "10       11       Агата   31       Краснодар             ultra\n",
      "11       12        Марк   27          Тюмень             ultra\n",
      "12       13         Ева   24       Краснодар             ultra\n",
      "13       14    Антонина   18       Пятигорск             ultra\n",
      "14       15     Валерия   24          Тюмень             ultra\n",
      "15       16      Амалия   27       Краснодар             ultra\n",
      "16       17      Даниил   29          Москва             ultra\n",
      "17       18     Аделина   24            Сочи             ultra\n",
      "18       19      Регина   32          Тюмень             ultra\n",
      "19       20       Игорь   23            Омск             ultra\n",
      "\n",
      "    user_id     distance   duration        date\n",
      "0         1  4409.919140  25.599769  2021-01-01\n",
      "1         1  2617.592153  15.816871  2021-01-18\n",
      "2         1   754.159807   6.232113  2021-04-20\n",
      "3         1  2694.783254  18.511000  2021-08-11\n",
      "4         1  4028.687306  26.265803  2021-08-28\n",
      "5         1  2770.890808  16.650138  2021-10-09\n",
      "6         1  3039.020292  14.927879  2021-10-19\n",
      "7         1  2842.118050  23.117468  2021-11-06\n",
      "8         1  3412.690668  15.238072  2021-11-14\n",
      "9         1   748.690645  15.041884  2021-11-22\n",
      "10        1  4031.020195  17.674448  2021-12-14\n",
      "11        1  2720.609748   9.529463  2021-12-22\n",
      "12        2  3105.086678  24.307514  2021-03-15\n",
      "13        2  3053.519401  11.543256  2021-03-18\n",
      "14        2  4029.116927  25.109188  2021-03-23\n",
      "15        2  2805.786329  20.652145  2021-04-08\n",
      "16        2  3358.595495  18.396489  2021-04-13\n",
      "17        2  3255.338202  13.851127  2021-06-20\n",
      "18        2  3942.817648  20.142725  2021-07-02\n",
      "19        2  2837.905316  26.027432  2021-07-18\n",
      "\n",
      "  subscription_type  minute_price  start_ride_price  subscription_fee\n",
      "0              free             8                50                 0\n",
      "1             ultra             6                 0               199\n"
     ]
    }
   ],
   "source": [
    "print(users.head(20))\n",
    "print()\n",
    "print(rides.head(20))\n",
    "print()\n",
    "print(subscriptions.head(20))"
   ]
  },
  {
   "cell_type": "markdown",
   "id": "92988c83",
   "metadata": {},
   "source": [
    "**Выведем основную информацию о датафрейме `users` с помощью метода `info()`.**"
   ]
  },
  {
   "cell_type": "code",
   "execution_count": 4,
   "id": "4a578551",
   "metadata": {},
   "outputs": [
    {
     "name": "stdout",
     "output_type": "stream",
     "text": [
      "<class 'pandas.core.frame.DataFrame'>\n",
      "RangeIndex: 1565 entries, 0 to 1564\n",
      "Data columns (total 5 columns):\n",
      " #   Column             Non-Null Count  Dtype \n",
      "---  ------             --------------  ----- \n",
      " 0   user_id            1565 non-null   int64 \n",
      " 1   name               1565 non-null   object\n",
      " 2   age                1565 non-null   int64 \n",
      " 3   city               1565 non-null   object\n",
      " 4   subscription_type  1565 non-null   object\n",
      "dtypes: int64(2), object(3)\n",
      "memory usage: 61.3+ KB\n"
     ]
    }
   ],
   "source": [
    "users.info()"
   ]
  },
  {
   "cell_type": "markdown",
   "id": "9ad9ae6c",
   "metadata": {},
   "source": [
    "**Выведем основную информацию о датафрейме `rides` с помощью метода `info()`.**"
   ]
  },
  {
   "cell_type": "code",
   "execution_count": 5,
   "id": "cafec160",
   "metadata": {},
   "outputs": [
    {
     "name": "stdout",
     "output_type": "stream",
     "text": [
      "<class 'pandas.core.frame.DataFrame'>\n",
      "RangeIndex: 18068 entries, 0 to 18067\n",
      "Data columns (total 4 columns):\n",
      " #   Column    Non-Null Count  Dtype  \n",
      "---  ------    --------------  -----  \n",
      " 0   user_id   18068 non-null  int64  \n",
      " 1   distance  18068 non-null  float64\n",
      " 2   duration  18068 non-null  float64\n",
      " 3   date      18068 non-null  object \n",
      "dtypes: float64(2), int64(1), object(1)\n",
      "memory usage: 564.8+ KB\n"
     ]
    }
   ],
   "source": [
    "rides.info()"
   ]
  },
  {
   "cell_type": "markdown",
   "id": "d0960fc3",
   "metadata": {},
   "source": [
    "**Выведем основную информацию о датафрейме `subscriptions` с помощью метода `info()`.**"
   ]
  },
  {
   "cell_type": "code",
   "execution_count": 6,
   "id": "49f24e16",
   "metadata": {},
   "outputs": [
    {
     "name": "stdout",
     "output_type": "stream",
     "text": [
      "<class 'pandas.core.frame.DataFrame'>\n",
      "RangeIndex: 2 entries, 0 to 1\n",
      "Data columns (total 4 columns):\n",
      " #   Column             Non-Null Count  Dtype \n",
      "---  ------             --------------  ----- \n",
      " 0   subscription_type  2 non-null      object\n",
      " 1   minute_price       2 non-null      int64 \n",
      " 2   start_ride_price   2 non-null      int64 \n",
      " 3   subscription_fee   2 non-null      int64 \n",
      "dtypes: int64(3), object(1)\n",
      "memory usage: 196.0+ bytes\n"
     ]
    }
   ],
   "source": [
    "subscriptions.info()"
   ]
  },
  {
   "cell_type": "markdown",
   "id": "21e13dd1",
   "metadata": {},
   "source": [
    "**На данном шаге данные считаны из файлов и сохранены в переменные. Датафрейм `users` содержит информацию о клиентах - 1564 строки, 5 столбцов. Датафрейм `rides` содержит информацию о поездках - 18068 строк, 4 столбца. Датафрейм `subscriptions` содержит информацию о подписках - 2 строки, 4 столбца.**"
   ]
  },
  {
   "cell_type": "markdown",
   "id": "e95ebca7",
   "metadata": {},
   "source": [
    "### Шаг 2. Предобработка данных"
   ]
  },
  {
   "cell_type": "markdown",
   "id": "d4e85dc6",
   "metadata": {},
   "source": [
    "**Приведем столбец `date` датафрейма `rides` к типу даты pandas.**"
   ]
  },
  {
   "cell_type": "code",
   "execution_count": 7,
   "id": "42167f81",
   "metadata": {},
   "outputs": [],
   "source": [
    "rides['date'] = pd.to_datetime(rides['date'], format = '%Y-%m-%d')"
   ]
  },
  {
   "cell_type": "markdown",
   "id": "3cbbfacd",
   "metadata": {},
   "source": [
    "**Создадим в датафрейме `rides` новый столбец `month` с номером месяца на основе столбца `date`.**"
   ]
  },
  {
   "cell_type": "code",
   "execution_count": 8,
   "id": "5b89387d",
   "metadata": {},
   "outputs": [],
   "source": [
    "rides['month'] = rides['date'].dt.month"
   ]
  },
  {
   "cell_type": "markdown",
   "id": "4ce4446a",
   "metadata": {},
   "source": [
    "**Выведем первые строки датафрейма `rides` после изменений.**"
   ]
  },
  {
   "cell_type": "code",
   "execution_count": 9,
   "id": "6e20dcf7",
   "metadata": {},
   "outputs": [
    {
     "data": {
      "text/html": [
       "<div>\n",
       "<style scoped>\n",
       "    .dataframe tbody tr th:only-of-type {\n",
       "        vertical-align: middle;\n",
       "    }\n",
       "\n",
       "    .dataframe tbody tr th {\n",
       "        vertical-align: top;\n",
       "    }\n",
       "\n",
       "    .dataframe thead th {\n",
       "        text-align: right;\n",
       "    }\n",
       "</style>\n",
       "<table border=\"1\" class=\"dataframe\">\n",
       "  <thead>\n",
       "    <tr style=\"text-align: right;\">\n",
       "      <th></th>\n",
       "      <th>user_id</th>\n",
       "      <th>distance</th>\n",
       "      <th>duration</th>\n",
       "      <th>date</th>\n",
       "      <th>month</th>\n",
       "    </tr>\n",
       "  </thead>\n",
       "  <tbody>\n",
       "    <tr>\n",
       "      <th>0</th>\n",
       "      <td>1</td>\n",
       "      <td>4409.919140</td>\n",
       "      <td>25.599769</td>\n",
       "      <td>2021-01-01</td>\n",
       "      <td>1</td>\n",
       "    </tr>\n",
       "    <tr>\n",
       "      <th>1</th>\n",
       "      <td>1</td>\n",
       "      <td>2617.592153</td>\n",
       "      <td>15.816871</td>\n",
       "      <td>2021-01-18</td>\n",
       "      <td>1</td>\n",
       "    </tr>\n",
       "    <tr>\n",
       "      <th>2</th>\n",
       "      <td>1</td>\n",
       "      <td>754.159807</td>\n",
       "      <td>6.232113</td>\n",
       "      <td>2021-04-20</td>\n",
       "      <td>4</td>\n",
       "    </tr>\n",
       "    <tr>\n",
       "      <th>3</th>\n",
       "      <td>1</td>\n",
       "      <td>2694.783254</td>\n",
       "      <td>18.511000</td>\n",
       "      <td>2021-08-11</td>\n",
       "      <td>8</td>\n",
       "    </tr>\n",
       "    <tr>\n",
       "      <th>4</th>\n",
       "      <td>1</td>\n",
       "      <td>4028.687306</td>\n",
       "      <td>26.265803</td>\n",
       "      <td>2021-08-28</td>\n",
       "      <td>8</td>\n",
       "    </tr>\n",
       "  </tbody>\n",
       "</table>\n",
       "</div>"
      ],
      "text/plain": [
       "   user_id     distance   duration       date  month\n",
       "0        1  4409.919140  25.599769 2021-01-01      1\n",
       "1        1  2617.592153  15.816871 2021-01-18      1\n",
       "2        1   754.159807   6.232113 2021-04-20      4\n",
       "3        1  2694.783254  18.511000 2021-08-11      8\n",
       "4        1  4028.687306  26.265803 2021-08-28      8"
      ]
     },
     "execution_count": 9,
     "metadata": {},
     "output_type": "execute_result"
    }
   ],
   "source": [
    "rides.head()"
   ]
  },
  {
   "cell_type": "markdown",
   "id": "b878d1d1",
   "metadata": {},
   "source": [
    "**Проверим все датафреймы на наличие пропусков.**"
   ]
  },
  {
   "cell_type": "code",
   "execution_count": 10,
   "id": "a9112c1d",
   "metadata": {},
   "outputs": [
    {
     "data": {
      "text/plain": [
       "user_id              0\n",
       "name                 0\n",
       "age                  0\n",
       "city                 0\n",
       "subscription_type    0\n",
       "dtype: int64"
      ]
     },
     "execution_count": 10,
     "metadata": {},
     "output_type": "execute_result"
    }
   ],
   "source": [
    "users.isna().sum()"
   ]
  },
  {
   "cell_type": "code",
   "execution_count": 11,
   "id": "668003f4",
   "metadata": {},
   "outputs": [
    {
     "data": {
      "text/plain": [
       "user_id     0\n",
       "distance    0\n",
       "duration    0\n",
       "date        0\n",
       "month       0\n",
       "dtype: int64"
      ]
     },
     "execution_count": 11,
     "metadata": {},
     "output_type": "execute_result"
    }
   ],
   "source": [
    "rides.isna().sum()"
   ]
  },
  {
   "cell_type": "code",
   "execution_count": 12,
   "id": "ce350eb2",
   "metadata": {},
   "outputs": [
    {
     "data": {
      "text/plain": [
       "subscription_type    0\n",
       "minute_price         0\n",
       "start_ride_price     0\n",
       "subscription_fee     0\n",
       "dtype: int64"
      ]
     },
     "execution_count": 12,
     "metadata": {},
     "output_type": "execute_result"
    }
   ],
   "source": [
    "subscriptions.isna().sum()"
   ]
  },
  {
   "cell_type": "markdown",
   "id": "9bd5617f",
   "metadata": {},
   "source": [
    "**Пропуски в данных отсутствуют.**"
   ]
  },
  {
   "cell_type": "markdown",
   "id": "f3414ddc",
   "metadata": {},
   "source": [
    "**Проверим датафреймы на наличие явных дубликатов.**"
   ]
  },
  {
   "cell_type": "code",
   "execution_count": 13,
   "id": "543bf069",
   "metadata": {},
   "outputs": [
    {
     "data": {
      "text/plain": [
       "31"
      ]
     },
     "execution_count": 13,
     "metadata": {},
     "output_type": "execute_result"
    }
   ],
   "source": [
    "users.duplicated().sum()"
   ]
  },
  {
   "cell_type": "code",
   "execution_count": 14,
   "id": "51bbb0b9",
   "metadata": {},
   "outputs": [
    {
     "data": {
      "text/plain": [
       "0"
      ]
     },
     "execution_count": 14,
     "metadata": {},
     "output_type": "execute_result"
    }
   ],
   "source": [
    "rides.duplicated().sum()"
   ]
  },
  {
   "cell_type": "code",
   "execution_count": 15,
   "id": "09b951b5",
   "metadata": {},
   "outputs": [
    {
     "data": {
      "text/plain": [
       "0"
      ]
     },
     "execution_count": 15,
     "metadata": {},
     "output_type": "execute_result"
    }
   ],
   "source": [
    "subscriptions.duplicated().sum()"
   ]
  },
  {
   "cell_type": "markdown",
   "id": "b4c3051d",
   "metadata": {},
   "source": [
    "**Удалим явные дубликаты из датафрейма `users`.**"
   ]
  },
  {
   "cell_type": "code",
   "execution_count": 16,
   "id": "46f6857c",
   "metadata": {},
   "outputs": [],
   "source": [
    "users = users.drop_duplicates().reset_index(drop=True)"
   ]
  },
  {
   "cell_type": "markdown",
   "id": "19cc3675",
   "metadata": {},
   "source": [
    "**Выведем осмновную информацию о датафрейме после удаления дубликатов.**"
   ]
  },
  {
   "cell_type": "code",
   "execution_count": 17,
   "id": "29099daa",
   "metadata": {},
   "outputs": [
    {
     "name": "stdout",
     "output_type": "stream",
     "text": [
      "<class 'pandas.core.frame.DataFrame'>\n",
      "RangeIndex: 1534 entries, 0 to 1533\n",
      "Data columns (total 5 columns):\n",
      " #   Column             Non-Null Count  Dtype \n",
      "---  ------             --------------  ----- \n",
      " 0   user_id            1534 non-null   int64 \n",
      " 1   name               1534 non-null   object\n",
      " 2   age                1534 non-null   int64 \n",
      " 3   city               1534 non-null   object\n",
      " 4   subscription_type  1534 non-null   object\n",
      "dtypes: int64(2), object(3)\n",
      "memory usage: 60.1+ KB\n"
     ]
    }
   ],
   "source": [
    "users.info()"
   ]
  },
  {
   "cell_type": "markdown",
   "id": "106320b1",
   "metadata": {},
   "source": [
    "**Проверим столбец `subscription_type` датафрейма `users` на наличие неявных дубликатов.**"
   ]
  },
  {
   "cell_type": "code",
   "execution_count": 18,
   "id": "fbddb49d",
   "metadata": {},
   "outputs": [
    {
     "data": {
      "text/plain": [
       "array(['ultra', 'free'], dtype=object)"
      ]
     },
     "execution_count": 18,
     "metadata": {},
     "output_type": "execute_result"
    }
   ],
   "source": [
    "users['subscription_type'].unique()"
   ]
  },
  {
   "cell_type": "markdown",
   "id": "3bfe6509",
   "metadata": {},
   "source": [
    "**Неявные дубликаты отсутствуют.**"
   ]
  },
  {
   "cell_type": "markdown",
   "id": "db46e748",
   "metadata": {},
   "source": [
    "**Проверим столбец `city` датафрейма `users` на наличие неявных дубликатов.**"
   ]
  },
  {
   "cell_type": "code",
   "execution_count": 19,
   "id": "1122dc78",
   "metadata": {},
   "outputs": [
    {
     "data": {
      "text/plain": [
       "array(['Тюмень', 'Омск', 'Москва', 'Ростов-на-Дону', 'Краснодар',\n",
       "       'Пятигорск', 'Екатеринбург', 'Сочи'], dtype=object)"
      ]
     },
     "execution_count": 19,
     "metadata": {},
     "output_type": "execute_result"
    }
   ],
   "source": [
    "users['city'].unique()"
   ]
  },
  {
   "cell_type": "markdown",
   "id": "0cc68ce9",
   "metadata": {},
   "source": [
    "**Неявные дубликаты отсутствуют.**"
   ]
  },
  {
   "cell_type": "markdown",
   "id": "7cdb1fd9",
   "metadata": {},
   "source": [
    "**На этом этапе проведена предобработка данных.**\n",
    "\n",
    "**Типы данных столбцов преведены в соответствие с их содержанием. В датафрейм `rides` добавлен столбец с номером месяца поездки.**\n",
    "\n",
    "**Изучены пропуски данных. Пропуски отсутствуют.**\n",
    "\n",
    "**Проверено наличие дубликатов в данных. Явные дубликаты удалены, неявные дубликаты отсутствуют.**"
   ]
  },
  {
   "cell_type": "markdown",
   "id": "212593c7",
   "metadata": {},
   "source": [
    "### Шаг 3. Исследовательский анализ данных"
   ]
  },
  {
   "cell_type": "markdown",
   "id": "481c95c1",
   "metadata": {},
   "source": [
    "**Исследуем информацию о пользователях на основе данных датафрейма `users`. Посмотрим распределение пользователей по городам, соотношение пользователей с подпиской и без подписки, распредление возраста пользователей.**"
   ]
  },
  {
   "cell_type": "markdown",
   "id": "ff722628",
   "metadata": {},
   "source": [
    "**Посмотрим количество пользователей в каждом городе.**"
   ]
  },
  {
   "cell_type": "code",
   "execution_count": 20,
   "id": "c9784220",
   "metadata": {},
   "outputs": [
    {
     "data": {
      "text/plain": [
       "city\n",
       "Пятигорск         219\n",
       "Екатеринбург      204\n",
       "Ростов-на-Дону    198\n",
       "Краснодар         193\n",
       "Сочи              189\n",
       "Омск              183\n",
       "Тюмень            180\n",
       "Москва            168\n",
       "Name: count, dtype: int64"
      ]
     },
     "execution_count": 20,
     "metadata": {},
     "output_type": "execute_result"
    }
   ],
   "source": [
    "users['city'].value_counts()"
   ]
  },
  {
   "cell_type": "markdown",
   "id": "100d71f4",
   "metadata": {},
   "source": [
    "**Для наглядности построим гистограмму для распределения пользователей по городам.**"
   ]
  },
  {
   "cell_type": "code",
   "execution_count": 21,
   "id": "3eaee16d",
   "metadata": {},
   "outputs": [
    {
     "data": {
      "image/png": "[encoded data removed]",
      "text/plain": [
       "<Figure size 640x480 with 1 Axes>"
      ]
     },
     "metadata": {},
     "output_type": "display_data"
    }
   ],
   "source": [
    "city_count = users.groupby('city')['city'].count().sort_values(ascending=False)\n",
    "city_count.plot(x='city', kind='bar', grid=True, title='Распределение количества пользователей по городам', xlabel='Город',\\\n",
    "               ylabel='Количество пользователей');"
   ]
  },
  {
   "cell_type": "markdown",
   "id": "0572322c",
   "metadata": {},
   "source": [
    "**На гистограмме видно, что количество пользователей по всем городам находится между 150 и 250. Максимальное количество в Пятигорске (219 пользователей), минимальное - в Москве (168 пользователей).**"
   ]
  },
  {
   "cell_type": "markdown",
   "id": "74d4ddcb",
   "metadata": {},
   "source": [
    "**Построим гистограмму для распределения пользователей по наличию подписки.**"
   ]
  },
  {
   "cell_type": "code",
   "execution_count": 22,
   "id": "5c4bfe21",
   "metadata": {},
   "outputs": [
    {
     "data": {
      "image/png": "[encoded data removed]",
      "text/plain": [
       "<Figure size 640x480 with 1 Axes>"
      ]
     },
     "metadata": {},
     "output_type": "display_data"
    }
   ],
   "source": [
    "subscription_type_count = users.groupby('subscription_type')['subscription_type'].count()\n",
    "subscription_type_count.plot(x='subscription_type', kind='bar', grid=True,\\\n",
    "                            title='Рспределение пользователей по типу подписки',\\\n",
    "                            xlabel='Тип подписки', ylabel='Количество пользователей');"
   ]
  },
  {
   "cell_type": "markdown",
   "id": "91b75fd7",
   "metadata": {},
   "source": [
    "**На гистограмме видно, что количество пользователей без подписки чуть меньше 700, соответственно количество пользователей с подпиской ок. 850.**"
   ]
  },
  {
   "cell_type": "markdown",
   "id": "e60de802",
   "metadata": {},
   "source": [
    "**Построим гистограмму для возраста клиентов.**"
   ]
  },
  {
   "cell_type": "code",
   "execution_count": 23,
   "id": "3c1682c9",
   "metadata": {},
   "outputs": [
    {
     "data": {
      "image/png": "[encoded data removed]",
      "text/plain": [
       "<Figure size 640x480 with 1 Axes>"
      ]
     },
     "metadata": {},
     "output_type": "display_data"
    }
   ],
   "source": [
    "import matplotlib.pyplot as plt\n",
    "plt.hist(users['age'], bins=30)\n",
    "plt.grid(which='major')\n",
    "plt.title('Распределение возраста пользователей')\n",
    "plt.xlabel('Возраст пользователей, лет')\n",
    "plt.ylabel('Количество пользователей');"
   ]
  },
  {
   "cell_type": "markdown",
   "id": "5b380cdf",
   "metadata": {},
   "source": [
    "**Расчитаем среднее и медианное значения для этого параметра, округлим их до одного знака после запятой.**"
   ]
  },
  {
   "cell_type": "code",
   "execution_count": 24,
   "id": "b36d482f",
   "metadata": {},
   "outputs": [
    {
     "name": "stdout",
     "output_type": "stream",
     "text": [
      "Среднее значение возраста клиентов равно 24.9 лет.\n",
      "Медианное значение возраста клиентов равно 25.0 лет.\n"
     ]
    }
   ],
   "source": [
    "age_mean = users['age'].mean().round(1)\n",
    "age_median = users['age'].median().round(1)\n",
    "print(f'Среднее значение возраста клиентов равно {age_mean} лет.')\n",
    "print(f'Медианное значение возраста клиентов равно {age_median} лет.')"
   ]
  },
  {
   "cell_type": "markdown",
   "id": "0a278c42",
   "metadata": {},
   "source": [
    "**Возраст клиентов имеет нормальное распределние, среднее и медианное значение практически совпадают, у графика есть незначительный \"хвост\" в положительную сторону (несколько значений в интервале от 40 до 45 лет).**"
   ]
  },
  {
   "cell_type": "markdown",
   "id": "cff6148d",
   "metadata": {},
   "source": [
    "**Исследуем информацию о поездках на основе данных датафрейма `rides`. Посмотрим распределения расстояния, пройденного за одну поездку, и продолжительности поездки.**"
   ]
  },
  {
   "cell_type": "markdown",
   "id": "97dd8683",
   "metadata": {},
   "source": [
    "**Построим гистограмму для расстояния, пройденного за одну поездку.**"
   ]
  },
  {
   "cell_type": "code",
   "execution_count": 25,
   "id": "3c949e80",
   "metadata": {},
   "outputs": [
    {
     "data": {
      "image/png": "[encoded data removed]",
      "text/plain": [
       "<Figure size 640x480 with 1 Axes>"
      ]
     },
     "metadata": {},
     "output_type": "display_data"
    }
   ],
   "source": [
    "plt.hist(rides['distance'], bins=100)\n",
    "plt.grid(which='major')\n",
    "plt.title('Распределение расстояния, пройденного за одну поездку')\n",
    "plt.xlabel('Расстояние, м')\n",
    "plt.ylabel('Количество поездок');"
   ]
  },
  {
   "cell_type": "markdown",
   "id": "97464f76",
   "metadata": {},
   "source": [
    "**Расчитаем среднее и медианное значения для этого параметра, округлим их до двух знаков после запятой.**"
   ]
  },
  {
   "cell_type": "code",
   "execution_count": 26,
   "id": "45214351",
   "metadata": {},
   "outputs": [
    {
     "name": "stdout",
     "output_type": "stream",
     "text": [
      "Среднее значение расстояния, пройденного за одну поездку, равно 3070.66 м.\n",
      "Медианное значение расстояния, пройденного за одну поездку, равно 3133.61 м.\n"
     ]
    }
   ],
   "source": [
    "distance_mean = rides['distance'].mean().round(2)\n",
    "distance_median = rides['distance'].median().round(2)\n",
    "print(f'Среднее значение расстояния, пройденного за одну поездку, равно {distance_mean} м.')\n",
    "print(f'Медианное значение расстояния, пройденного за одну поездку, равно {distance_median} м.')"
   ]
  },
  {
   "cell_type": "markdown",
   "id": "62627855",
   "metadata": {},
   "source": [
    "**Среднее и медианное значение отличаются незначительно. На гистограмме выделяются два пика: первый (больший) в районе 3100 м., отражает основные поездки, соответствует среднему/медианному значениям. Также есть второй (меньший) пик в районе 700 м., отражающий значительное количество коротких поездок. Также есть небольшой \"хвост\" в положительную сторону (значения в интервале от 6000 м. до 7500 м.).**"
   ]
  },
  {
   "cell_type": "markdown",
   "id": "cd403055",
   "metadata": {},
   "source": [
    "**Построим гисторамму для продолжительности поездки.**"
   ]
  },
  {
   "cell_type": "code",
   "execution_count": 27,
   "id": "c46c13f2",
   "metadata": {},
   "outputs": [
    {
     "data": {
      "image/png": "[encoded data removed]",
      "text/plain": [
       "<Figure size 640x480 with 1 Axes>"
      ]
     },
     "metadata": {},
     "output_type": "display_data"
    }
   ],
   "source": [
    "plt.hist(rides['duration'], bins=100)\n",
    "plt.grid(which='major')\n",
    "plt.title('Распределение продолжительности поездок')\n",
    "plt.xlabel('Продолжительность поездки, мин')\n",
    "plt.ylabel('Количество поездок');"
   ]
  },
  {
   "cell_type": "markdown",
   "id": "870fcd52",
   "metadata": {},
   "source": [
    "**На графике есть пик в районе 1 минуты, рассмотрим эти поездки подробнее**"
   ]
  },
  {
   "cell_type": "code",
   "execution_count": 28,
   "id": "fe12763c",
   "metadata": {},
   "outputs": [
    {
     "data": {
      "text/html": [
       "<div>\n",
       "<style scoped>\n",
       "    .dataframe tbody tr th:only-of-type {\n",
       "        vertical-align: middle;\n",
       "    }\n",
       "\n",
       "    .dataframe tbody tr th {\n",
       "        vertical-align: top;\n",
       "    }\n",
       "\n",
       "    .dataframe thead th {\n",
       "        text-align: right;\n",
       "    }\n",
       "</style>\n",
       "<table border=\"1\" class=\"dataframe\">\n",
       "  <thead>\n",
       "    <tr style=\"text-align: right;\">\n",
       "      <th></th>\n",
       "      <th>user_id</th>\n",
       "      <th>distance</th>\n",
       "      <th>duration</th>\n",
       "      <th>date</th>\n",
       "      <th>month</th>\n",
       "    </tr>\n",
       "  </thead>\n",
       "  <tbody>\n",
       "    <tr>\n",
       "      <th>6531</th>\n",
       "      <td>701</td>\n",
       "      <td>4196.445201</td>\n",
       "      <td>0.5</td>\n",
       "      <td>2021-08-31</td>\n",
       "      <td>8</td>\n",
       "    </tr>\n",
       "    <tr>\n",
       "      <th>6570</th>\n",
       "      <td>704</td>\n",
       "      <td>4830.824371</td>\n",
       "      <td>0.5</td>\n",
       "      <td>2021-10-14</td>\n",
       "      <td>10</td>\n",
       "    </tr>\n",
       "    <tr>\n",
       "      <th>6680</th>\n",
       "      <td>712</td>\n",
       "      <td>4684.004397</td>\n",
       "      <td>0.5</td>\n",
       "      <td>2021-03-04</td>\n",
       "      <td>3</td>\n",
       "    </tr>\n",
       "    <tr>\n",
       "      <th>6695</th>\n",
       "      <td>713</td>\n",
       "      <td>5215.642710</td>\n",
       "      <td>0.5</td>\n",
       "      <td>2021-02-25</td>\n",
       "      <td>2</td>\n",
       "    </tr>\n",
       "    <tr>\n",
       "      <th>6768</th>\n",
       "      <td>718</td>\n",
       "      <td>5197.436649</td>\n",
       "      <td>0.5</td>\n",
       "      <td>2021-02-11</td>\n",
       "      <td>2</td>\n",
       "    </tr>\n",
       "    <tr>\n",
       "      <th>...</th>\n",
       "      <td>...</td>\n",
       "      <td>...</td>\n",
       "      <td>...</td>\n",
       "      <td>...</td>\n",
       "      <td>...</td>\n",
       "    </tr>\n",
       "    <tr>\n",
       "      <th>17004</th>\n",
       "      <td>1460</td>\n",
       "      <td>5531.335845</td>\n",
       "      <td>0.5</td>\n",
       "      <td>2021-01-19</td>\n",
       "      <td>1</td>\n",
       "    </tr>\n",
       "    <tr>\n",
       "      <th>17242</th>\n",
       "      <td>1477</td>\n",
       "      <td>6724.932981</td>\n",
       "      <td>0.5</td>\n",
       "      <td>2021-01-12</td>\n",
       "      <td>1</td>\n",
       "    </tr>\n",
       "    <tr>\n",
       "      <th>17314</th>\n",
       "      <td>1483</td>\n",
       "      <td>4445.481070</td>\n",
       "      <td>0.5</td>\n",
       "      <td>2021-03-06</td>\n",
       "      <td>3</td>\n",
       "    </tr>\n",
       "    <tr>\n",
       "      <th>17505</th>\n",
       "      <td>1496</td>\n",
       "      <td>5722.551787</td>\n",
       "      <td>0.5</td>\n",
       "      <td>2021-02-14</td>\n",
       "      <td>2</td>\n",
       "    </tr>\n",
       "    <tr>\n",
       "      <th>17909</th>\n",
       "      <td>1524</td>\n",
       "      <td>4103.998874</td>\n",
       "      <td>0.5</td>\n",
       "      <td>2021-06-18</td>\n",
       "      <td>6</td>\n",
       "    </tr>\n",
       "  </tbody>\n",
       "</table>\n",
       "<p>95 rows × 5 columns</p>\n",
       "</div>"
      ],
      "text/plain": [
       "       user_id     distance  duration       date  month\n",
       "6531       701  4196.445201       0.5 2021-08-31      8\n",
       "6570       704  4830.824371       0.5 2021-10-14     10\n",
       "6680       712  4684.004397       0.5 2021-03-04      3\n",
       "6695       713  5215.642710       0.5 2021-02-25      2\n",
       "6768       718  5197.436649       0.5 2021-02-11      2\n",
       "...        ...          ...       ...        ...    ...\n",
       "17004     1460  5531.335845       0.5 2021-01-19      1\n",
       "17242     1477  6724.932981       0.5 2021-01-12      1\n",
       "17314     1483  4445.481070       0.5 2021-03-06      3\n",
       "17505     1496  5722.551787       0.5 2021-02-14      2\n",
       "17909     1524  4103.998874       0.5 2021-06-18      6\n",
       "\n",
       "[95 rows x 5 columns]"
      ]
     },
     "execution_count": 28,
     "metadata": {},
     "output_type": "execute_result"
    }
   ],
   "source": [
    "rides.query('duration <= 1')"
   ]
  },
  {
   "cell_type": "markdown",
   "id": "4e3f0877",
   "metadata": {},
   "source": [
    "**В датафрейме 95 измерений с продолжительностью поездки меньше минуты. Посмотрим, какие есть значения в столбце `duration`.**"
   ]
  },
  {
   "cell_type": "code",
   "execution_count": 29,
   "id": "d196a0a4",
   "metadata": {},
   "outputs": [
    {
     "data": {
      "text/plain": [
       "duration\n",
       "0.5    95\n",
       "Name: count, dtype: int64"
      ]
     },
     "execution_count": 29,
     "metadata": {},
     "output_type": "execute_result"
    }
   ],
   "source": [
    "rides.query('duration <= 1')['duration'].value_counts()"
   ]
  },
  {
   "cell_type": "markdown",
   "id": "5f67a688",
   "metadata": {},
   "source": [
    "**Все значения одинаковые - `0.5`, при этом пройденная дистанция около 5 километров. Это явная логирования данных. Поскольку таких данных всего около 0.5% от сего датафрейма, отбросим их и построим распределение заново.**"
   ]
  },
  {
   "cell_type": "code",
   "execution_count": 30,
   "id": "4e7b226b",
   "metadata": {},
   "outputs": [
    {
     "data": {
      "image/png": "[encoded data removed]",
      "text/plain": [
       "<Figure size 640x480 with 1 Axes>"
      ]
     },
     "metadata": {},
     "output_type": "display_data"
    }
   ],
   "source": [
    "rides = rides.query('duration > 1')\n",
    "plt.hist(rides['duration'], bins=100)\n",
    "plt.grid(which='major')\n",
    "plt.title('Распределение продолжительности поездок')\n",
    "plt.xlabel('Продолжительность поездки, мин')\n",
    "plt.ylabel('Количество поездок');"
   ]
  },
  {
   "cell_type": "markdown",
   "id": "e3640ebc",
   "metadata": {},
   "source": [
    "**Расчитаем среднее и медианное значения для этого параметра, округлим их до двух знаков после запятой.**"
   ]
  },
  {
   "cell_type": "code",
   "execution_count": 31,
   "id": "36dfbf4b",
   "metadata": {},
   "outputs": [
    {
     "name": "stdout",
     "output_type": "stream",
     "text": [
      "Среднее значение продолжительности поездки равно 17.9 мин.\n",
      "Медианное значение продолжительности поездки равно 17.71 мин.\n"
     ]
    }
   ],
   "source": [
    "duration_mean = rides['duration'].mean().round(2)\n",
    "duration_median = rides['duration'].median().round(2)\n",
    "print(f'Среднее значение продолжительности поездки равно {duration_mean} мин.')\n",
    "print(f'Медианное значение продолжительности поездки равно {duration_median} мин.')"
   ]
  },
  {
   "cell_type": "markdown",
   "id": "284670bd",
   "metadata": {},
   "source": [
    "**Среднее и медианное значение практически совпадают. График отражает нормальное распределение продолжительности поезок. Пик в районе 18 мин. соответствует среднему/медианному значениям. Также есть небольшой \"хвост\" в положительную сторону (значения в интервале от 35 мин. до 48 мин.).**"
   ]
  },
  {
   "cell_type": "markdown",
   "id": "7d118695",
   "metadata": {},
   "source": [
    "**На этом этапе проведен исследовательский анализ данных. Исследована информация о пользователях и поездках:**\n",
    "\n",
    "- частота встречаемости городов;\n",
    "- соотношение пользователей с подпиской и без подписки;\n",
    "- возраст пользователей;\n",
    "- расстояние, которое пользователь преодолел за одну поездку;\n",
    "- продолжительность поездок."
   ]
  },
  {
   "cell_type": "markdown",
   "id": "4ef51331",
   "metadata": {},
   "source": [
    "### Шаг 4. Объединение данных"
   ]
  },
  {
   "cell_type": "markdown",
   "id": "9780dc71",
   "metadata": {},
   "source": [
    "**Объединим данные о пользователях, поездках и подписках в один датафрейм и сохраним в переменную `data`.**"
   ]
  },
  {
   "cell_type": "code",
   "execution_count": 32,
   "id": "fe0c8d48",
   "metadata": {},
   "outputs": [
    {
     "data": {
      "text/html": [
       "<div>\n",
       "<style scoped>\n",
       "    .dataframe tbody tr th:only-of-type {\n",
       "        vertical-align: middle;\n",
       "    }\n",
       "\n",
       "    .dataframe tbody tr th {\n",
       "        vertical-align: top;\n",
       "    }\n",
       "\n",
       "    .dataframe thead th {\n",
       "        text-align: right;\n",
       "    }\n",
       "</style>\n",
       "<table border=\"1\" class=\"dataframe\">\n",
       "  <thead>\n",
       "    <tr style=\"text-align: right;\">\n",
       "      <th></th>\n",
       "      <th>user_id</th>\n",
       "      <th>distance</th>\n",
       "      <th>duration</th>\n",
       "      <th>date</th>\n",
       "      <th>month</th>\n",
       "      <th>name</th>\n",
       "      <th>age</th>\n",
       "      <th>city</th>\n",
       "      <th>subscription_type</th>\n",
       "      <th>minute_price</th>\n",
       "      <th>start_ride_price</th>\n",
       "      <th>subscription_fee</th>\n",
       "    </tr>\n",
       "  </thead>\n",
       "  <tbody>\n",
       "    <tr>\n",
       "      <th>0</th>\n",
       "      <td>1</td>\n",
       "      <td>4409.919140</td>\n",
       "      <td>25.599769</td>\n",
       "      <td>2021-01-01</td>\n",
       "      <td>1</td>\n",
       "      <td>Кира</td>\n",
       "      <td>22</td>\n",
       "      <td>Тюмень</td>\n",
       "      <td>ultra</td>\n",
       "      <td>6</td>\n",
       "      <td>0</td>\n",
       "      <td>199</td>\n",
       "    </tr>\n",
       "    <tr>\n",
       "      <th>1</th>\n",
       "      <td>1</td>\n",
       "      <td>2617.592153</td>\n",
       "      <td>15.816871</td>\n",
       "      <td>2021-01-18</td>\n",
       "      <td>1</td>\n",
       "      <td>Кира</td>\n",
       "      <td>22</td>\n",
       "      <td>Тюмень</td>\n",
       "      <td>ultra</td>\n",
       "      <td>6</td>\n",
       "      <td>0</td>\n",
       "      <td>199</td>\n",
       "    </tr>\n",
       "    <tr>\n",
       "      <th>2</th>\n",
       "      <td>1</td>\n",
       "      <td>754.159807</td>\n",
       "      <td>6.232113</td>\n",
       "      <td>2021-04-20</td>\n",
       "      <td>4</td>\n",
       "      <td>Кира</td>\n",
       "      <td>22</td>\n",
       "      <td>Тюмень</td>\n",
       "      <td>ultra</td>\n",
       "      <td>6</td>\n",
       "      <td>0</td>\n",
       "      <td>199</td>\n",
       "    </tr>\n",
       "    <tr>\n",
       "      <th>3</th>\n",
       "      <td>1</td>\n",
       "      <td>2694.783254</td>\n",
       "      <td>18.511000</td>\n",
       "      <td>2021-08-11</td>\n",
       "      <td>8</td>\n",
       "      <td>Кира</td>\n",
       "      <td>22</td>\n",
       "      <td>Тюмень</td>\n",
       "      <td>ultra</td>\n",
       "      <td>6</td>\n",
       "      <td>0</td>\n",
       "      <td>199</td>\n",
       "    </tr>\n",
       "    <tr>\n",
       "      <th>4</th>\n",
       "      <td>1</td>\n",
       "      <td>4028.687306</td>\n",
       "      <td>26.265803</td>\n",
       "      <td>2021-08-28</td>\n",
       "      <td>8</td>\n",
       "      <td>Кира</td>\n",
       "      <td>22</td>\n",
       "      <td>Тюмень</td>\n",
       "      <td>ultra</td>\n",
       "      <td>6</td>\n",
       "      <td>0</td>\n",
       "      <td>199</td>\n",
       "    </tr>\n",
       "    <tr>\n",
       "      <th>...</th>\n",
       "      <td>...</td>\n",
       "      <td>...</td>\n",
       "      <td>...</td>\n",
       "      <td>...</td>\n",
       "      <td>...</td>\n",
       "      <td>...</td>\n",
       "      <td>...</td>\n",
       "      <td>...</td>\n",
       "      <td>...</td>\n",
       "      <td>...</td>\n",
       "      <td>...</td>\n",
       "      <td>...</td>\n",
       "    </tr>\n",
       "    <tr>\n",
       "      <th>17968</th>\n",
       "      <td>1534</td>\n",
       "      <td>3781.098080</td>\n",
       "      <td>19.822962</td>\n",
       "      <td>2021-11-04</td>\n",
       "      <td>11</td>\n",
       "      <td>Альберт</td>\n",
       "      <td>25</td>\n",
       "      <td>Краснодар</td>\n",
       "      <td>free</td>\n",
       "      <td>8</td>\n",
       "      <td>50</td>\n",
       "      <td>0</td>\n",
       "    </tr>\n",
       "    <tr>\n",
       "      <th>17969</th>\n",
       "      <td>1534</td>\n",
       "      <td>2840.423057</td>\n",
       "      <td>21.409799</td>\n",
       "      <td>2021-11-16</td>\n",
       "      <td>11</td>\n",
       "      <td>Альберт</td>\n",
       "      <td>25</td>\n",
       "      <td>Краснодар</td>\n",
       "      <td>free</td>\n",
       "      <td>8</td>\n",
       "      <td>50</td>\n",
       "      <td>0</td>\n",
       "    </tr>\n",
       "    <tr>\n",
       "      <th>17970</th>\n",
       "      <td>1534</td>\n",
       "      <td>3826.185507</td>\n",
       "      <td>18.435051</td>\n",
       "      <td>2021-11-18</td>\n",
       "      <td>11</td>\n",
       "      <td>Альберт</td>\n",
       "      <td>25</td>\n",
       "      <td>Краснодар</td>\n",
       "      <td>free</td>\n",
       "      <td>8</td>\n",
       "      <td>50</td>\n",
       "      <td>0</td>\n",
       "    </tr>\n",
       "    <tr>\n",
       "      <th>17971</th>\n",
       "      <td>1534</td>\n",
       "      <td>2902.308661</td>\n",
       "      <td>16.674362</td>\n",
       "      <td>2021-11-27</td>\n",
       "      <td>11</td>\n",
       "      <td>Альберт</td>\n",
       "      <td>25</td>\n",
       "      <td>Краснодар</td>\n",
       "      <td>free</td>\n",
       "      <td>8</td>\n",
       "      <td>50</td>\n",
       "      <td>0</td>\n",
       "    </tr>\n",
       "    <tr>\n",
       "      <th>17972</th>\n",
       "      <td>1534</td>\n",
       "      <td>2371.711192</td>\n",
       "      <td>15.893917</td>\n",
       "      <td>2021-12-29</td>\n",
       "      <td>12</td>\n",
       "      <td>Альберт</td>\n",
       "      <td>25</td>\n",
       "      <td>Краснодар</td>\n",
       "      <td>free</td>\n",
       "      <td>8</td>\n",
       "      <td>50</td>\n",
       "      <td>0</td>\n",
       "    </tr>\n",
       "  </tbody>\n",
       "</table>\n",
       "<p>17973 rows × 12 columns</p>\n",
       "</div>"
      ],
      "text/plain": [
       "       user_id     distance   duration       date  month     name  age  \\\n",
       "0            1  4409.919140  25.599769 2021-01-01      1     Кира   22   \n",
       "1            1  2617.592153  15.816871 2021-01-18      1     Кира   22   \n",
       "2            1   754.159807   6.232113 2021-04-20      4     Кира   22   \n",
       "3            1  2694.783254  18.511000 2021-08-11      8     Кира   22   \n",
       "4            1  4028.687306  26.265803 2021-08-28      8     Кира   22   \n",
       "...        ...          ...        ...        ...    ...      ...  ...   \n",
       "17968     1534  3781.098080  19.822962 2021-11-04     11  Альберт   25   \n",
       "17969     1534  2840.423057  21.409799 2021-11-16     11  Альберт   25   \n",
       "17970     1534  3826.185507  18.435051 2021-11-18     11  Альберт   25   \n",
       "17971     1534  2902.308661  16.674362 2021-11-27     11  Альберт   25   \n",
       "17972     1534  2371.711192  15.893917 2021-12-29     12  Альберт   25   \n",
       "\n",
       "            city subscription_type  minute_price  start_ride_price  \\\n",
       "0         Тюмень             ultra             6                 0   \n",
       "1         Тюмень             ultra             6                 0   \n",
       "2         Тюмень             ultra             6                 0   \n",
       "3         Тюмень             ultra             6                 0   \n",
       "4         Тюмень             ultra             6                 0   \n",
       "...          ...               ...           ...               ...   \n",
       "17968  Краснодар              free             8                50   \n",
       "17969  Краснодар              free             8                50   \n",
       "17970  Краснодар              free             8                50   \n",
       "17971  Краснодар              free             8                50   \n",
       "17972  Краснодар              free             8                50   \n",
       "\n",
       "       subscription_fee  \n",
       "0                   199  \n",
       "1                   199  \n",
       "2                   199  \n",
       "3                   199  \n",
       "4                   199  \n",
       "...                 ...  \n",
       "17968                 0  \n",
       "17969                 0  \n",
       "17970                 0  \n",
       "17971                 0  \n",
       "17972                 0  \n",
       "\n",
       "[17973 rows x 12 columns]"
      ]
     },
     "execution_count": 32,
     "metadata": {},
     "output_type": "execute_result"
    }
   ],
   "source": [
    "data = rides.merge(users, on='user_id', how='outer')\n",
    "data = data.merge(subscriptions, on='subscription_type', how='outer')\n",
    "data"
   ]
  },
  {
   "cell_type": "markdown",
   "id": "e625fadc",
   "metadata": {},
   "source": [
    "**Выведем информацию о полученной таблице и убедимся, что объединение прошло успешно.**"
   ]
  },
  {
   "cell_type": "code",
   "execution_count": 33,
   "id": "1695976c",
   "metadata": {},
   "outputs": [
    {
     "name": "stdout",
     "output_type": "stream",
     "text": [
      "<class 'pandas.core.frame.DataFrame'>\n",
      "RangeIndex: 17973 entries, 0 to 17972\n",
      "Data columns (total 12 columns):\n",
      " #   Column             Non-Null Count  Dtype         \n",
      "---  ------             --------------  -----         \n",
      " 0   user_id            17973 non-null  int64         \n",
      " 1   distance           17973 non-null  float64       \n",
      " 2   duration           17973 non-null  float64       \n",
      " 3   date               17973 non-null  datetime64[ns]\n",
      " 4   month              17973 non-null  int32         \n",
      " 5   name               17973 non-null  object        \n",
      " 6   age                17973 non-null  int64         \n",
      " 7   city               17973 non-null  object        \n",
      " 8   subscription_type  17973 non-null  object        \n",
      " 9   minute_price       17973 non-null  int64         \n",
      " 10  start_ride_price   17973 non-null  int64         \n",
      " 11  subscription_fee   17973 non-null  int64         \n",
      "dtypes: datetime64[ns](1), float64(2), int32(1), int64(5), object(3)\n",
      "memory usage: 1.6+ MB\n"
     ]
    }
   ],
   "source": [
    "data.info()"
   ]
  },
  {
   "cell_type": "markdown",
   "id": "b946d9e4",
   "metadata": {},
   "source": [
    "**Создадим два датафрейма, содержащих информацию о клиентах без подписки и с подпиской, `data_free` и `data_ultra` соответственно.**"
   ]
  },
  {
   "cell_type": "code",
   "execution_count": 34,
   "id": "c82eb909",
   "metadata": {},
   "outputs": [],
   "source": [
    "data_free = data.query('subscription_type == \"free\"')\n",
    "data_ultra = data.query('subscription_type == \"ultra\"')"
   ]
  },
  {
   "cell_type": "markdown",
   "id": "fef46f0d",
   "metadata": {},
   "source": [
    "**Расчитаем среднее и медианное значения для расстояния, пройденного за одну поездку, для клиентов без подписки и с подпиской. Округлим значения до двух знаков после запятой.**"
   ]
  },
  {
   "cell_type": "code",
   "execution_count": 35,
   "id": "6b161241",
   "metadata": {},
   "outputs": [
    {
     "name": "stdout",
     "output_type": "stream",
     "text": [
      "Среднее значение расстояния, пройденного за одну поездку, для клиентов без подписки равно 3028.37 м.\n",
      "Медианное значение расстояния, пройденного за одну поездку, для клиентов без подписки равно 3102.08 м.\n",
      "\n",
      "Среднее значение расстояния, пройденного за одну поездку, для клиентов с подпиской равно 3115.45 м.\n",
      "Медианное значение расстояния, пройденного за одну поездку, для клиентов с подпиской равно 3148.64 м.\n"
     ]
    }
   ],
   "source": [
    "distance_free_mean = data_free['distance'].mean().round(2)\n",
    "distance_free_median = data_free['distance'].median().round(2)\n",
    "distance_ultra_mean = data_ultra['distance'].mean().round(2)\n",
    "distance_ultra_median = data_ultra['distance'].median().round(2)\n",
    "print(f'Среднее значение расстояния, пройденного за одну поездку, для клиентов без подписки равно {distance_free_mean} м.')\n",
    "print(f'Медианное значение расстояния, пройденного за одну поездку, для клиентов без подписки равно {distance_free_median} м.')\n",
    "print()\n",
    "print(f'Среднее значение расстояния, пройденного за одну поездку, для клиентов с подпиской равно {distance_ultra_mean} м.')\n",
    "print(f'Медианное значение расстояния, пройденного за одну поездку, для клиентов с подпиской равно {distance_ultra_median} м.')"
   ]
  },
  {
   "cell_type": "markdown",
   "id": "fa1f564a",
   "metadata": {},
   "source": [
    " **Визуализируем информацию о расстоянии, пройденном за одну поездку, для клиентов без подписки и с подпиской.**"
   ]
  },
  {
   "cell_type": "code",
   "execution_count": 36,
   "id": "4355bb10",
   "metadata": {},
   "outputs": [
    {
     "data": {
      "image/png": "[encoded data removed]",
      "text/plain": [
       "<Figure size 1500x500 with 1 Axes>"
      ]
     },
     "metadata": {},
     "output_type": "display_data"
    }
   ],
   "source": [
    "plt.figure(figsize=(15, 5))\n",
    "plt.hist(( data_free['distance'], data_ultra['distance']), bins=100, histtype='step', color=['b', 'g'],\\\n",
    "         label=['Расстояние пользователей без подписки', 'Расстояние пользователей с подпиской'])\n",
    "plt.grid(which='major')\n",
    "plt.title('Распределение расстояния, пройденного за одну поездку')\n",
    "plt.xlabel('Расстояние, м')\n",
    "plt.ylabel('Количество поездок')\n",
    "plt.axvline(x=distance_free_mean, ymin=0, ymax=400, color='b', linewidth=1,\\\n",
    "            label='Среднее расстояние пользователей без подписки')\n",
    "plt.axvline(x=distance_free_median, ymin=0, ymax=400, color='b', linewidth=1, linestyle='--',\\\n",
    "            label='Медианное расстояние пользователей без подписки')\n",
    "plt.axvline(x=distance_ultra_mean, ymin=0, ymax=400, color='g', linewidth=1,\\\n",
    "            label='Среднее расстояние пользователей с подпиской')\n",
    "plt.axvline(x=distance_ultra_median, ymin=0, ymax=400, color='g', linewidth=1, linestyle='--',\\\n",
    "            label='Медианное расстояние пользователей с подпиской')\n",
    "plt.legend();"
   ]
  },
  {
   "cell_type": "markdown",
   "id": "b5884ada",
   "metadata": {},
   "source": [
    "**Расчитаем среднее и медианное значения продолжительности поездки для клиентов без подписки и с подпиской. Округлим значения до двух знаков после запятой.**"
   ]
  },
  {
   "cell_type": "code",
   "execution_count": 37,
   "id": "4ba6d0ae",
   "metadata": {},
   "outputs": [
    {
     "name": "stdout",
     "output_type": "stream",
     "text": [
      "Среднее значение продолжительности поездки для клиентов без подписки равно 17.53 мин.\n",
      "Медианное значение продолжительности поездки для клиентов без подписки равно 17.38 мин.\n",
      "\n",
      "Среднее значение продолжительности поездки для клиентов с подпиской равно 18.54 мин.\n",
      "Медианное значение продолжительности поездки для клиентов с подпиской равно 18.18 мин.\n"
     ]
    }
   ],
   "source": [
    "duration_free_mean = data_free['duration'].mean().round(2)\n",
    "duration_free_median = data_free['duration'].median().round(2)\n",
    "duration_ultra_mean = data_ultra['duration'].mean().round(2)\n",
    "duration_ultra_median = data_ultra['duration'].median().round(2)\n",
    "print(f'Среднее значение продолжительности поездки для клиентов без подписки равно {duration_free_mean} мин.')\n",
    "print(f'Медианное значение продолжительности поездки для клиентов без подписки равно {duration_free_median} мин.')\n",
    "print()\n",
    "print(f'Среднее значение продолжительности поездки для клиентов с подпиской равно {duration_ultra_mean} мин.')\n",
    "print(f'Медианное значение продолжительности поездки для клиентов с подпиской равно {duration_ultra_median} мин.')"
   ]
  },
  {
   "cell_type": "markdown",
   "id": "68f8460b",
   "metadata": {},
   "source": [
    "**Визуализируем информацию о продолжительности поездки для клиентов без подписки и с подпиской.**"
   ]
  },
  {
   "cell_type": "code",
   "execution_count": 38,
   "id": "053a2420",
   "metadata": {},
   "outputs": [
    {
     "data": {
      "image/png": "[encoded data removed]",
      "text/plain": [
       "<Figure size 1700x500 with 1 Axes>"
      ]
     },
     "metadata": {},
     "output_type": "display_data"
    }
   ],
   "source": [
    "plt.figure(figsize=(17, 5))\n",
    "plt.hist(( data_free['duration'], data_ultra['duration']), bins=100, histtype='step', color=['b', 'g'],\\\n",
    "         label=['Продолжительность поездки пользователей без подписки',\\\n",
    "                'Продолжительность поездки пользователей с подпиской'])\n",
    "plt.grid(which='major')\n",
    "plt.title('Распределение продолжительности поездок')\n",
    "plt.xlabel('Продолжительность поездки, мин')\n",
    "plt.ylabel('Количество поездок')\n",
    "plt.axvline(x=duration_free_mean, ymin=0, ymax=400, color='b', linewidth=1,\\\n",
    "            label='Средняя продолжительность поедки пользователей без подписки')\n",
    "plt.axvline(x=duration_free_median, ymin=0, ymax=400, color='b', linewidth=1, linestyle='--',\\\n",
    "            label='Медианная продолжительность поездки пользователей без подписки')\n",
    "plt.axvline(x=duration_ultra_mean, ymin=0, ymax=400, color='g', linewidth=1,\\\n",
    "            label='Средняя продолжительность поездки пользователей с подпиской')\n",
    "plt.axvline(x=duration_ultra_median, ymin=0, ymax=400, color='g', linewidth=1, linestyle='--',\\\n",
    "            label='Медианная продолжительность поездки пользователей с подпиской')\n",
    "plt.legend();"
   ]
  },
  {
   "cell_type": "markdown",
   "id": "d28fd394",
   "metadata": {},
   "source": [
    "**На этом шаге данные о клиентах, поездках и подписках объединены в один датафрейм `data`. На основе датафрейма `data` создано еще два датафрейма с данными о клиентах без подписки и с подпиской, `data_free` и `data_ultra`. Рассчитаны средние и медианные значения для расстоянии и времени поездки для клиентов обеих категорий, а также визуализирована эта информация. На графиках видно, что клиенты из обеих групп имеют сходное поведение. При этом среднее значение пройденного за одну поездку расстояния для клиентов без подписки равно 3028.37 м, а для клиентов с подпиской - 3115.45 м. Средняя продолжительность поездки у клиентов без подписки 17.53 мин., а у клиентов с подпиской 18.54 мин.**"
   ]
  },
  {
   "cell_type": "markdown",
   "id": "402d620f",
   "metadata": {},
   "source": [
    "### Шаг 5. Подсчёт выручки"
   ]
  },
  {
   "cell_type": "markdown",
   "id": "5b672333",
   "metadata": {},
   "source": [
    "**Для расчета выручки необходимо округлить до следующего целого числа продолжительность поездок в каждой строке столбца `duration` датафрейма `data`.**"
   ]
  },
  {
   "cell_type": "code",
   "execution_count": 39,
   "id": "43903944",
   "metadata": {},
   "outputs": [
    {
     "data": {
      "text/html": [
       "<div>\n",
       "<style scoped>\n",
       "    .dataframe tbody tr th:only-of-type {\n",
       "        vertical-align: middle;\n",
       "    }\n",
       "\n",
       "    .dataframe tbody tr th {\n",
       "        vertical-align: top;\n",
       "    }\n",
       "\n",
       "    .dataframe thead th {\n",
       "        text-align: right;\n",
       "    }\n",
       "</style>\n",
       "<table border=\"1\" class=\"dataframe\">\n",
       "  <thead>\n",
       "    <tr style=\"text-align: right;\">\n",
       "      <th></th>\n",
       "      <th>user_id</th>\n",
       "      <th>distance</th>\n",
       "      <th>duration</th>\n",
       "      <th>date</th>\n",
       "      <th>month</th>\n",
       "      <th>name</th>\n",
       "      <th>age</th>\n",
       "      <th>city</th>\n",
       "      <th>subscription_type</th>\n",
       "      <th>minute_price</th>\n",
       "      <th>start_ride_price</th>\n",
       "      <th>subscription_fee</th>\n",
       "    </tr>\n",
       "  </thead>\n",
       "  <tbody>\n",
       "    <tr>\n",
       "      <th>0</th>\n",
       "      <td>1</td>\n",
       "      <td>4409.919140</td>\n",
       "      <td>26.0</td>\n",
       "      <td>2021-01-01</td>\n",
       "      <td>1</td>\n",
       "      <td>Кира</td>\n",
       "      <td>22</td>\n",
       "      <td>Тюмень</td>\n",
       "      <td>ultra</td>\n",
       "      <td>6</td>\n",
       "      <td>0</td>\n",
       "      <td>199</td>\n",
       "    </tr>\n",
       "    <tr>\n",
       "      <th>1</th>\n",
       "      <td>1</td>\n",
       "      <td>2617.592153</td>\n",
       "      <td>16.0</td>\n",
       "      <td>2021-01-18</td>\n",
       "      <td>1</td>\n",
       "      <td>Кира</td>\n",
       "      <td>22</td>\n",
       "      <td>Тюмень</td>\n",
       "      <td>ultra</td>\n",
       "      <td>6</td>\n",
       "      <td>0</td>\n",
       "      <td>199</td>\n",
       "    </tr>\n",
       "    <tr>\n",
       "      <th>2</th>\n",
       "      <td>1</td>\n",
       "      <td>754.159807</td>\n",
       "      <td>7.0</td>\n",
       "      <td>2021-04-20</td>\n",
       "      <td>4</td>\n",
       "      <td>Кира</td>\n",
       "      <td>22</td>\n",
       "      <td>Тюмень</td>\n",
       "      <td>ultra</td>\n",
       "      <td>6</td>\n",
       "      <td>0</td>\n",
       "      <td>199</td>\n",
       "    </tr>\n",
       "    <tr>\n",
       "      <th>3</th>\n",
       "      <td>1</td>\n",
       "      <td>2694.783254</td>\n",
       "      <td>19.0</td>\n",
       "      <td>2021-08-11</td>\n",
       "      <td>8</td>\n",
       "      <td>Кира</td>\n",
       "      <td>22</td>\n",
       "      <td>Тюмень</td>\n",
       "      <td>ultra</td>\n",
       "      <td>6</td>\n",
       "      <td>0</td>\n",
       "      <td>199</td>\n",
       "    </tr>\n",
       "    <tr>\n",
       "      <th>4</th>\n",
       "      <td>1</td>\n",
       "      <td>4028.687306</td>\n",
       "      <td>27.0</td>\n",
       "      <td>2021-08-28</td>\n",
       "      <td>8</td>\n",
       "      <td>Кира</td>\n",
       "      <td>22</td>\n",
       "      <td>Тюмень</td>\n",
       "      <td>ultra</td>\n",
       "      <td>6</td>\n",
       "      <td>0</td>\n",
       "      <td>199</td>\n",
       "    </tr>\n",
       "  </tbody>\n",
       "</table>\n",
       "</div>"
      ],
      "text/plain": [
       "   user_id     distance  duration       date  month  name  age    city  \\\n",
       "0        1  4409.919140      26.0 2021-01-01      1  Кира   22  Тюмень   \n",
       "1        1  2617.592153      16.0 2021-01-18      1  Кира   22  Тюмень   \n",
       "2        1   754.159807       7.0 2021-04-20      4  Кира   22  Тюмень   \n",
       "3        1  2694.783254      19.0 2021-08-11      8  Кира   22  Тюмень   \n",
       "4        1  4028.687306      27.0 2021-08-28      8  Кира   22  Тюмень   \n",
       "\n",
       "  subscription_type  minute_price  start_ride_price  subscription_fee  \n",
       "0             ultra             6                 0               199  \n",
       "1             ultra             6                 0               199  \n",
       "2             ultra             6                 0               199  \n",
       "3             ultra             6                 0               199  \n",
       "4             ultra             6                 0               199  "
      ]
     },
     "execution_count": 39,
     "metadata": {},
     "output_type": "execute_result"
    }
   ],
   "source": [
    "import numpy as np\n",
    "data['duration'] = np.ceil(data['duration'])\n",
    "data.head()"
   ]
  },
  {
   "cell_type": "markdown",
   "id": "1847a2dd",
   "metadata": {},
   "source": [
    "**Создадим датафрейм с агрегированными данными о поездках на основе датафрейма с объединёнными данными `data`, найдем суммарное расстояние, количество поездок и суммарное время для каждого пользователя за каждый месяц. Также отразим в таблице информацию о подписке для каждого клиента, добавим индексы и переименуем столбцы.**"
   ]
  },
  {
   "cell_type": "code",
   "execution_count": 40,
   "id": "6abd12ec",
   "metadata": {},
   "outputs": [
    {
     "data": {
      "text/html": [
       "<div>\n",
       "<style scoped>\n",
       "    .dataframe tbody tr th:only-of-type {\n",
       "        vertical-align: middle;\n",
       "    }\n",
       "\n",
       "    .dataframe tbody tr th {\n",
       "        vertical-align: top;\n",
       "    }\n",
       "\n",
       "    .dataframe thead th {\n",
       "        text-align: right;\n",
       "    }\n",
       "</style>\n",
       "<table border=\"1\" class=\"dataframe\">\n",
       "  <thead>\n",
       "    <tr style=\"text-align: right;\">\n",
       "      <th></th>\n",
       "      <th>user_id</th>\n",
       "      <th>month</th>\n",
       "      <th>rides_count</th>\n",
       "      <th>distance_sum</th>\n",
       "      <th>duration_sum</th>\n",
       "      <th>subscription_type</th>\n",
       "    </tr>\n",
       "  </thead>\n",
       "  <tbody>\n",
       "    <tr>\n",
       "      <th>0</th>\n",
       "      <td>1</td>\n",
       "      <td>1</td>\n",
       "      <td>2</td>\n",
       "      <td>7027.511294</td>\n",
       "      <td>42.0</td>\n",
       "      <td>ultra</td>\n",
       "    </tr>\n",
       "    <tr>\n",
       "      <th>1</th>\n",
       "      <td>1</td>\n",
       "      <td>4</td>\n",
       "      <td>1</td>\n",
       "      <td>754.159807</td>\n",
       "      <td>7.0</td>\n",
       "      <td>ultra</td>\n",
       "    </tr>\n",
       "    <tr>\n",
       "      <th>2</th>\n",
       "      <td>1</td>\n",
       "      <td>8</td>\n",
       "      <td>2</td>\n",
       "      <td>6723.470560</td>\n",
       "      <td>46.0</td>\n",
       "      <td>ultra</td>\n",
       "    </tr>\n",
       "    <tr>\n",
       "      <th>3</th>\n",
       "      <td>1</td>\n",
       "      <td>10</td>\n",
       "      <td>2</td>\n",
       "      <td>5809.911100</td>\n",
       "      <td>32.0</td>\n",
       "      <td>ultra</td>\n",
       "    </tr>\n",
       "    <tr>\n",
       "      <th>4</th>\n",
       "      <td>1</td>\n",
       "      <td>11</td>\n",
       "      <td>3</td>\n",
       "      <td>7003.499363</td>\n",
       "      <td>56.0</td>\n",
       "      <td>ultra</td>\n",
       "    </tr>\n",
       "    <tr>\n",
       "      <th>...</th>\n",
       "      <td>...</td>\n",
       "      <td>...</td>\n",
       "      <td>...</td>\n",
       "      <td>...</td>\n",
       "      <td>...</td>\n",
       "      <td>...</td>\n",
       "    </tr>\n",
       "    <tr>\n",
       "      <th>11295</th>\n",
       "      <td>1534</td>\n",
       "      <td>6</td>\n",
       "      <td>2</td>\n",
       "      <td>3409.468534</td>\n",
       "      <td>26.0</td>\n",
       "      <td>free</td>\n",
       "    </tr>\n",
       "    <tr>\n",
       "      <th>11296</th>\n",
       "      <td>1534</td>\n",
       "      <td>8</td>\n",
       "      <td>2</td>\n",
       "      <td>7622.453034</td>\n",
       "      <td>48.0</td>\n",
       "      <td>free</td>\n",
       "    </tr>\n",
       "    <tr>\n",
       "      <th>11297</th>\n",
       "      <td>1534</td>\n",
       "      <td>9</td>\n",
       "      <td>1</td>\n",
       "      <td>4928.173852</td>\n",
       "      <td>23.0</td>\n",
       "      <td>free</td>\n",
       "    </tr>\n",
       "    <tr>\n",
       "      <th>11298</th>\n",
       "      <td>1534</td>\n",
       "      <td>11</td>\n",
       "      <td>4</td>\n",
       "      <td>13350.015305</td>\n",
       "      <td>78.0</td>\n",
       "      <td>free</td>\n",
       "    </tr>\n",
       "    <tr>\n",
       "      <th>11299</th>\n",
       "      <td>1534</td>\n",
       "      <td>12</td>\n",
       "      <td>1</td>\n",
       "      <td>2371.711192</td>\n",
       "      <td>16.0</td>\n",
       "      <td>free</td>\n",
       "    </tr>\n",
       "  </tbody>\n",
       "</table>\n",
       "<p>11300 rows × 6 columns</p>\n",
       "</div>"
      ],
      "text/plain": [
       "       user_id  month  rides_count  distance_sum  duration_sum  \\\n",
       "0            1      1            2   7027.511294          42.0   \n",
       "1            1      4            1    754.159807           7.0   \n",
       "2            1      8            2   6723.470560          46.0   \n",
       "3            1     10            2   5809.911100          32.0   \n",
       "4            1     11            3   7003.499363          56.0   \n",
       "...        ...    ...          ...           ...           ...   \n",
       "11295     1534      6            2   3409.468534          26.0   \n",
       "11296     1534      8            2   7622.453034          48.0   \n",
       "11297     1534      9            1   4928.173852          23.0   \n",
       "11298     1534     11            4  13350.015305          78.0   \n",
       "11299     1534     12            1   2371.711192          16.0   \n",
       "\n",
       "      subscription_type  \n",
       "0                 ultra  \n",
       "1                 ultra  \n",
       "2                 ultra  \n",
       "3                 ultra  \n",
       "4                 ultra  \n",
       "...                 ...  \n",
       "11295              free  \n",
       "11296              free  \n",
       "11297              free  \n",
       "11298              free  \n",
       "11299              free  \n",
       "\n",
       "[11300 rows x 6 columns]"
      ]
     },
     "execution_count": 40,
     "metadata": {},
     "output_type": "execute_result"
    }
   ],
   "source": [
    "rides_profit = data.pivot_table(index=['user_id', 'month'], values=['distance', 'city', 'duration', 'subscription_type'], \\\n",
    "             aggfunc={'distance':'sum', 'city':'count', 'duration':'sum', 'subscription_type' : 'first'}).reset_index()\n",
    "rides_profit.columns = ['user_id', 'month', 'rides_count', 'distance_sum', 'duration_sum', 'subscription_type']\n",
    "rides_profit"
   ]
  },
  {
   "cell_type": "markdown",
   "id": "11b65261",
   "metadata": {},
   "source": [
    "**Добавим в таблицу `rides_profit` данные из таблицы `subscribtions`.**"
   ]
  },
  {
   "cell_type": "code",
   "execution_count": 41,
   "id": "f2b44793",
   "metadata": {},
   "outputs": [
    {
     "data": {
      "text/html": [
       "<div>\n",
       "<style scoped>\n",
       "    .dataframe tbody tr th:only-of-type {\n",
       "        vertical-align: middle;\n",
       "    }\n",
       "\n",
       "    .dataframe tbody tr th {\n",
       "        vertical-align: top;\n",
       "    }\n",
       "\n",
       "    .dataframe thead th {\n",
       "        text-align: right;\n",
       "    }\n",
       "</style>\n",
       "<table border=\"1\" class=\"dataframe\">\n",
       "  <thead>\n",
       "    <tr style=\"text-align: right;\">\n",
       "      <th></th>\n",
       "      <th>user_id</th>\n",
       "      <th>month</th>\n",
       "      <th>rides_count</th>\n",
       "      <th>distance_sum</th>\n",
       "      <th>duration_sum</th>\n",
       "      <th>subscription_type</th>\n",
       "      <th>minute_price</th>\n",
       "      <th>start_ride_price</th>\n",
       "      <th>subscription_fee</th>\n",
       "    </tr>\n",
       "  </thead>\n",
       "  <tbody>\n",
       "    <tr>\n",
       "      <th>0</th>\n",
       "      <td>700</td>\n",
       "      <td>1</td>\n",
       "      <td>1</td>\n",
       "      <td>2515.690719</td>\n",
       "      <td>15.0</td>\n",
       "      <td>free</td>\n",
       "      <td>8</td>\n",
       "      <td>50</td>\n",
       "      <td>0</td>\n",
       "    </tr>\n",
       "    <tr>\n",
       "      <th>1</th>\n",
       "      <td>700</td>\n",
       "      <td>2</td>\n",
       "      <td>5</td>\n",
       "      <td>13446.659764</td>\n",
       "      <td>89.0</td>\n",
       "      <td>free</td>\n",
       "      <td>8</td>\n",
       "      <td>50</td>\n",
       "      <td>0</td>\n",
       "    </tr>\n",
       "    <tr>\n",
       "      <th>2</th>\n",
       "      <td>700</td>\n",
       "      <td>3</td>\n",
       "      <td>1</td>\n",
       "      <td>3798.334905</td>\n",
       "      <td>19.0</td>\n",
       "      <td>free</td>\n",
       "      <td>8</td>\n",
       "      <td>50</td>\n",
       "      <td>0</td>\n",
       "    </tr>\n",
       "    <tr>\n",
       "      <th>3</th>\n",
       "      <td>700</td>\n",
       "      <td>4</td>\n",
       "      <td>1</td>\n",
       "      <td>2984.551206</td>\n",
       "      <td>16.0</td>\n",
       "      <td>free</td>\n",
       "      <td>8</td>\n",
       "      <td>50</td>\n",
       "      <td>0</td>\n",
       "    </tr>\n",
       "    <tr>\n",
       "      <th>4</th>\n",
       "      <td>700</td>\n",
       "      <td>6</td>\n",
       "      <td>2</td>\n",
       "      <td>5927.650988</td>\n",
       "      <td>29.0</td>\n",
       "      <td>free</td>\n",
       "      <td>8</td>\n",
       "      <td>50</td>\n",
       "      <td>0</td>\n",
       "    </tr>\n",
       "    <tr>\n",
       "      <th>...</th>\n",
       "      <td>...</td>\n",
       "      <td>...</td>\n",
       "      <td>...</td>\n",
       "      <td>...</td>\n",
       "      <td>...</td>\n",
       "      <td>...</td>\n",
       "      <td>...</td>\n",
       "      <td>...</td>\n",
       "      <td>...</td>\n",
       "    </tr>\n",
       "    <tr>\n",
       "      <th>11295</th>\n",
       "      <td>699</td>\n",
       "      <td>6</td>\n",
       "      <td>1</td>\n",
       "      <td>4072.797406</td>\n",
       "      <td>17.0</td>\n",
       "      <td>ultra</td>\n",
       "      <td>6</td>\n",
       "      <td>0</td>\n",
       "      <td>199</td>\n",
       "    </tr>\n",
       "    <tr>\n",
       "      <th>11296</th>\n",
       "      <td>699</td>\n",
       "      <td>8</td>\n",
       "      <td>2</td>\n",
       "      <td>7018.324143</td>\n",
       "      <td>45.0</td>\n",
       "      <td>ultra</td>\n",
       "      <td>6</td>\n",
       "      <td>0</td>\n",
       "      <td>199</td>\n",
       "    </tr>\n",
       "    <tr>\n",
       "      <th>11297</th>\n",
       "      <td>699</td>\n",
       "      <td>9</td>\n",
       "      <td>2</td>\n",
       "      <td>6364.861911</td>\n",
       "      <td>31.0</td>\n",
       "      <td>ultra</td>\n",
       "      <td>6</td>\n",
       "      <td>0</td>\n",
       "      <td>199</td>\n",
       "    </tr>\n",
       "    <tr>\n",
       "      <th>11298</th>\n",
       "      <td>699</td>\n",
       "      <td>10</td>\n",
       "      <td>1</td>\n",
       "      <td>4707.845501</td>\n",
       "      <td>16.0</td>\n",
       "      <td>ultra</td>\n",
       "      <td>6</td>\n",
       "      <td>0</td>\n",
       "      <td>199</td>\n",
       "    </tr>\n",
       "    <tr>\n",
       "      <th>11299</th>\n",
       "      <td>699</td>\n",
       "      <td>12</td>\n",
       "      <td>1</td>\n",
       "      <td>3202.890770</td>\n",
       "      <td>26.0</td>\n",
       "      <td>ultra</td>\n",
       "      <td>6</td>\n",
       "      <td>0</td>\n",
       "      <td>199</td>\n",
       "    </tr>\n",
       "  </tbody>\n",
       "</table>\n",
       "<p>11300 rows × 9 columns</p>\n",
       "</div>"
      ],
      "text/plain": [
       "       user_id  month  rides_count  distance_sum  duration_sum  \\\n",
       "0          700      1            1   2515.690719          15.0   \n",
       "1          700      2            5  13446.659764          89.0   \n",
       "2          700      3            1   3798.334905          19.0   \n",
       "3          700      4            1   2984.551206          16.0   \n",
       "4          700      6            2   5927.650988          29.0   \n",
       "...        ...    ...          ...           ...           ...   \n",
       "11295      699      6            1   4072.797406          17.0   \n",
       "11296      699      8            2   7018.324143          45.0   \n",
       "11297      699      9            2   6364.861911          31.0   \n",
       "11298      699     10            1   4707.845501          16.0   \n",
       "11299      699     12            1   3202.890770          26.0   \n",
       "\n",
       "      subscription_type  minute_price  start_ride_price  subscription_fee  \n",
       "0                  free             8                50                 0  \n",
       "1                  free             8                50                 0  \n",
       "2                  free             8                50                 0  \n",
       "3                  free             8                50                 0  \n",
       "4                  free             8                50                 0  \n",
       "...                 ...           ...               ...               ...  \n",
       "11295             ultra             6                 0               199  \n",
       "11296             ultra             6                 0               199  \n",
       "11297             ultra             6                 0               199  \n",
       "11298             ultra             6                 0               199  \n",
       "11299             ultra             6                 0               199  \n",
       "\n",
       "[11300 rows x 9 columns]"
      ]
     },
     "execution_count": 41,
     "metadata": {},
     "output_type": "execute_result"
    }
   ],
   "source": [
    "rides_profit = rides_profit.merge(subscriptions, on='subscription_type', how='right')\n",
    "rides_profit"
   ]
  },
  {
   "cell_type": "markdown",
   "id": "b27af013",
   "metadata": {},
   "source": [
    "**Добавим в датафрейм столбец с помесячной выручкой, которую принёс каждый пользователь, проведя соответствующие расчеты.** "
   ]
  },
  {
   "cell_type": "code",
   "execution_count": 42,
   "id": "17c4e745",
   "metadata": {},
   "outputs": [
    {
     "data": {
      "text/html": [
       "<div>\n",
       "<style scoped>\n",
       "    .dataframe tbody tr th:only-of-type {\n",
       "        vertical-align: middle;\n",
       "    }\n",
       "\n",
       "    .dataframe tbody tr th {\n",
       "        vertical-align: top;\n",
       "    }\n",
       "\n",
       "    .dataframe thead th {\n",
       "        text-align: right;\n",
       "    }\n",
       "</style>\n",
       "<table border=\"1\" class=\"dataframe\">\n",
       "  <thead>\n",
       "    <tr style=\"text-align: right;\">\n",
       "      <th></th>\n",
       "      <th>user_id</th>\n",
       "      <th>month</th>\n",
       "      <th>rides_count</th>\n",
       "      <th>distance_sum</th>\n",
       "      <th>duration_sum</th>\n",
       "      <th>subscription_type</th>\n",
       "      <th>minute_price</th>\n",
       "      <th>start_ride_price</th>\n",
       "      <th>subscription_fee</th>\n",
       "      <th>profit</th>\n",
       "    </tr>\n",
       "  </thead>\n",
       "  <tbody>\n",
       "    <tr>\n",
       "      <th>0</th>\n",
       "      <td>700</td>\n",
       "      <td>1</td>\n",
       "      <td>1</td>\n",
       "      <td>2515.690719</td>\n",
       "      <td>15.0</td>\n",
       "      <td>free</td>\n",
       "      <td>8</td>\n",
       "      <td>50</td>\n",
       "      <td>0</td>\n",
       "      <td>170.0</td>\n",
       "    </tr>\n",
       "    <tr>\n",
       "      <th>1</th>\n",
       "      <td>700</td>\n",
       "      <td>2</td>\n",
       "      <td>5</td>\n",
       "      <td>13446.659764</td>\n",
       "      <td>89.0</td>\n",
       "      <td>free</td>\n",
       "      <td>8</td>\n",
       "      <td>50</td>\n",
       "      <td>0</td>\n",
       "      <td>962.0</td>\n",
       "    </tr>\n",
       "    <tr>\n",
       "      <th>2</th>\n",
       "      <td>700</td>\n",
       "      <td>3</td>\n",
       "      <td>1</td>\n",
       "      <td>3798.334905</td>\n",
       "      <td>19.0</td>\n",
       "      <td>free</td>\n",
       "      <td>8</td>\n",
       "      <td>50</td>\n",
       "      <td>0</td>\n",
       "      <td>202.0</td>\n",
       "    </tr>\n",
       "    <tr>\n",
       "      <th>3</th>\n",
       "      <td>700</td>\n",
       "      <td>4</td>\n",
       "      <td>1</td>\n",
       "      <td>2984.551206</td>\n",
       "      <td>16.0</td>\n",
       "      <td>free</td>\n",
       "      <td>8</td>\n",
       "      <td>50</td>\n",
       "      <td>0</td>\n",
       "      <td>178.0</td>\n",
       "    </tr>\n",
       "    <tr>\n",
       "      <th>4</th>\n",
       "      <td>700</td>\n",
       "      <td>6</td>\n",
       "      <td>2</td>\n",
       "      <td>5927.650988</td>\n",
       "      <td>29.0</td>\n",
       "      <td>free</td>\n",
       "      <td>8</td>\n",
       "      <td>50</td>\n",
       "      <td>0</td>\n",
       "      <td>332.0</td>\n",
       "    </tr>\n",
       "    <tr>\n",
       "      <th>...</th>\n",
       "      <td>...</td>\n",
       "      <td>...</td>\n",
       "      <td>...</td>\n",
       "      <td>...</td>\n",
       "      <td>...</td>\n",
       "      <td>...</td>\n",
       "      <td>...</td>\n",
       "      <td>...</td>\n",
       "      <td>...</td>\n",
       "      <td>...</td>\n",
       "    </tr>\n",
       "    <tr>\n",
       "      <th>11295</th>\n",
       "      <td>699</td>\n",
       "      <td>6</td>\n",
       "      <td>1</td>\n",
       "      <td>4072.797406</td>\n",
       "      <td>17.0</td>\n",
       "      <td>ultra</td>\n",
       "      <td>6</td>\n",
       "      <td>0</td>\n",
       "      <td>199</td>\n",
       "      <td>301.0</td>\n",
       "    </tr>\n",
       "    <tr>\n",
       "      <th>11296</th>\n",
       "      <td>699</td>\n",
       "      <td>8</td>\n",
       "      <td>2</td>\n",
       "      <td>7018.324143</td>\n",
       "      <td>45.0</td>\n",
       "      <td>ultra</td>\n",
       "      <td>6</td>\n",
       "      <td>0</td>\n",
       "      <td>199</td>\n",
       "      <td>469.0</td>\n",
       "    </tr>\n",
       "    <tr>\n",
       "      <th>11297</th>\n",
       "      <td>699</td>\n",
       "      <td>9</td>\n",
       "      <td>2</td>\n",
       "      <td>6364.861911</td>\n",
       "      <td>31.0</td>\n",
       "      <td>ultra</td>\n",
       "      <td>6</td>\n",
       "      <td>0</td>\n",
       "      <td>199</td>\n",
       "      <td>385.0</td>\n",
       "    </tr>\n",
       "    <tr>\n",
       "      <th>11298</th>\n",
       "      <td>699</td>\n",
       "      <td>10</td>\n",
       "      <td>1</td>\n",
       "      <td>4707.845501</td>\n",
       "      <td>16.0</td>\n",
       "      <td>ultra</td>\n",
       "      <td>6</td>\n",
       "      <td>0</td>\n",
       "      <td>199</td>\n",
       "      <td>295.0</td>\n",
       "    </tr>\n",
       "    <tr>\n",
       "      <th>11299</th>\n",
       "      <td>699</td>\n",
       "      <td>12</td>\n",
       "      <td>1</td>\n",
       "      <td>3202.890770</td>\n",
       "      <td>26.0</td>\n",
       "      <td>ultra</td>\n",
       "      <td>6</td>\n",
       "      <td>0</td>\n",
       "      <td>199</td>\n",
       "      <td>355.0</td>\n",
       "    </tr>\n",
       "  </tbody>\n",
       "</table>\n",
       "<p>11300 rows × 10 columns</p>\n",
       "</div>"
      ],
      "text/plain": [
       "       user_id  month  rides_count  distance_sum  duration_sum  \\\n",
       "0          700      1            1   2515.690719          15.0   \n",
       "1          700      2            5  13446.659764          89.0   \n",
       "2          700      3            1   3798.334905          19.0   \n",
       "3          700      4            1   2984.551206          16.0   \n",
       "4          700      6            2   5927.650988          29.0   \n",
       "...        ...    ...          ...           ...           ...   \n",
       "11295      699      6            1   4072.797406          17.0   \n",
       "11296      699      8            2   7018.324143          45.0   \n",
       "11297      699      9            2   6364.861911          31.0   \n",
       "11298      699     10            1   4707.845501          16.0   \n",
       "11299      699     12            1   3202.890770          26.0   \n",
       "\n",
       "      subscription_type  minute_price  start_ride_price  subscription_fee  \\\n",
       "0                  free             8                50                 0   \n",
       "1                  free             8                50                 0   \n",
       "2                  free             8                50                 0   \n",
       "3                  free             8                50                 0   \n",
       "4                  free             8                50                 0   \n",
       "...                 ...           ...               ...               ...   \n",
       "11295             ultra             6                 0               199   \n",
       "11296             ultra             6                 0               199   \n",
       "11297             ultra             6                 0               199   \n",
       "11298             ultra             6                 0               199   \n",
       "11299             ultra             6                 0               199   \n",
       "\n",
       "       profit  \n",
       "0       170.0  \n",
       "1       962.0  \n",
       "2       202.0  \n",
       "3       178.0  \n",
       "4       332.0  \n",
       "...       ...  \n",
       "11295   301.0  \n",
       "11296   469.0  \n",
       "11297   385.0  \n",
       "11298   295.0  \n",
       "11299   355.0  \n",
       "\n",
       "[11300 rows x 10 columns]"
      ]
     },
     "execution_count": 42,
     "metadata": {},
     "output_type": "execute_result"
    }
   ],
   "source": [
    "rides_profit['profit'] = rides_profit['rides_count'] * rides_profit['start_ride_price'] +\\\n",
    "                         rides_profit['duration_sum'] * rides_profit['minute_price'] +\\\n",
    "                         rides_profit['subscription_fee']\n",
    "rides_profit"
   ]
  },
  {
   "cell_type": "markdown",
   "id": "529dd570",
   "metadata": {},
   "source": [
    "**На этом шаге создан датафрейм `rides_profit` с информацией о суммарном расстоянии, количестве поездок, суммарном времени поездок и выручкой для каждого клиента за каждый месяц.**"
   ]
  },
  {
   "cell_type": "markdown",
   "id": "41545ac0",
   "metadata": {},
   "source": [
    "### Шаг 6. Проверка гипотез"
   ]
  },
  {
   "cell_type": "markdown",
   "id": "073c5ed1",
   "metadata": {},
   "source": [
    "**Проверим гипотезу о том, что пользователи с подпиской тратят больше времени на поездки. Будем использовать исходные данные о продолжительности каждой сессии — отдельно для подписчиков и тех, у кого нет подписки.**"
   ]
  },
  {
   "cell_type": "code",
   "execution_count": 43,
   "id": "ea5b63a8",
   "metadata": {},
   "outputs": [
    {
     "name": "stdout",
     "output_type": "stream",
     "text": [
      "p-значение: 5.0543657139638576e-48\n",
      "Отвергаем нулевую гипотезу: пользователи с подпиской тратят больше времени на поездки, чем пользователи без подписки.\n"
     ]
    }
   ],
   "source": [
    "from scipy import stats as st\n",
    "import pandas as pd\n",
    "# H0 - пользователи с подпиской тратят столько же времени на поездки, сколько и пользователи без подписки\n",
    "# Н1 - пользователи с подпиской тратят больше времени на поездки, чем пользователи без подписки\n",
    "\n",
    "# Выборка продолжительности поездок для коиентов с подпиской\n",
    "duraton_ultra = data_ultra['duration']\n",
    "\n",
    "# Среднее значение продолжительности поездок для клиентов без подписки\n",
    "duration_free_mean = data_free['duration'].mean()\n",
    "\n",
    "# Уровень статистической значимости\n",
    "alpha = 0.05 \n",
    "\n",
    "# Проверяем одностороннюю гипотезу\n",
    "results = st.ttest_1samp(\n",
    "    duraton_ultra, \n",
    "    duration_free_mean,\n",
    "    alternative='greater')\n",
    "\n",
    "print('p-значение:', results.pvalue)\n",
    "\n",
    "if (results.pvalue < alpha):\n",
    "    print('Отвергаем нулевую гипотезу: пользователи с подпиской тратят больше времени на поездки, чем пользователи без подписки.')\n",
    "else:\n",
    "    print('Не отвергаем нулевую гипотезу: пользователи с подпиской тратят столько же времени на поездки, сколько и пользователи без подписки.') "
   ]
  },
  {
   "cell_type": "markdown",
   "id": "7a6eb26f",
   "metadata": {},
   "source": [
    "**Для проверки выведем рассчитанные на предыдущих этапах значения средней продолжительности поездки для клиентов без подписки и с подпиской.**"
   ]
  },
  {
   "cell_type": "code",
   "execution_count": 44,
   "id": "073a9a68",
   "metadata": {},
   "outputs": [
    {
     "name": "stdout",
     "output_type": "stream",
     "text": [
      "Среднее значение продолжительности поездки для клиентов без подписки равно 17.530771268800226 мин.\n",
      "\n",
      "Среднее значение продолжительности поездки для клиентов с подпиской равно 18.54 мин.\n"
     ]
    }
   ],
   "source": [
    "print(f'Среднее значение продолжительности поездки для клиентов без подписки равно {duration_free_mean} мин.')\n",
    "print()\n",
    "print(f'Среднее значение продолжительности поездки для клиентов с подпиской равно {duration_ultra_mean} мин.')"
   ]
  },
  {
   "cell_type": "markdown",
   "id": "a094f480",
   "metadata": {},
   "source": [
    "**Проверим гипотезу о том, что среднее расстояние, которое проезжают пользователи с подпиской за одну поездку, не превышает 3130 м (расстояние одной поездки в 3130 метров — оптимальное с точки зрения износа самоката). Поскольку для бизнеса важно, чтобы самока тпроезжали не больше 3130 метров за одну поездку, альтернативную гипотезу сформулируем следующим образом: среднее расстояние, которое проезжают пользователи с подпиской больше 3130 м.**"
   ]
  },
  {
   "cell_type": "code",
   "execution_count": 45,
   "id": "6c4c6206",
   "metadata": {},
   "outputs": [
    {
     "name": "stdout",
     "output_type": "stream",
     "text": [
      "p-значение: 0.9195368847849785\n",
      "Не отвергаем нулевую гипотезу: пользователи с подпиской в среднем проезжают не больше 3130 м. за одну поездку.\n"
     ]
    }
   ],
   "source": [
    "# H0 - среднее расстояние, которое проезжают пользователи с подпиской равно 3130 м.\n",
    "# Н1 - среднее расстояние, которое проезжают пользователи с подпиской больше 3130 м.\n",
    "\n",
    "# Выборка помесячных выручек для коиентов с подпиской\n",
    "distance_ultra = data_ultra['distance']\n",
    "\n",
    "# Оптимальное расстояние с точки зрения износа самоката\n",
    "interested_value = 3130\n",
    "\n",
    "# Уровень статистической значимости\n",
    "alpha = 0.05 \n",
    "\n",
    "# Проверяем одностороннюю гипотезу\n",
    "results = st.ttest_1samp(\n",
    "    distance_ultra, \n",
    "    interested_value,\n",
    "    alternative='greater')\n",
    "\n",
    "print('p-значение:', results.pvalue)\n",
    "\n",
    "if (results.pvalue < alpha):\n",
    "    print('Отвергаем нулевую гипотезу: пользователи с подпиской в среднем проезжают больше 3130 м. за одну поездку.')\n",
    "else:\n",
    "    print('Не отвергаем нулевую гипотезу: пользователи с подпиской в среднем проезжают не больше 3130 м. за одну поездку.') "
   ]
  },
  {
   "cell_type": "markdown",
   "id": "152917d8",
   "metadata": {},
   "source": [
    "**Для проверки выведем рассчитанное на предыдущих этапах значение среднего расстояния, пройденного за одну поездку, для клиентов с подпиской.**"
   ]
  },
  {
   "cell_type": "code",
   "execution_count": 46,
   "id": "4215b30b",
   "metadata": {},
   "outputs": [
    {
     "name": "stdout",
     "output_type": "stream",
     "text": [
      "Среднее значение расстояния, пройденного за одну поездку, для клиентов с подпиской равно 3115.45 м.\n"
     ]
    }
   ],
   "source": [
    "print(f'Среднее значение расстояния, пройденного за одну поездку, для клиентов с подпиской равно {distance_ultra_mean} м.')"
   ]
  },
  {
   "cell_type": "markdown",
   "id": "69e0c33f",
   "metadata": {},
   "source": [
    "**Проверим гипотезу о том, что помесячная выручка от пользователей с подпиской по месяцам выше, чем выручка от пользователей без подписки.**"
   ]
  },
  {
   "cell_type": "code",
   "execution_count": 47,
   "id": "b90f6490",
   "metadata": {},
   "outputs": [
    {
     "name": "stdout",
     "output_type": "stream",
     "text": [
      "p-значение: 1.126593965532943e-134\n",
      "Отвергаем нулевую гипотезу: помесячная выручка от пользователей с подпиской больше помесячной выручки от пользователей без подписки.\n"
     ]
    }
   ],
   "source": [
    "# H0 - помесячная выручка от пользователей с подпиской равна помесячной выручке от пользователей без подписки.\n",
    "# Н1 - помесячная выручка от пользователей с подпиской больше помесячной выручке от пользователей без подписки.\n",
    "\n",
    "# Выборка дистанций поездок для коиентов с подпиской\n",
    "profit_ultra = rides_profit.query('subscription_type == \"ultra\"')['profit']\n",
    "\n",
    "# Среднее значение месячной выручки для клиентов без подписки\n",
    "profit_free_mean = rides_profit.query('subscription_type == \"free\"')['profit'].mean()\n",
    "\n",
    "# Уровень статистической значимости\n",
    "alpha = 0.05 \n",
    "\n",
    "# Проверяем одностороннюю гипотезу\n",
    "results = st.ttest_1samp(\n",
    "    profit_ultra, \n",
    "    profit_free_mean,\n",
    "    alternative='greater')\n",
    "\n",
    "print('p-значение:', results.pvalue)\n",
    "\n",
    "if (results.pvalue < alpha):\n",
    "    print('Отвергаем нулевую гипотезу: помесячная выручка от пользователей с подпиской больше помесячной выручки от пользователей без подписки.')\n",
    "else:\n",
    "    print('Не отвергаем нулевую гипотезу: помесячная выручка от пользователей с подпиской равна помесячной выручке от пользователей без подписки.') "
   ]
  },
  {
   "cell_type": "markdown",
   "id": "bde930bc",
   "metadata": {},
   "source": [
    "**Для проверки рассчитаем средние значения помесячной выручки для клиентов без подписки и с подпиской.**"
   ]
  },
  {
   "cell_type": "code",
   "execution_count": 48,
   "id": "94706ee3",
   "metadata": {},
   "outputs": [
    {
     "name": "stdout",
     "output_type": "stream",
     "text": [
      "Среднее значение помесячной выручки для клиентов без подписки равно 329.3326437121324 р.\n",
      "Среднее значение помесячной выручки для клиентов с подпиской равно 362.7921906022502 р.\n"
     ]
    }
   ],
   "source": [
    "profit_free_mean = rides_profit.query('subscription_type == \"free\"')['profit'].mean()\n",
    "profit_ultra_mean = rides_profit.query('subscription_type == \"ultra\"')['profit'].mean()\n",
    "print(f'Среднее значение помесячной выручки для клиентов без подписки равно {profit_free_mean} р.')\n",
    "print(f'Среднее значение помесячной выручки для клиентов с подпиской равно {profit_ultra_mean} р.')"
   ]
  },
  {
   "cell_type": "markdown",
   "id": "b01713b1",
   "metadata": {},
   "source": [
    "**Если представить такую ситуацию: техническая команда сервиса обновила сервера, с которыми взаимодействует мобильное приложение. Она надеется, что из-за этого количество обращений в техподдержку значимо снизилось. Некоторый файл содержит для каждого пользователя данные о количестве обращений до обновления и после него. То, для проверки этой гипотезы, нам бы понадобился тест гипотезы о равенстве среднего значения генеральной совокупности до и после изменения.**\n",
    "\n",
    "**В этом случае:**\n",
    "**Н0 - среднее значение количества обращений в техподдержку до и после обновления равны.**\n",
    "**Н1 - среднее значение количества обращений в техподдержку до и после обновления не равны.**\n",
    "\n",
    "**Для проверки гипотезы о равенстве среднего генеральной совокупности для зависимых (парных) выборок применим метод `scipy.stats.ttest_rel()`.**"
   ]
  },
  {
   "cell_type": "markdown",
   "id": "61213c5e",
   "metadata": {},
   "source": [
    "### Шаг 7. Распределения"
   ]
  },
  {
   "cell_type": "markdown",
   "id": "c934453c",
   "metadata": {},
   "source": [
    "**Решим следующую задачу.**\n",
    "\n",
    "**Отделу маркетинга GoFast поставили задачу: нужно провести акцию с раздачей промокодов на один бесплатный месяц подписки, в рамках которой как минимум 100 существующих клиентов должны продлить эту подписку. То есть по завершении периода действия подписки пользователь может либо отказаться от неё, либо продлить, совершив соответствующий платёж. \n",
    "Эта акция уже проводилась ранее и по итогу выяснилось, что после бесплатного пробного периода подписку продлевают 10% пользователей. Выясните, какое минимальное количество промокодов нужно разослать, чтобы вероятность не выполнить план была примерно 5 %. Подберите параметры распределения, описывающего эту ситуацию, постройте график распределения и сформулируйте ответ на вопрос о количестве промокодов.**"
   ]
  },
  {
   "cell_type": "code",
   "execution_count": 49,
   "id": "95cd1d51",
   "metadata": {},
   "outputs": [
    {
     "name": "stdout",
     "output_type": "stream",
     "text": [
      "0.050650790692463\n"
     ]
    }
   ],
   "source": [
    "from math import sqrt\n",
    "from scipy import stats as st\n",
    "\n",
    "# Задаём параметры биномиального распределения\n",
    "n = 1168\n",
    "p = 0.1\n",
    "\n",
    "# Зададим мат.ожидание и стандартное отклонение нормального распределения равными\n",
    "# мат.ожиданию и стандартному отклонению биномиального распределения\n",
    "mu = n * p\n",
    "sigma = sqrt(n * p * (1 - p))\n",
    "\n",
    "# Задаём нормальное распределение\n",
    "distr = st.norm(mu, sigma) \n",
    "\n",
    "# Считаем вероятность хвоста слева от 100\n",
    "result = distr.cdf(100)\n",
    "print(result)"
   ]
  },
  {
   "cell_type": "code",
   "execution_count": 50,
   "id": "0345c5dd",
   "metadata": {},
   "outputs": [
    {
     "data": {
      "text/plain": [
       "0.05074436553943629"
      ]
     },
     "execution_count": 50,
     "metadata": {},
     "output_type": "execute_result"
    }
   ],
   "source": [
    "#Код ревьюера\n",
    "from scipy.stats import binom\n",
    "\n",
    "binom(1160, 0.1).cdf(100 - 1)"
   ]
  },
  {
   "cell_type": "markdown",
   "id": "9c224c58",
   "metadata": {},
   "source": [
    "**Методом подбоа найдем такое значение `n`, при котором вероятность получить менее 100 подписок была примерно 5%. При `n = 1160` такая вероятность равна 5.07%.**"
   ]
  },
  {
   "cell_type": "markdown",
   "id": "0250ae22",
   "metadata": {},
   "source": [
    "**Решим следующую задачу.**\n",
    "\n",
    "**Отдел маркетинга рассылает клиентам push-уведомления в мобильном приложении. Клиенты могут открыть его или не открывать. Известно, что уведомления открывают около 40% получивших клиентов. Отдел планирует разослать 1 млн уведомлений. С помощью аппроксимации постройте примерный график распределения и оцените вероятность того, что уведомление откроют не более 399,5 тыс. пользователей.**"
   ]
  },
  {
   "cell_type": "code",
   "execution_count": 51,
   "id": "9e07faea",
   "metadata": {},
   "outputs": [
    {
     "name": "stdout",
     "output_type": "stream",
     "text": [
      "0.15371708296369768\n"
     ]
    }
   ],
   "source": [
    "# Задаём параметры биномиального распределения\n",
    "n = 1000000\n",
    "p = 0.4\n",
    "\n",
    "# Зададим мат.ожидание и стандартное отклонение нормального распределения равными\n",
    "# мат.ожиданию и стандартному отклонению биномиального распределения\n",
    "mu = n * p\n",
    "sigma = sqrt(n * p * (1 - p))\n",
    "\n",
    "# Задаём нормальное распределение\n",
    "distr = st.norm(mu, sigma) \n",
    "\n",
    "# Считаем вероятность хвоста слева от 399,5 тысяч\n",
    "result = distr.cdf(399500)\n",
    "print(result)"
   ]
  },
  {
   "cell_type": "markdown",
   "id": "2e4f71e1",
   "metadata": {},
   "source": [
    "**Вероятность того, что уведомление откроют не более 399,5 тыс. пользователей составляет 15.37%.**"
   ]
  },
  {
   "cell_type": "markdown",
   "id": "408e2c2a",
   "metadata": {},
   "source": [
    "### Шаг 8. Написать общий вывод"
   ]
  },
  {
   "cell_type": "markdown",
   "id": "683957b2",
   "metadata": {},
   "source": [
    "**В ходе работы над проектом данные были считаны из файлов и сохранены в переменные. Была получена основная информация о датафреймах.**\n",
    "\n",
    "**Была проведена предобработка данных**\n",
    "- **типы данных столбцов преведены в соответствие с их содержанием;**\n",
    "- **в датафрейм `rides` добавлен столбец с номером месяца поездки;**\n",
    "- **изучены пропуски данных (пропуски отсутствуют);**\n",
    "- **проверено наличие дубликатов в данных (явные дубликаты удалены, неявные дубликаты отсутствуют);**\n",
    "\n",
    "**На этом этапе проведен исследовательский анализ данных. Исследована информация о пользователях и поездках:**\n",
    "- **частота встречаемости городов;**\n",
    "- **соотношение пользователей с подпиской и без подписки;**\n",
    "- **возраст пользователей;**\n",
    "- **расстояние, которое пользователь преодолел за одну поездку;**\n",
    "- **продолжительность поездок.**\n",
    "\n",
    "**Было создано несколько датафреймов:**\n",
    "- **один датафрейм с данными о клиентах, поездках и подписках;**\n",
    "- **с данными о клиентах без подписки и с подпиской.**\n",
    "\n",
    "**Была визуализирована информация о расстоянии и времени поездки для клиентов обеих категорий, рассчитаны средние и медианные значения для этих параметров.**\n",
    "\n",
    "**Создан датафрейм с информацией о суммарном расстоянии, количестве поездок, суммарном времени поездок и выручкой для каждого клиента за каждый месяц.**\n",
    "\n",
    "**Были проверены некоторые гипотезы, которые могут помочь бизнесу вырасти.**"
   ]
  }
 ],
 "metadata": {
  "ExecuteTimeLog": [
   {
    "duration": 108,
    "start_time": "2024-03-20T10:21:03.503Z"
   },
   {
    "duration": 391,
    "start_time": "2024-03-20T10:21:36.339Z"
   },
   {
    "duration": 93,
    "start_time": "2024-03-20T10:21:36.732Z"
   },
   {
    "duration": 117,
    "start_time": "2024-03-20T10:22:03.587Z"
   },
   {
    "duration": 87,
    "start_time": "2024-03-20T10:22:54.457Z"
   },
   {
    "duration": 15,
    "start_time": "2024-03-20T10:23:12.992Z"
   },
   {
    "duration": 12,
    "start_time": "2024-03-20T10:24:47.619Z"
   },
   {
    "duration": 447,
    "start_time": "2024-03-20T10:24:57.482Z"
   },
   {
    "duration": 185,
    "start_time": "2024-03-20T10:24:57.931Z"
   },
   {
    "duration": 10,
    "start_time": "2024-03-20T10:24:58.117Z"
   },
   {
    "duration": 476,
    "start_time": "2024-03-20T10:27:15.713Z"
   },
   {
    "duration": 150,
    "start_time": "2024-03-20T10:27:16.192Z"
   },
   {
    "duration": 0,
    "start_time": "2024-03-20T10:27:16.344Z"
   },
   {
    "duration": 412,
    "start_time": "2024-03-20T10:27:57.122Z"
   },
   {
    "duration": 110,
    "start_time": "2024-03-20T10:27:57.536Z"
   },
   {
    "duration": 15,
    "start_time": "2024-03-20T10:27:57.649Z"
   },
   {
    "duration": 433,
    "start_time": "2024-03-20T10:28:37.855Z"
   },
   {
    "duration": 69,
    "start_time": "2024-03-20T10:28:38.291Z"
   },
   {
    "duration": 15,
    "start_time": "2024-03-20T10:28:38.362Z"
   },
   {
    "duration": 94,
    "start_time": "2024-03-20T10:32:09.091Z"
   },
   {
    "duration": 107,
    "start_time": "2024-03-20T10:34:35.786Z"
   },
   {
    "duration": 106,
    "start_time": "2024-03-20T10:34:45.196Z"
   },
   {
    "duration": 12,
    "start_time": "2024-03-20T10:36:26.687Z"
   },
   {
    "duration": 416,
    "start_time": "2024-03-20T10:39:44.852Z"
   },
   {
    "duration": 72,
    "start_time": "2024-03-20T10:39:45.270Z"
   },
   {
    "duration": 14,
    "start_time": "2024-03-20T10:39:45.344Z"
   },
   {
    "duration": 51,
    "start_time": "2024-03-20T10:39:45.360Z"
   },
   {
    "duration": 29,
    "start_time": "2024-03-20T10:39:45.413Z"
   },
   {
    "duration": 12,
    "start_time": "2024-03-20T10:40:37.278Z"
   },
   {
    "duration": 1214,
    "start_time": "2024-03-20T11:23:56.442Z"
   },
   {
    "duration": 9,
    "start_time": "2024-03-20T11:24:39.849Z"
   },
   {
    "duration": 18,
    "start_time": "2024-03-20T11:24:54.930Z"
   },
   {
    "duration": 11,
    "start_time": "2024-03-20T11:25:07.632Z"
   },
   {
    "duration": 6,
    "start_time": "2024-03-20T11:33:34.968Z"
   },
   {
    "duration": 10,
    "start_time": "2024-03-20T11:33:44.247Z"
   },
   {
    "duration": 118,
    "start_time": "2024-03-20T11:35:18.189Z"
   },
   {
    "duration": 7,
    "start_time": "2024-03-20T11:36:39.624Z"
   },
   {
    "duration": 7,
    "start_time": "2024-03-20T11:36:55.005Z"
   },
   {
    "duration": 9,
    "start_time": "2024-03-20T11:37:17.468Z"
   },
   {
    "duration": 6,
    "start_time": "2024-03-20T11:37:35.611Z"
   },
   {
    "duration": 99,
    "start_time": "2024-03-20T11:38:28.010Z"
   },
   {
    "duration": 8,
    "start_time": "2024-03-20T11:41:18.239Z"
   },
   {
    "duration": 11,
    "start_time": "2024-03-20T11:41:38.563Z"
   },
   {
    "duration": 6,
    "start_time": "2024-03-20T11:41:52.014Z"
   },
   {
    "duration": 103,
    "start_time": "2024-03-20T11:42:21.650Z"
   },
   {
    "duration": 7,
    "start_time": "2024-03-20T11:42:30.820Z"
   },
   {
    "duration": 5,
    "start_time": "2024-03-20T11:42:34.996Z"
   },
   {
    "duration": 7,
    "start_time": "2024-03-20T11:43:00.061Z"
   },
   {
    "duration": 6,
    "start_time": "2024-03-20T11:43:20.165Z"
   },
   {
    "duration": 6,
    "start_time": "2024-03-20T11:45:56.123Z"
   },
   {
    "duration": 15,
    "start_time": "2024-03-20T11:46:19.736Z"
   },
   {
    "duration": 109,
    "start_time": "2024-03-20T11:49:40.461Z"
   },
   {
    "duration": 5,
    "start_time": "2024-03-20T11:50:25.800Z"
   },
   {
    "duration": 5,
    "start_time": "2024-03-20T11:50:55.363Z"
   },
   {
    "duration": 485,
    "start_time": "2024-03-20T11:52:17.884Z"
   },
   {
    "duration": 75,
    "start_time": "2024-03-20T11:52:18.371Z"
   },
   {
    "duration": 13,
    "start_time": "2024-03-20T11:52:18.448Z"
   },
   {
    "duration": 24,
    "start_time": "2024-03-20T11:52:18.464Z"
   },
   {
    "duration": 20,
    "start_time": "2024-03-20T11:52:18.490Z"
   },
   {
    "duration": 11,
    "start_time": "2024-03-20T11:52:18.511Z"
   },
   {
    "duration": 29,
    "start_time": "2024-03-20T11:52:18.523Z"
   },
   {
    "duration": 9,
    "start_time": "2024-03-20T11:52:18.553Z"
   },
   {
    "duration": 16,
    "start_time": "2024-03-20T11:52:18.564Z"
   },
   {
    "duration": 11,
    "start_time": "2024-03-20T11:52:18.583Z"
   },
   {
    "duration": 12,
    "start_time": "2024-03-20T11:52:18.596Z"
   },
   {
    "duration": 16,
    "start_time": "2024-03-20T11:52:18.609Z"
   },
   {
    "duration": 16,
    "start_time": "2024-03-20T11:52:18.627Z"
   },
   {
    "duration": 17,
    "start_time": "2024-03-20T11:52:18.645Z"
   },
   {
    "duration": 6,
    "start_time": "2024-03-20T11:52:18.665Z"
   },
   {
    "duration": 7,
    "start_time": "2024-03-20T11:52:18.673Z"
   },
   {
    "duration": 6,
    "start_time": "2024-03-20T11:52:18.691Z"
   },
   {
    "duration": 90,
    "start_time": "2024-03-20T11:52:18.698Z"
   },
   {
    "duration": 0,
    "start_time": "2024-03-20T11:52:18.790Z"
   },
   {
    "duration": 0,
    "start_time": "2024-03-20T11:52:18.792Z"
   },
   {
    "duration": 5,
    "start_time": "2024-03-20T11:52:32.979Z"
   },
   {
    "duration": 74,
    "start_time": "2024-03-20T12:33:17.184Z"
   },
   {
    "duration": 665,
    "start_time": "2024-03-20T12:33:26.580Z"
   },
   {
    "duration": 130,
    "start_time": "2024-03-20T12:36:15.564Z"
   },
   {
    "duration": 93,
    "start_time": "2024-03-20T12:39:46.553Z"
   },
   {
    "duration": 147,
    "start_time": "2024-03-20T12:40:41.929Z"
   },
   {
    "duration": 214,
    "start_time": "2024-03-20T12:40:49.637Z"
   },
   {
    "duration": 129,
    "start_time": "2024-03-20T12:40:53.564Z"
   },
   {
    "duration": 145,
    "start_time": "2024-03-20T12:41:09.539Z"
   },
   {
    "duration": 144,
    "start_time": "2024-03-20T12:42:23.862Z"
   },
   {
    "duration": 165,
    "start_time": "2024-03-20T12:43:21.032Z"
   },
   {
    "duration": 143,
    "start_time": "2024-03-20T12:43:32.650Z"
   },
   {
    "duration": 123,
    "start_time": "2024-03-20T12:43:44.141Z"
   },
   {
    "duration": 150,
    "start_time": "2024-03-20T12:44:02.213Z"
   },
   {
    "duration": 202,
    "start_time": "2024-03-20T12:45:16.339Z"
   },
   {
    "duration": 225,
    "start_time": "2024-03-20T12:46:42.058Z"
   },
   {
    "duration": 207,
    "start_time": "2024-03-20T12:47:12.657Z"
   },
   {
    "duration": 370,
    "start_time": "2024-03-20T12:48:55.282Z"
   },
   {
    "duration": 329,
    "start_time": "2024-03-20T12:52:13.896Z"
   },
   {
    "duration": 145,
    "start_time": "2024-03-20T13:01:38.360Z"
   },
   {
    "duration": 105,
    "start_time": "2024-03-20T13:03:04.924Z"
   },
   {
    "duration": 154,
    "start_time": "2024-03-20T13:03:36.264Z"
   },
   {
    "duration": 1560,
    "start_time": "2024-03-20T13:08:55.265Z"
   },
   {
    "duration": 7,
    "start_time": "2024-03-20T13:12:08.769Z"
   },
   {
    "duration": 7,
    "start_time": "2024-03-20T13:12:42.451Z"
   },
   {
    "duration": 6,
    "start_time": "2024-03-20T13:14:11.270Z"
   },
   {
    "duration": 8,
    "start_time": "2024-03-20T13:14:25.034Z"
   },
   {
    "duration": 6,
    "start_time": "2024-03-20T13:14:41.642Z"
   },
   {
    "duration": 13,
    "start_time": "2024-03-20T13:22:05.471Z"
   },
   {
    "duration": 7,
    "start_time": "2024-03-20T14:10:59.057Z"
   },
   {
    "duration": 6,
    "start_time": "2024-03-20T14:24:50.082Z"
   },
   {
    "duration": 99,
    "start_time": "2024-03-20T14:34:15.785Z"
   },
   {
    "duration": 6,
    "start_time": "2024-03-20T14:35:50.254Z"
   },
   {
    "duration": 6,
    "start_time": "2024-03-20T14:36:19.958Z"
   },
   {
    "duration": 7,
    "start_time": "2024-03-20T14:36:32.699Z"
   },
   {
    "duration": 5,
    "start_time": "2024-03-20T14:36:41.490Z"
   },
   {
    "duration": 4,
    "start_time": "2024-03-20T14:36:46.578Z"
   },
   {
    "duration": 5,
    "start_time": "2024-03-20T14:37:30.264Z"
   },
   {
    "duration": 223,
    "start_time": "2024-03-20T14:42:13.450Z"
   },
   {
    "duration": 6,
    "start_time": "2024-03-20T15:27:50.846Z"
   },
   {
    "duration": 13,
    "start_time": "2024-03-20T16:05:53.194Z"
   },
   {
    "duration": 21,
    "start_time": "2024-03-20T16:06:08.100Z"
   },
   {
    "duration": 16,
    "start_time": "2024-03-20T16:06:50.496Z"
   },
   {
    "duration": 23,
    "start_time": "2024-03-20T16:07:00.731Z"
   },
   {
    "duration": 30,
    "start_time": "2024-03-20T16:08:22.608Z"
   },
   {
    "duration": 27,
    "start_time": "2024-03-20T16:09:07.780Z"
   },
   {
    "duration": 33,
    "start_time": "2024-03-20T16:09:27.936Z"
   },
   {
    "duration": 32,
    "start_time": "2024-03-20T16:12:45.820Z"
   },
   {
    "duration": 47,
    "start_time": "2024-03-20T16:15:34.912Z"
   },
   {
    "duration": 8,
    "start_time": "2024-03-20T16:16:44.533Z"
   },
   {
    "duration": 18,
    "start_time": "2024-03-20T16:17:02.683Z"
   },
   {
    "duration": 16,
    "start_time": "2024-03-20T16:17:47.013Z"
   },
   {
    "duration": 10,
    "start_time": "2024-03-20T16:22:13.106Z"
   },
   {
    "duration": 247,
    "start_time": "2024-03-20T16:24:13.954Z"
   },
   {
    "duration": 232,
    "start_time": "2024-03-20T16:24:39.436Z"
   },
   {
    "duration": 205,
    "start_time": "2024-03-20T16:25:44.780Z"
   },
   {
    "duration": 295,
    "start_time": "2024-03-20T16:25:49.389Z"
   },
   {
    "duration": 212,
    "start_time": "2024-03-20T16:25:52.399Z"
   },
   {
    "duration": 260,
    "start_time": "2024-03-20T16:26:26.980Z"
   },
   {
    "duration": 294,
    "start_time": "2024-03-20T16:26:41.302Z"
   },
   {
    "duration": 272,
    "start_time": "2024-03-20T16:27:07.533Z"
   },
   {
    "duration": 258,
    "start_time": "2024-03-20T16:27:26.802Z"
   },
   {
    "duration": 394,
    "start_time": "2024-03-20T16:27:35.956Z"
   },
   {
    "duration": 91,
    "start_time": "2024-03-20T16:40:33.178Z"
   },
   {
    "duration": 6,
    "start_time": "2024-03-20T16:41:58.646Z"
   },
   {
    "duration": 6,
    "start_time": "2024-03-20T16:43:56.315Z"
   },
   {
    "duration": 94,
    "start_time": "2024-03-20T16:44:17.649Z"
   },
   {
    "duration": 94,
    "start_time": "2024-03-20T16:44:31.279Z"
   },
   {
    "duration": 5,
    "start_time": "2024-03-20T16:45:52.493Z"
   },
   {
    "duration": 6,
    "start_time": "2024-03-20T16:47:26.754Z"
   },
   {
    "duration": 68,
    "start_time": "2024-03-20T17:05:46.661Z"
   },
   {
    "duration": 52,
    "start_time": "2024-03-20T17:08:30.949Z"
   },
   {
    "duration": 48,
    "start_time": "2024-03-20T17:08:51.688Z"
   },
   {
    "duration": 75,
    "start_time": "2024-03-20T17:09:09.266Z"
   },
   {
    "duration": 1911,
    "start_time": "2024-03-20T17:14:11.207Z"
   },
   {
    "duration": 76,
    "start_time": "2024-03-20T17:15:23.781Z"
   },
   {
    "duration": 12,
    "start_time": "2024-03-20T17:17:12.435Z"
   },
   {
    "duration": 59,
    "start_time": "2024-03-20T17:23:47.957Z"
   },
   {
    "duration": 46,
    "start_time": "2024-03-20T17:24:46.691Z"
   },
   {
    "duration": 449,
    "start_time": "2024-03-20T17:25:17.893Z"
   },
   {
    "duration": 70,
    "start_time": "2024-03-20T17:25:18.344Z"
   },
   {
    "duration": 13,
    "start_time": "2024-03-20T17:25:18.416Z"
   },
   {
    "duration": 17,
    "start_time": "2024-03-20T17:25:18.431Z"
   },
   {
    "duration": 31,
    "start_time": "2024-03-20T17:25:18.451Z"
   },
   {
    "duration": 24,
    "start_time": "2024-03-20T17:25:18.483Z"
   },
   {
    "duration": 24,
    "start_time": "2024-03-20T17:25:18.508Z"
   },
   {
    "duration": 15,
    "start_time": "2024-03-20T17:25:18.533Z"
   },
   {
    "duration": 26,
    "start_time": "2024-03-20T17:25:18.549Z"
   },
   {
    "duration": 9,
    "start_time": "2024-03-20T17:25:18.577Z"
   },
   {
    "duration": 12,
    "start_time": "2024-03-20T17:25:18.588Z"
   },
   {
    "duration": 7,
    "start_time": "2024-03-20T17:25:18.602Z"
   },
   {
    "duration": 8,
    "start_time": "2024-03-20T17:25:18.611Z"
   },
   {
    "duration": 18,
    "start_time": "2024-03-20T17:25:18.622Z"
   },
   {
    "duration": 44,
    "start_time": "2024-03-20T17:25:18.642Z"
   },
   {
    "duration": 6,
    "start_time": "2024-03-20T17:25:18.687Z"
   },
   {
    "duration": 19,
    "start_time": "2024-03-20T17:25:18.695Z"
   },
   {
    "duration": 8,
    "start_time": "2024-03-20T17:25:18.716Z"
   },
   {
    "duration": 19,
    "start_time": "2024-03-20T17:25:18.725Z"
   },
   {
    "duration": 479,
    "start_time": "2024-03-20T17:25:18.746Z"
   },
   {
    "duration": 139,
    "start_time": "2024-03-20T17:25:19.226Z"
   },
   {
    "duration": 221,
    "start_time": "2024-03-20T17:25:19.367Z"
   },
   {
    "duration": 5,
    "start_time": "2024-03-20T17:25:19.591Z"
   },
   {
    "duration": 319,
    "start_time": "2024-03-20T17:25:19.597Z"
   },
   {
    "duration": 6,
    "start_time": "2024-03-20T17:25:19.918Z"
   },
   {
    "duration": 370,
    "start_time": "2024-03-20T17:25:19.925Z"
   },
   {
    "duration": 7,
    "start_time": "2024-03-20T17:25:20.297Z"
   },
   {
    "duration": 34,
    "start_time": "2024-03-20T17:25:20.306Z"
   },
   {
    "duration": 14,
    "start_time": "2024-03-20T17:25:20.342Z"
   },
   {
    "duration": 310,
    "start_time": "2024-03-20T17:25:20.357Z"
   },
   {
    "duration": 6,
    "start_time": "2024-03-20T17:25:20.668Z"
   },
   {
    "duration": 276,
    "start_time": "2024-03-20T17:25:20.676Z"
   },
   {
    "duration": 6,
    "start_time": "2024-03-20T17:25:20.954Z"
   },
   {
    "duration": 290,
    "start_time": "2024-03-20T17:25:20.962Z"
   },
   {
    "duration": 7,
    "start_time": "2024-03-20T17:25:21.254Z"
   },
   {
    "duration": 302,
    "start_time": "2024-03-20T17:25:21.262Z"
   },
   {
    "duration": 7,
    "start_time": "2024-03-20T17:25:21.566Z"
   },
   {
    "duration": 60,
    "start_time": "2024-03-20T17:25:21.575Z"
   },
   {
    "duration": 127,
    "start_time": "2024-03-20T18:11:40.835Z"
   },
   {
    "duration": 18,
    "start_time": "2024-03-20T18:11:51.340Z"
   },
   {
    "duration": 45,
    "start_time": "2024-03-20T18:12:04.642Z"
   },
   {
    "duration": 115,
    "start_time": "2024-03-20T18:12:22.532Z"
   },
   {
    "duration": 25,
    "start_time": "2024-03-20T18:14:04.604Z"
   },
   {
    "duration": 22,
    "start_time": "2024-03-20T18:14:21.169Z"
   },
   {
    "duration": 23,
    "start_time": "2024-03-20T18:14:42.780Z"
   },
   {
    "duration": 19,
    "start_time": "2024-03-20T18:15:43.719Z"
   },
   {
    "duration": 26,
    "start_time": "2024-03-20T18:16:05.306Z"
   },
   {
    "duration": 24,
    "start_time": "2024-03-20T18:16:46.635Z"
   },
   {
    "duration": 11,
    "start_time": "2024-03-20T18:16:50.715Z"
   },
   {
    "duration": 25,
    "start_time": "2024-03-20T18:18:04.389Z"
   },
   {
    "duration": 24,
    "start_time": "2024-03-20T18:18:18.120Z"
   },
   {
    "duration": 121,
    "start_time": "2024-03-20T18:55:22.214Z"
   },
   {
    "duration": 1517,
    "start_time": "2024-03-20T18:58:24.600Z"
   },
   {
    "duration": 1513,
    "start_time": "2024-03-20T18:59:23.548Z"
   },
   {
    "duration": 18,
    "start_time": "2024-03-20T19:01:02.171Z"
   },
   {
    "duration": 1661,
    "start_time": "2024-03-20T19:04:18.333Z"
   },
   {
    "duration": 1553,
    "start_time": "2024-03-20T19:05:17.931Z"
   },
   {
    "duration": 5,
    "start_time": "2024-03-20T19:06:04.950Z"
   },
   {
    "duration": 24,
    "start_time": "2024-03-20T19:06:17.668Z"
   },
   {
    "duration": 1487,
    "start_time": "2024-03-20T19:07:25.990Z"
   },
   {
    "duration": 141,
    "start_time": "2024-03-20T19:11:14.383Z"
   },
   {
    "duration": 96,
    "start_time": "2024-03-20T19:15:36.390Z"
   },
   {
    "duration": 1575,
    "start_time": "2024-03-20T19:15:52.657Z"
   },
   {
    "duration": 417,
    "start_time": "2024-03-21T11:38:18.037Z"
   },
   {
    "duration": 305,
    "start_time": "2024-03-21T11:38:18.456Z"
   },
   {
    "duration": 13,
    "start_time": "2024-03-21T11:38:18.763Z"
   },
   {
    "duration": 19,
    "start_time": "2024-03-21T11:38:18.778Z"
   },
   {
    "duration": 19,
    "start_time": "2024-03-21T11:38:18.801Z"
   },
   {
    "duration": 12,
    "start_time": "2024-03-21T11:38:18.822Z"
   },
   {
    "duration": 28,
    "start_time": "2024-03-21T11:38:18.836Z"
   },
   {
    "duration": 11,
    "start_time": "2024-03-21T11:38:18.866Z"
   },
   {
    "duration": 17,
    "start_time": "2024-03-21T11:38:18.879Z"
   },
   {
    "duration": 8,
    "start_time": "2024-03-21T11:38:18.897Z"
   },
   {
    "duration": 9,
    "start_time": "2024-03-21T11:38:18.907Z"
   },
   {
    "duration": 6,
    "start_time": "2024-03-21T11:38:18.918Z"
   },
   {
    "duration": 12,
    "start_time": "2024-03-21T11:38:18.926Z"
   },
   {
    "duration": 9,
    "start_time": "2024-03-21T11:38:18.943Z"
   },
   {
    "duration": 39,
    "start_time": "2024-03-21T11:38:18.954Z"
   },
   {
    "duration": 7,
    "start_time": "2024-03-21T11:38:18.995Z"
   },
   {
    "duration": 12,
    "start_time": "2024-03-21T11:38:19.004Z"
   },
   {
    "duration": 7,
    "start_time": "2024-03-21T11:38:19.018Z"
   },
   {
    "duration": 8,
    "start_time": "2024-03-21T11:38:19.027Z"
   },
   {
    "duration": 646,
    "start_time": "2024-03-21T11:38:19.036Z"
   },
   {
    "duration": 163,
    "start_time": "2024-03-21T11:38:19.684Z"
   },
   {
    "duration": 210,
    "start_time": "2024-03-21T11:38:19.848Z"
   },
   {
    "duration": 6,
    "start_time": "2024-03-21T11:38:20.060Z"
   },
   {
    "duration": 355,
    "start_time": "2024-03-21T11:38:20.068Z"
   },
   {
    "duration": 6,
    "start_time": "2024-03-21T11:38:20.425Z"
   },
   {
    "duration": 307,
    "start_time": "2024-03-21T11:38:20.433Z"
   },
   {
    "duration": 6,
    "start_time": "2024-03-21T11:38:20.743Z"
   },
   {
    "duration": 49,
    "start_time": "2024-03-21T11:38:20.751Z"
   },
   {
    "duration": 14,
    "start_time": "2024-03-21T11:38:20.802Z"
   },
   {
    "duration": 299,
    "start_time": "2024-03-21T11:38:20.817Z"
   },
   {
    "duration": 5,
    "start_time": "2024-03-21T11:38:21.118Z"
   },
   {
    "duration": 309,
    "start_time": "2024-03-21T11:38:21.125Z"
   },
   {
    "duration": 6,
    "start_time": "2024-03-21T11:38:21.436Z"
   },
   {
    "duration": 283,
    "start_time": "2024-03-21T11:38:21.444Z"
   },
   {
    "duration": 5,
    "start_time": "2024-03-21T11:38:21.729Z"
   },
   {
    "duration": 308,
    "start_time": "2024-03-21T11:38:21.736Z"
   },
   {
    "duration": 8,
    "start_time": "2024-03-21T11:38:22.046Z"
   },
   {
    "duration": 56,
    "start_time": "2024-03-21T11:38:22.056Z"
   },
   {
    "duration": 18,
    "start_time": "2024-03-21T11:38:22.114Z"
   },
   {
    "duration": 1724,
    "start_time": "2024-03-21T11:38:22.134Z"
   },
   {
    "duration": 29,
    "start_time": "2024-03-21T11:40:26.582Z"
   },
   {
    "duration": 9,
    "start_time": "2024-03-21T11:46:47.684Z"
   },
   {
    "duration": 8,
    "start_time": "2024-03-21T11:47:03.191Z"
   },
   {
    "duration": 15,
    "start_time": "2024-03-21T11:56:41.787Z"
   },
   {
    "duration": 15,
    "start_time": "2024-03-21T11:59:59.882Z"
   },
   {
    "duration": 1640,
    "start_time": "2024-03-21T12:00:22.282Z"
   },
   {
    "duration": 1599,
    "start_time": "2024-03-21T12:00:52.197Z"
   },
   {
    "duration": 37,
    "start_time": "2024-03-21T12:01:36.642Z"
   },
   {
    "duration": 16,
    "start_time": "2024-03-21T12:01:49.211Z"
   },
   {
    "duration": 30,
    "start_time": "2024-03-21T12:02:20.539Z"
   },
   {
    "duration": 477,
    "start_time": "2024-03-21T12:02:31.158Z"
   },
   {
    "duration": 70,
    "start_time": "2024-03-21T12:02:31.637Z"
   },
   {
    "duration": 212,
    "start_time": "2024-03-21T12:02:31.709Z"
   },
   {
    "duration": 84,
    "start_time": "2024-03-21T12:02:31.924Z"
   },
   {
    "duration": 79,
    "start_time": "2024-03-21T12:02:32.011Z"
   },
   {
    "duration": 75,
    "start_time": "2024-03-21T12:02:32.093Z"
   },
   {
    "duration": 38,
    "start_time": "2024-03-21T12:02:32.170Z"
   },
   {
    "duration": 61,
    "start_time": "2024-03-21T12:02:32.210Z"
   },
   {
    "duration": 29,
    "start_time": "2024-03-21T12:02:32.273Z"
   },
   {
    "duration": 73,
    "start_time": "2024-03-21T12:02:32.304Z"
   },
   {
    "duration": 252,
    "start_time": "2024-03-21T12:02:32.380Z"
   },
   {
    "duration": 63,
    "start_time": "2024-03-21T12:02:32.634Z"
   },
   {
    "duration": 45,
    "start_time": "2024-03-21T12:02:32.699Z"
   },
   {
    "duration": 28,
    "start_time": "2024-03-21T12:02:32.747Z"
   },
   {
    "duration": 7,
    "start_time": "2024-03-21T12:02:32.777Z"
   },
   {
    "duration": 9,
    "start_time": "2024-03-21T12:02:32.786Z"
   },
   {
    "duration": 13,
    "start_time": "2024-03-21T12:02:32.797Z"
   },
   {
    "duration": 9,
    "start_time": "2024-03-21T12:02:32.813Z"
   },
   {
    "duration": 24,
    "start_time": "2024-03-21T12:02:32.824Z"
   },
   {
    "duration": 502,
    "start_time": "2024-03-21T12:02:32.850Z"
   },
   {
    "duration": 146,
    "start_time": "2024-03-21T12:02:33.354Z"
   },
   {
    "duration": 225,
    "start_time": "2024-03-21T12:02:33.502Z"
   },
   {
    "duration": 6,
    "start_time": "2024-03-21T12:02:33.728Z"
   },
   {
    "duration": 321,
    "start_time": "2024-03-21T12:02:33.736Z"
   },
   {
    "duration": 7,
    "start_time": "2024-03-21T12:02:34.062Z"
   },
   {
    "duration": 390,
    "start_time": "2024-03-21T12:02:34.071Z"
   },
   {
    "duration": 8,
    "start_time": "2024-03-21T12:02:34.463Z"
   },
   {
    "duration": 49,
    "start_time": "2024-03-21T12:02:34.473Z"
   },
   {
    "duration": 15,
    "start_time": "2024-03-21T12:02:34.524Z"
   },
   {
    "duration": 13,
    "start_time": "2024-03-21T12:02:34.541Z"
   },
   {
    "duration": 314,
    "start_time": "2024-03-21T12:02:34.556Z"
   },
   {
    "duration": 8,
    "start_time": "2024-03-21T12:02:34.872Z"
   },
   {
    "duration": 293,
    "start_time": "2024-03-21T12:02:34.882Z"
   },
   {
    "duration": 16,
    "start_time": "2024-03-21T12:02:35.177Z"
   },
   {
    "duration": 280,
    "start_time": "2024-03-21T12:02:35.195Z"
   },
   {
    "duration": 6,
    "start_time": "2024-03-21T12:02:35.477Z"
   },
   {
    "duration": 295,
    "start_time": "2024-03-21T12:02:35.491Z"
   },
   {
    "duration": 6,
    "start_time": "2024-03-21T12:02:35.788Z"
   },
   {
    "duration": 58,
    "start_time": "2024-03-21T12:02:35.796Z"
   },
   {
    "duration": 27,
    "start_time": "2024-03-21T12:02:35.856Z"
   },
   {
    "duration": 1620,
    "start_time": "2024-03-21T12:02:35.886Z"
   },
   {
    "duration": 28,
    "start_time": "2024-03-21T12:02:58.149Z"
   },
   {
    "duration": 21,
    "start_time": "2024-03-21T12:03:26.813Z"
   },
   {
    "duration": 29,
    "start_time": "2024-03-21T12:03:35.233Z"
   },
   {
    "duration": 14,
    "start_time": "2024-03-21T12:03:41.487Z"
   },
   {
    "duration": 14,
    "start_time": "2024-03-21T12:03:47.020Z"
   },
   {
    "duration": 12,
    "start_time": "2024-03-21T12:03:54.283Z"
   },
   {
    "duration": 5,
    "start_time": "2024-03-21T12:17:26.856Z"
   },
   {
    "duration": 15,
    "start_time": "2024-03-21T12:17:39.172Z"
   },
   {
    "duration": 431,
    "start_time": "2024-03-21T12:27:34.100Z"
   },
   {
    "duration": 33,
    "start_time": "2024-03-21T12:28:07.091Z"
   },
   {
    "duration": 35,
    "start_time": "2024-03-21T12:30:48.755Z"
   },
   {
    "duration": 48,
    "start_time": "2024-03-21T12:31:49.813Z"
   },
   {
    "duration": 422,
    "start_time": "2024-03-21T12:32:18.871Z"
   },
   {
    "duration": 35,
    "start_time": "2024-03-21T12:32:57.109Z"
   },
   {
    "duration": 43,
    "start_time": "2024-03-21T12:33:42.752Z"
   },
   {
    "duration": 36,
    "start_time": "2024-03-21T12:34:33.195Z"
   },
   {
    "duration": 40,
    "start_time": "2024-03-21T12:38:24.484Z"
   },
   {
    "duration": 20,
    "start_time": "2024-03-21T12:41:02.700Z"
   },
   {
    "duration": 436,
    "start_time": "2024-03-21T12:41:47.814Z"
   },
   {
    "duration": 77,
    "start_time": "2024-03-21T12:41:48.253Z"
   },
   {
    "duration": 15,
    "start_time": "2024-03-21T12:41:48.332Z"
   },
   {
    "duration": 40,
    "start_time": "2024-03-21T12:41:48.348Z"
   },
   {
    "duration": 50,
    "start_time": "2024-03-21T12:41:48.390Z"
   },
   {
    "duration": 53,
    "start_time": "2024-03-21T12:41:48.441Z"
   },
   {
    "duration": 44,
    "start_time": "2024-03-21T12:41:48.496Z"
   },
   {
    "duration": 37,
    "start_time": "2024-03-21T12:41:48.542Z"
   },
   {
    "duration": 65,
    "start_time": "2024-03-21T12:41:48.580Z"
   },
   {
    "duration": 28,
    "start_time": "2024-03-21T12:41:48.647Z"
   },
   {
    "duration": 32,
    "start_time": "2024-03-21T12:41:48.677Z"
   },
   {
    "duration": 15,
    "start_time": "2024-03-21T12:41:48.710Z"
   },
   {
    "duration": 24,
    "start_time": "2024-03-21T12:41:48.727Z"
   },
   {
    "duration": 26,
    "start_time": "2024-03-21T12:41:48.755Z"
   },
   {
    "duration": 7,
    "start_time": "2024-03-21T12:41:48.783Z"
   },
   {
    "duration": 15,
    "start_time": "2024-03-21T12:41:48.799Z"
   },
   {
    "duration": 12,
    "start_time": "2024-03-21T12:41:48.816Z"
   },
   {
    "duration": 10,
    "start_time": "2024-03-21T12:41:48.830Z"
   },
   {
    "duration": 20,
    "start_time": "2024-03-21T12:41:48.842Z"
   },
   {
    "duration": 501,
    "start_time": "2024-03-21T12:41:48.864Z"
   },
   {
    "duration": 126,
    "start_time": "2024-03-21T12:41:49.367Z"
   },
   {
    "duration": 210,
    "start_time": "2024-03-21T12:41:49.494Z"
   },
   {
    "duration": 6,
    "start_time": "2024-03-21T12:41:49.705Z"
   },
   {
    "duration": 357,
    "start_time": "2024-03-21T12:41:49.713Z"
   },
   {
    "duration": 20,
    "start_time": "2024-03-21T12:41:50.073Z"
   },
   {
    "duration": 398,
    "start_time": "2024-03-21T12:41:50.094Z"
   },
   {
    "duration": 6,
    "start_time": "2024-03-21T12:41:50.494Z"
   },
   {
    "duration": 82,
    "start_time": "2024-03-21T12:41:50.503Z"
   },
   {
    "duration": 16,
    "start_time": "2024-03-21T12:41:50.586Z"
   },
   {
    "duration": 27,
    "start_time": "2024-03-21T12:41:50.604Z"
   },
   {
    "duration": 301,
    "start_time": "2024-03-21T12:41:50.633Z"
   },
   {
    "duration": 6,
    "start_time": "2024-03-21T12:41:50.936Z"
   },
   {
    "duration": 306,
    "start_time": "2024-03-21T12:41:50.944Z"
   },
   {
    "duration": 7,
    "start_time": "2024-03-21T12:41:51.252Z"
   },
   {
    "duration": 273,
    "start_time": "2024-03-21T12:41:51.262Z"
   },
   {
    "duration": 6,
    "start_time": "2024-03-21T12:41:51.537Z"
   },
   {
    "duration": 306,
    "start_time": "2024-03-21T12:41:51.545Z"
   },
   {
    "duration": 7,
    "start_time": "2024-03-21T12:41:51.853Z"
   },
   {
    "duration": 59,
    "start_time": "2024-03-21T12:41:51.862Z"
   },
   {
    "duration": 21,
    "start_time": "2024-03-21T12:41:51.923Z"
   },
   {
    "duration": 89,
    "start_time": "2024-03-21T12:41:51.949Z"
   },
   {
    "duration": 0,
    "start_time": "2024-03-21T12:41:52.040Z"
   },
   {
    "duration": 19,
    "start_time": "2024-03-21T12:43:04.963Z"
   },
   {
    "duration": 422,
    "start_time": "2024-03-21T12:43:46.031Z"
   },
   {
    "duration": 69,
    "start_time": "2024-03-21T12:43:46.455Z"
   },
   {
    "duration": 14,
    "start_time": "2024-03-21T12:43:46.526Z"
   },
   {
    "duration": 13,
    "start_time": "2024-03-21T12:43:46.542Z"
   },
   {
    "duration": 23,
    "start_time": "2024-03-21T12:43:46.558Z"
   },
   {
    "duration": 13,
    "start_time": "2024-03-21T12:43:46.583Z"
   },
   {
    "duration": 10,
    "start_time": "2024-03-21T12:43:46.598Z"
   },
   {
    "duration": 6,
    "start_time": "2024-03-21T12:43:46.609Z"
   },
   {
    "duration": 31,
    "start_time": "2024-03-21T12:43:46.617Z"
   },
   {
    "duration": 7,
    "start_time": "2024-03-21T12:43:46.650Z"
   },
   {
    "duration": 9,
    "start_time": "2024-03-21T12:43:46.659Z"
   },
   {
    "duration": 25,
    "start_time": "2024-03-21T12:43:46.670Z"
   },
   {
    "duration": 15,
    "start_time": "2024-03-21T12:43:46.697Z"
   },
   {
    "duration": 9,
    "start_time": "2024-03-21T12:43:46.715Z"
   },
   {
    "duration": 27,
    "start_time": "2024-03-21T12:43:46.725Z"
   },
   {
    "duration": 10,
    "start_time": "2024-03-21T12:43:46.754Z"
   },
   {
    "duration": 15,
    "start_time": "2024-03-21T12:43:46.766Z"
   },
   {
    "duration": 13,
    "start_time": "2024-03-21T12:43:46.791Z"
   },
   {
    "duration": 17,
    "start_time": "2024-03-21T12:43:46.806Z"
   },
   {
    "duration": 490,
    "start_time": "2024-03-21T12:43:46.825Z"
   },
   {
    "duration": 141,
    "start_time": "2024-03-21T12:43:47.317Z"
   },
   {
    "duration": 212,
    "start_time": "2024-03-21T12:43:47.460Z"
   },
   {
    "duration": 17,
    "start_time": "2024-03-21T12:43:47.674Z"
   },
   {
    "duration": 281,
    "start_time": "2024-03-21T12:43:47.693Z"
   },
   {
    "duration": 6,
    "start_time": "2024-03-21T12:43:47.976Z"
   },
   {
    "duration": 368,
    "start_time": "2024-03-21T12:43:47.992Z"
   },
   {
    "duration": 6,
    "start_time": "2024-03-21T12:43:48.362Z"
   },
   {
    "duration": 50,
    "start_time": "2024-03-21T12:43:48.369Z"
   },
   {
    "duration": 16,
    "start_time": "2024-03-21T12:43:48.421Z"
   },
   {
    "duration": 21,
    "start_time": "2024-03-21T12:43:48.439Z"
   },
   {
    "duration": 289,
    "start_time": "2024-03-21T12:43:48.462Z"
   },
   {
    "duration": 6,
    "start_time": "2024-03-21T12:43:48.752Z"
   },
   {
    "duration": 284,
    "start_time": "2024-03-21T12:43:48.760Z"
   },
   {
    "duration": 6,
    "start_time": "2024-03-21T12:43:49.046Z"
   },
   {
    "duration": 326,
    "start_time": "2024-03-21T12:43:49.053Z"
   },
   {
    "duration": 13,
    "start_time": "2024-03-21T12:43:49.380Z"
   },
   {
    "duration": 331,
    "start_time": "2024-03-21T12:43:49.395Z"
   },
   {
    "duration": 6,
    "start_time": "2024-03-21T12:43:49.728Z"
   },
   {
    "duration": 64,
    "start_time": "2024-03-21T12:43:49.736Z"
   },
   {
    "duration": 19,
    "start_time": "2024-03-21T12:43:49.801Z"
   },
   {
    "duration": 98,
    "start_time": "2024-03-21T12:43:49.825Z"
   },
   {
    "duration": 0,
    "start_time": "2024-03-21T12:43:49.925Z"
   },
   {
    "duration": 18,
    "start_time": "2024-03-21T12:45:44.473Z"
   },
   {
    "duration": 18,
    "start_time": "2024-03-21T12:46:03.728Z"
   },
   {
    "duration": 20,
    "start_time": "2024-03-21T12:46:10.974Z"
   },
   {
    "duration": 21,
    "start_time": "2024-03-21T12:47:51.873Z"
   },
   {
    "duration": 17,
    "start_time": "2024-03-21T12:48:19.112Z"
   },
   {
    "duration": 31,
    "start_time": "2024-03-21T12:48:27.132Z"
   },
   {
    "duration": 17,
    "start_time": "2024-03-21T12:48:32.251Z"
   },
   {
    "duration": 24,
    "start_time": "2024-03-21T12:48:46.773Z"
   },
   {
    "duration": 445,
    "start_time": "2024-03-21T12:49:26.882Z"
   },
   {
    "duration": 69,
    "start_time": "2024-03-21T12:49:27.329Z"
   },
   {
    "duration": 13,
    "start_time": "2024-03-21T12:49:27.400Z"
   },
   {
    "duration": 28,
    "start_time": "2024-03-21T12:49:27.415Z"
   },
   {
    "duration": 17,
    "start_time": "2024-03-21T12:49:27.444Z"
   },
   {
    "duration": 9,
    "start_time": "2024-03-21T12:49:27.463Z"
   },
   {
    "duration": 39,
    "start_time": "2024-03-21T12:49:27.474Z"
   },
   {
    "duration": 22,
    "start_time": "2024-03-21T12:49:27.515Z"
   },
   {
    "duration": 19,
    "start_time": "2024-03-21T12:49:27.538Z"
   },
   {
    "duration": 18,
    "start_time": "2024-03-21T12:49:27.560Z"
   },
   {
    "duration": 26,
    "start_time": "2024-03-21T12:49:27.579Z"
   },
   {
    "duration": 35,
    "start_time": "2024-03-21T12:49:27.606Z"
   },
   {
    "duration": 11,
    "start_time": "2024-03-21T12:49:27.642Z"
   },
   {
    "duration": 17,
    "start_time": "2024-03-21T12:49:27.655Z"
   },
   {
    "duration": 7,
    "start_time": "2024-03-21T12:49:27.674Z"
   },
   {
    "duration": 13,
    "start_time": "2024-03-21T12:49:27.682Z"
   },
   {
    "duration": 17,
    "start_time": "2024-03-21T12:49:27.696Z"
   },
   {
    "duration": 10,
    "start_time": "2024-03-21T12:49:27.715Z"
   },
   {
    "duration": 38,
    "start_time": "2024-03-21T12:49:27.727Z"
   },
   {
    "duration": 487,
    "start_time": "2024-03-21T12:49:27.766Z"
   },
   {
    "duration": 129,
    "start_time": "2024-03-21T12:49:28.255Z"
   },
   {
    "duration": 223,
    "start_time": "2024-03-21T12:49:28.391Z"
   },
   {
    "duration": 5,
    "start_time": "2024-03-21T12:49:28.616Z"
   },
   {
    "duration": 287,
    "start_time": "2024-03-21T12:49:28.623Z"
   },
   {
    "duration": 6,
    "start_time": "2024-03-21T12:49:28.912Z"
   },
   {
    "duration": 344,
    "start_time": "2024-03-21T12:49:28.919Z"
   },
   {
    "duration": 6,
    "start_time": "2024-03-21T12:49:29.265Z"
   },
   {
    "duration": 48,
    "start_time": "2024-03-21T12:49:29.275Z"
   },
   {
    "duration": 15,
    "start_time": "2024-03-21T12:49:29.324Z"
   },
   {
    "duration": 14,
    "start_time": "2024-03-21T12:49:29.340Z"
   },
   {
    "duration": 300,
    "start_time": "2024-03-21T12:49:29.356Z"
   },
   {
    "duration": 6,
    "start_time": "2024-03-21T12:49:29.658Z"
   },
   {
    "duration": 289,
    "start_time": "2024-03-21T12:49:29.665Z"
   },
   {
    "duration": 6,
    "start_time": "2024-03-21T12:49:29.955Z"
   },
   {
    "duration": 295,
    "start_time": "2024-03-21T12:49:29.963Z"
   },
   {
    "duration": 6,
    "start_time": "2024-03-21T12:49:30.261Z"
   },
   {
    "duration": 911,
    "start_time": "2024-03-21T12:49:30.269Z"
   },
   {
    "duration": 197,
    "start_time": "2024-03-21T12:49:31.182Z"
   },
   {
    "duration": 116,
    "start_time": "2024-03-21T12:49:31.380Z"
   },
   {
    "duration": 58,
    "start_time": "2024-03-21T12:49:31.498Z"
   },
   {
    "duration": 99,
    "start_time": "2024-03-21T12:49:31.558Z"
   },
   {
    "duration": 0,
    "start_time": "2024-03-21T12:49:31.659Z"
   },
   {
    "duration": 1558,
    "start_time": "2024-03-21T12:53:07.963Z"
   },
   {
    "duration": 21,
    "start_time": "2024-03-21T12:53:25.551Z"
   },
   {
    "duration": 559,
    "start_time": "2024-03-21T13:28:32.873Z"
   },
   {
    "duration": 8,
    "start_time": "2024-03-21T13:39:08.472Z"
   },
   {
    "duration": 7,
    "start_time": "2024-03-21T13:48:33.980Z"
   },
   {
    "duration": 13,
    "start_time": "2024-03-21T14:30:54.515Z"
   },
   {
    "duration": 9,
    "start_time": "2024-03-21T14:33:48.764Z"
   },
   {
    "duration": 15,
    "start_time": "2024-03-21T14:35:38.017Z"
   },
   {
    "duration": 8,
    "start_time": "2024-03-21T14:36:08.746Z"
   },
   {
    "duration": 7,
    "start_time": "2024-03-21T15:31:48.800Z"
   },
   {
    "duration": 6,
    "start_time": "2024-03-21T15:32:18.397Z"
   },
   {
    "duration": 7,
    "start_time": "2024-03-21T15:32:32.313Z"
   },
   {
    "duration": 6,
    "start_time": "2024-03-21T15:32:42.719Z"
   },
   {
    "duration": 7,
    "start_time": "2024-03-21T15:32:48.863Z"
   },
   {
    "duration": 6,
    "start_time": "2024-03-21T15:34:31.697Z"
   },
   {
    "duration": 6,
    "start_time": "2024-03-21T15:34:38.856Z"
   },
   {
    "duration": 6,
    "start_time": "2024-03-21T15:34:46.173Z"
   },
   {
    "duration": 6,
    "start_time": "2024-03-21T15:35:12.959Z"
   },
   {
    "duration": 6,
    "start_time": "2024-03-21T15:35:20.861Z"
   },
   {
    "duration": 7,
    "start_time": "2024-03-21T15:35:29.183Z"
   },
   {
    "duration": 6,
    "start_time": "2024-03-21T15:35:43.730Z"
   },
   {
    "duration": 7,
    "start_time": "2024-03-21T15:35:48.868Z"
   },
   {
    "duration": 5,
    "start_time": "2024-03-21T15:35:56.922Z"
   },
   {
    "duration": 6,
    "start_time": "2024-03-21T15:36:13.108Z"
   },
   {
    "duration": 5,
    "start_time": "2024-03-21T15:36:20.892Z"
   },
   {
    "duration": 7,
    "start_time": "2024-03-21T15:43:38.717Z"
   },
   {
    "duration": 6,
    "start_time": "2024-03-21T16:00:39.915Z"
   },
   {
    "duration": 5,
    "start_time": "2024-03-21T16:00:44.923Z"
   },
   {
    "duration": 75,
    "start_time": "2024-03-21T16:02:01.865Z"
   },
   {
    "duration": 135,
    "start_time": "2024-03-21T16:04:36.588Z"
   },
   {
    "duration": 5,
    "start_time": "2024-03-21T16:05:12.182Z"
   },
   {
    "duration": 6,
    "start_time": "2024-03-21T16:05:32.038Z"
   },
   {
    "duration": 117,
    "start_time": "2024-03-21T16:06:12.980Z"
   },
   {
    "duration": 6,
    "start_time": "2024-03-21T16:06:54.900Z"
   },
   {
    "duration": 505,
    "start_time": "2024-03-21T16:12:45.012Z"
   },
   {
    "duration": 15,
    "start_time": "2024-03-21T16:12:45.519Z"
   },
   {
    "duration": 25,
    "start_time": "2024-03-21T16:12:45.536Z"
   },
   {
    "duration": 26,
    "start_time": "2024-03-21T16:12:45.563Z"
   },
   {
    "duration": 20,
    "start_time": "2024-03-21T16:12:45.591Z"
   },
   {
    "duration": 41,
    "start_time": "2024-03-21T16:12:45.613Z"
   },
   {
    "duration": 21,
    "start_time": "2024-03-21T16:12:45.655Z"
   },
   {
    "duration": 40,
    "start_time": "2024-03-21T16:12:45.677Z"
   },
   {
    "duration": 19,
    "start_time": "2024-03-21T16:12:45.719Z"
   },
   {
    "duration": 15,
    "start_time": "2024-03-21T16:12:45.741Z"
   },
   {
    "duration": 21,
    "start_time": "2024-03-21T16:12:45.758Z"
   },
   {
    "duration": 11,
    "start_time": "2024-03-21T16:12:45.781Z"
   },
   {
    "duration": 37,
    "start_time": "2024-03-21T16:12:45.795Z"
   },
   {
    "duration": 12,
    "start_time": "2024-03-21T16:12:45.834Z"
   },
   {
    "duration": 17,
    "start_time": "2024-03-21T16:12:45.848Z"
   },
   {
    "duration": 15,
    "start_time": "2024-03-21T16:12:45.867Z"
   },
   {
    "duration": 14,
    "start_time": "2024-03-21T16:12:45.884Z"
   },
   {
    "duration": 4,
    "start_time": "2024-03-21T16:12:45.900Z"
   },
   {
    "duration": 439,
    "start_time": "2024-03-21T16:12:45.905Z"
   },
   {
    "duration": 137,
    "start_time": "2024-03-21T16:12:46.346Z"
   },
   {
    "duration": 213,
    "start_time": "2024-03-21T16:12:46.485Z"
   },
   {
    "duration": 6,
    "start_time": "2024-03-21T16:12:46.700Z"
   },
   {
    "duration": 301,
    "start_time": "2024-03-21T16:12:46.707Z"
   },
   {
    "duration": 6,
    "start_time": "2024-03-21T16:12:47.010Z"
   },
   {
    "duration": 336,
    "start_time": "2024-03-21T16:12:47.017Z"
   },
   {
    "duration": 6,
    "start_time": "2024-03-21T16:12:47.355Z"
   },
   {
    "duration": 49,
    "start_time": "2024-03-21T16:12:47.362Z"
   },
   {
    "duration": 15,
    "start_time": "2024-03-21T16:12:47.415Z"
   },
   {
    "duration": 14,
    "start_time": "2024-03-21T16:12:47.432Z"
   },
   {
    "duration": 303,
    "start_time": "2024-03-21T16:12:47.447Z"
   },
   {
    "duration": 6,
    "start_time": "2024-03-21T16:12:47.751Z"
   },
   {
    "duration": 272,
    "start_time": "2024-03-21T16:12:47.758Z"
   },
   {
    "duration": 7,
    "start_time": "2024-03-21T16:12:48.032Z"
   },
   {
    "duration": 300,
    "start_time": "2024-03-21T16:12:48.040Z"
   },
   {
    "duration": 6,
    "start_time": "2024-03-21T16:12:48.341Z"
   },
   {
    "duration": 283,
    "start_time": "2024-03-21T16:12:48.349Z"
   },
   {
    "duration": 6,
    "start_time": "2024-03-21T16:12:48.634Z"
   },
   {
    "duration": 54,
    "start_time": "2024-03-21T16:12:48.642Z"
   },
   {
    "duration": 22,
    "start_time": "2024-03-21T16:12:48.698Z"
   },
   {
    "duration": 22,
    "start_time": "2024-03-21T16:12:48.722Z"
   },
   {
    "duration": 550,
    "start_time": "2024-03-21T16:12:48.746Z"
   },
   {
    "duration": 7,
    "start_time": "2024-03-21T16:12:49.298Z"
   },
   {
    "duration": 22,
    "start_time": "2024-03-21T16:12:49.306Z"
   },
   {
    "duration": 8,
    "start_time": "2024-03-21T16:12:49.330Z"
   },
   {
    "duration": 8,
    "start_time": "2024-03-21T16:12:49.340Z"
   },
   {
    "duration": 285,
    "start_time": "2024-03-21T16:13:49.882Z"
   },
   {
    "duration": 177,
    "start_time": "2024-03-21T16:14:01.308Z"
   },
   {
    "duration": 199,
    "start_time": "2024-03-21T16:14:07.576Z"
   },
   {
    "duration": 187,
    "start_time": "2024-03-21T16:14:22.779Z"
   },
   {
    "duration": 167,
    "start_time": "2024-03-21T16:14:29.267Z"
   },
   {
    "duration": 500,
    "start_time": "2024-03-21T16:53:58.415Z"
   },
   {
    "duration": 13,
    "start_time": "2024-03-21T16:53:58.917Z"
   },
   {
    "duration": 14,
    "start_time": "2024-03-21T16:53:58.932Z"
   },
   {
    "duration": 27,
    "start_time": "2024-03-21T16:53:58.948Z"
   },
   {
    "duration": 17,
    "start_time": "2024-03-21T16:53:58.978Z"
   },
   {
    "duration": 21,
    "start_time": "2024-03-21T16:53:58.997Z"
   },
   {
    "duration": 35,
    "start_time": "2024-03-21T16:53:59.020Z"
   },
   {
    "duration": 19,
    "start_time": "2024-03-21T16:53:59.057Z"
   },
   {
    "duration": 30,
    "start_time": "2024-03-21T16:53:59.078Z"
   },
   {
    "duration": 17,
    "start_time": "2024-03-21T16:53:59.110Z"
   },
   {
    "duration": 17,
    "start_time": "2024-03-21T16:53:59.129Z"
   },
   {
    "duration": 28,
    "start_time": "2024-03-21T16:53:59.148Z"
   },
   {
    "duration": 9,
    "start_time": "2024-03-21T16:53:59.177Z"
   },
   {
    "duration": 5,
    "start_time": "2024-03-21T16:53:59.189Z"
   },
   {
    "duration": 8,
    "start_time": "2024-03-21T16:53:59.195Z"
   },
   {
    "duration": 10,
    "start_time": "2024-03-21T16:53:59.205Z"
   },
   {
    "duration": 29,
    "start_time": "2024-03-21T16:53:59.217Z"
   },
   {
    "duration": 11,
    "start_time": "2024-03-21T16:53:59.248Z"
   },
   {
    "duration": 416,
    "start_time": "2024-03-21T16:53:59.260Z"
   },
   {
    "duration": 167,
    "start_time": "2024-03-21T16:53:59.679Z"
   },
   {
    "duration": 200,
    "start_time": "2024-03-21T16:53:59.848Z"
   },
   {
    "duration": 6,
    "start_time": "2024-03-21T16:54:00.050Z"
   },
   {
    "duration": 374,
    "start_time": "2024-03-21T16:54:00.057Z"
   },
   {
    "duration": 6,
    "start_time": "2024-03-21T16:54:00.432Z"
   },
   {
    "duration": 665,
    "start_time": "2024-03-21T16:54:00.440Z"
   },
   {
    "duration": 302,
    "start_time": "2024-03-21T16:54:01.107Z"
   },
   {
    "duration": 461,
    "start_time": "2024-03-21T16:54:01.410Z"
   },
   {
    "duration": 170,
    "start_time": "2024-03-21T16:54:01.873Z"
   },
   {
    "duration": 48,
    "start_time": "2024-03-21T16:54:02.044Z"
   },
   {
    "duration": 300,
    "start_time": "2024-03-21T16:54:02.094Z"
   },
   {
    "duration": 6,
    "start_time": "2024-03-21T16:54:02.396Z"
   },
   {
    "duration": 330,
    "start_time": "2024-03-21T16:54:02.404Z"
   },
   {
    "duration": 7,
    "start_time": "2024-03-21T16:54:02.735Z"
   },
   {
    "duration": 1071,
    "start_time": "2024-03-21T16:54:02.743Z"
   },
   {
    "duration": 5,
    "start_time": "2024-03-21T16:54:03.816Z"
   },
   {
    "duration": 342,
    "start_time": "2024-03-21T16:54:03.823Z"
   },
   {
    "duration": 7,
    "start_time": "2024-03-21T16:54:04.166Z"
   },
   {
    "duration": 117,
    "start_time": "2024-03-21T16:54:04.175Z"
   },
   {
    "duration": 20,
    "start_time": "2024-03-21T16:54:04.294Z"
   },
   {
    "duration": 121,
    "start_time": "2024-03-21T16:54:04.316Z"
   },
   {
    "duration": 569,
    "start_time": "2024-03-21T16:54:04.442Z"
   },
   {
    "duration": 6,
    "start_time": "2024-03-21T16:54:05.013Z"
   },
   {
    "duration": 43,
    "start_time": "2024-03-21T16:54:05.021Z"
   },
   {
    "duration": 38,
    "start_time": "2024-03-21T16:54:05.066Z"
   },
   {
    "duration": 12,
    "start_time": "2024-03-21T16:54:05.106Z"
   },
   {
    "duration": 81,
    "start_time": "2024-03-21T20:08:15.003Z"
   },
   {
    "duration": 459,
    "start_time": "2024-03-21T20:08:24.355Z"
   },
   {
    "duration": 13,
    "start_time": "2024-03-21T20:08:24.816Z"
   },
   {
    "duration": 12,
    "start_time": "2024-03-21T20:08:24.830Z"
   },
   {
    "duration": 13,
    "start_time": "2024-03-21T20:08:24.843Z"
   },
   {
    "duration": 13,
    "start_time": "2024-03-21T20:08:24.857Z"
   },
   {
    "duration": 30,
    "start_time": "2024-03-21T20:08:24.871Z"
   },
   {
    "duration": 31,
    "start_time": "2024-03-21T20:08:24.902Z"
   },
   {
    "duration": 39,
    "start_time": "2024-03-21T20:08:24.935Z"
   },
   {
    "duration": 8,
    "start_time": "2024-03-21T20:08:24.975Z"
   },
   {
    "duration": 6,
    "start_time": "2024-03-21T20:08:24.987Z"
   },
   {
    "duration": 16,
    "start_time": "2024-03-21T20:08:24.994Z"
   },
   {
    "duration": 11,
    "start_time": "2024-03-21T20:08:25.011Z"
   },
   {
    "duration": 16,
    "start_time": "2024-03-21T20:08:25.024Z"
   },
   {
    "duration": 23,
    "start_time": "2024-03-21T20:08:25.041Z"
   },
   {
    "duration": 9,
    "start_time": "2024-03-21T20:08:25.066Z"
   },
   {
    "duration": 10,
    "start_time": "2024-03-21T20:08:25.077Z"
   },
   {
    "duration": 7,
    "start_time": "2024-03-21T20:08:25.089Z"
   },
   {
    "duration": 8,
    "start_time": "2024-03-21T20:08:25.097Z"
   },
   {
    "duration": 435,
    "start_time": "2024-03-21T20:08:25.107Z"
   },
   {
    "duration": 131,
    "start_time": "2024-03-21T20:08:25.544Z"
   },
   {
    "duration": 178,
    "start_time": "2024-03-21T20:08:25.676Z"
   },
   {
    "duration": 5,
    "start_time": "2024-03-21T20:08:25.855Z"
   },
   {
    "duration": 283,
    "start_time": "2024-03-21T20:08:25.862Z"
   },
   {
    "duration": 7,
    "start_time": "2024-03-21T20:08:26.146Z"
   },
   {
    "duration": 348,
    "start_time": "2024-03-21T20:08:26.155Z"
   },
   {
    "duration": 6,
    "start_time": "2024-03-21T20:08:26.505Z"
   },
   {
    "duration": 35,
    "start_time": "2024-03-21T20:08:26.513Z"
   },
   {
    "duration": 36,
    "start_time": "2024-03-21T20:08:26.552Z"
   },
   {
    "duration": 12,
    "start_time": "2024-03-21T20:08:26.590Z"
   },
   {
    "duration": 283,
    "start_time": "2024-03-21T20:08:26.604Z"
   },
   {
    "duration": 5,
    "start_time": "2024-03-21T20:08:26.889Z"
   },
   {
    "duration": 260,
    "start_time": "2024-03-21T20:08:26.895Z"
   },
   {
    "duration": 5,
    "start_time": "2024-03-21T20:08:27.156Z"
   },
   {
    "duration": 257,
    "start_time": "2024-03-21T20:08:27.163Z"
   },
   {
    "duration": 4,
    "start_time": "2024-03-21T20:08:27.422Z"
   },
   {
    "duration": 260,
    "start_time": "2024-03-21T20:08:27.428Z"
   },
   {
    "duration": 5,
    "start_time": "2024-03-21T20:08:27.689Z"
   },
   {
    "duration": 33,
    "start_time": "2024-03-21T20:08:27.696Z"
   },
   {
    "duration": 19,
    "start_time": "2024-03-21T20:08:27.730Z"
   },
   {
    "duration": 47,
    "start_time": "2024-03-21T20:08:27.751Z"
   },
   {
    "duration": 470,
    "start_time": "2024-03-21T20:08:27.800Z"
   },
   {
    "duration": 5,
    "start_time": "2024-03-21T20:08:28.272Z"
   },
   {
    "duration": 18,
    "start_time": "2024-03-21T20:08:28.279Z"
   },
   {
    "duration": 5,
    "start_time": "2024-03-21T20:08:28.299Z"
   },
   {
    "duration": 69,
    "start_time": "2024-03-21T20:08:28.305Z"
   },
   {
    "duration": 6,
    "start_time": "2024-03-21T20:09:18.467Z"
   },
   {
    "duration": 42,
    "start_time": "2024-03-22T10:35:46.163Z"
   },
   {
    "duration": 506,
    "start_time": "2024-03-22T10:35:55.253Z"
   },
   {
    "duration": 10,
    "start_time": "2024-03-22T10:35:55.761Z"
   },
   {
    "duration": 10,
    "start_time": "2024-03-22T10:35:55.772Z"
   },
   {
    "duration": 23,
    "start_time": "2024-03-22T10:35:55.784Z"
   },
   {
    "duration": 8,
    "start_time": "2024-03-22T10:35:55.809Z"
   },
   {
    "duration": 11,
    "start_time": "2024-03-22T10:35:55.818Z"
   },
   {
    "duration": 15,
    "start_time": "2024-03-22T10:35:55.830Z"
   },
   {
    "duration": 12,
    "start_time": "2024-03-22T10:35:55.846Z"
   },
   {
    "duration": 5,
    "start_time": "2024-03-22T10:35:55.859Z"
   },
   {
    "duration": 7,
    "start_time": "2024-03-22T10:35:55.865Z"
   },
   {
    "duration": 5,
    "start_time": "2024-03-22T10:35:55.874Z"
   },
   {
    "duration": 22,
    "start_time": "2024-03-22T10:35:55.880Z"
   },
   {
    "duration": 7,
    "start_time": "2024-03-22T10:35:55.904Z"
   },
   {
    "duration": 13,
    "start_time": "2024-03-22T10:35:55.915Z"
   },
   {
    "duration": 17,
    "start_time": "2024-03-22T10:35:55.930Z"
   },
   {
    "duration": 12,
    "start_time": "2024-03-22T10:35:55.949Z"
   },
   {
    "duration": 6,
    "start_time": "2024-03-22T10:35:55.962Z"
   },
   {
    "duration": 21,
    "start_time": "2024-03-22T10:35:55.969Z"
   },
   {
    "duration": 493,
    "start_time": "2024-03-22T10:35:55.992Z"
   },
   {
    "duration": 102,
    "start_time": "2024-03-22T10:35:56.487Z"
   },
   {
    "duration": 137,
    "start_time": "2024-03-22T10:35:56.591Z"
   },
   {
    "duration": 4,
    "start_time": "2024-03-22T10:35:56.729Z"
   },
   {
    "duration": 249,
    "start_time": "2024-03-22T10:35:56.734Z"
   },
   {
    "duration": 4,
    "start_time": "2024-03-22T10:35:56.984Z"
   },
   {
    "duration": 209,
    "start_time": "2024-03-22T10:35:56.989Z"
   },
   {
    "duration": 5,
    "start_time": "2024-03-22T10:35:57.201Z"
   },
   {
    "duration": 38,
    "start_time": "2024-03-22T10:35:57.207Z"
   },
   {
    "duration": 10,
    "start_time": "2024-03-22T10:35:57.246Z"
   },
   {
    "duration": 9,
    "start_time": "2024-03-22T10:35:57.258Z"
   },
   {
    "duration": 215,
    "start_time": "2024-03-22T10:35:57.269Z"
   },
   {
    "duration": 4,
    "start_time": "2024-03-22T10:35:57.486Z"
   },
   {
    "duration": 201,
    "start_time": "2024-03-22T10:35:57.491Z"
   },
   {
    "duration": 7,
    "start_time": "2024-03-22T10:35:57.694Z"
   },
   {
    "duration": 213,
    "start_time": "2024-03-22T10:35:57.703Z"
   },
   {
    "duration": 4,
    "start_time": "2024-03-22T10:35:57.917Z"
   },
   {
    "duration": 207,
    "start_time": "2024-03-22T10:35:57.922Z"
   },
   {
    "duration": 4,
    "start_time": "2024-03-22T10:35:58.130Z"
   },
   {
    "duration": 100,
    "start_time": "2024-03-22T10:35:58.135Z"
   },
   {
    "duration": 15,
    "start_time": "2024-03-22T10:35:58.237Z"
   },
   {
    "duration": 18,
    "start_time": "2024-03-22T10:35:58.254Z"
   },
   {
    "duration": 396,
    "start_time": "2024-03-22T10:35:58.275Z"
   },
   {
    "duration": 4,
    "start_time": "2024-03-22T10:35:58.673Z"
   },
   {
    "duration": 22,
    "start_time": "2024-03-22T10:35:58.678Z"
   },
   {
    "duration": 10,
    "start_time": "2024-03-22T10:35:58.701Z"
   },
   {
    "duration": 19,
    "start_time": "2024-03-22T10:35:58.712Z"
   },
   {
    "duration": 42,
    "start_time": "2024-03-22T10:35:58.732Z"
   },
   {
    "duration": 6,
    "start_time": "2024-03-22T10:37:58.213Z"
   },
   {
    "duration": 5,
    "start_time": "2024-03-22T10:38:28.621Z"
   },
   {
    "duration": 198,
    "start_time": "2024-03-22T10:49:11.493Z"
   },
   {
    "duration": 116,
    "start_time": "2024-03-22T10:49:36.034Z"
   },
   {
    "duration": 118,
    "start_time": "2024-03-22T10:50:51.746Z"
   },
   {
    "duration": 110,
    "start_time": "2024-03-22T10:51:11.658Z"
   },
   {
    "duration": 121,
    "start_time": "2024-03-22T10:55:31.566Z"
   },
   {
    "duration": 74,
    "start_time": "2024-03-22T10:57:18.291Z"
   },
   {
    "duration": 63,
    "start_time": "2024-03-22T11:00:00.762Z"
   },
   {
    "duration": 67,
    "start_time": "2024-03-22T11:00:46.598Z"
   },
   {
    "duration": 91,
    "start_time": "2024-03-22T11:01:54.914Z"
   },
   {
    "duration": 77,
    "start_time": "2024-03-22T11:02:16.021Z"
   },
   {
    "duration": 64,
    "start_time": "2024-03-22T11:02:32.807Z"
   },
   {
    "duration": 95,
    "start_time": "2024-03-22T11:06:38.258Z"
   },
   {
    "duration": 387,
    "start_time": "2024-03-22T11:06:47.848Z"
   },
   {
    "duration": 10,
    "start_time": "2024-03-22T11:06:48.237Z"
   },
   {
    "duration": 9,
    "start_time": "2024-03-22T11:06:48.248Z"
   },
   {
    "duration": 9,
    "start_time": "2024-03-22T11:06:48.258Z"
   },
   {
    "duration": 8,
    "start_time": "2024-03-22T11:06:48.268Z"
   },
   {
    "duration": 10,
    "start_time": "2024-03-22T11:06:48.277Z"
   },
   {
    "duration": 4,
    "start_time": "2024-03-22T11:06:48.288Z"
   },
   {
    "duration": 22,
    "start_time": "2024-03-22T11:06:48.293Z"
   },
   {
    "duration": 8,
    "start_time": "2024-03-22T11:06:48.316Z"
   },
   {
    "duration": 14,
    "start_time": "2024-03-22T11:06:48.327Z"
   },
   {
    "duration": 30,
    "start_time": "2024-03-22T11:06:48.342Z"
   },
   {
    "duration": 26,
    "start_time": "2024-03-22T11:06:48.373Z"
   },
   {
    "duration": 12,
    "start_time": "2024-03-22T11:06:48.401Z"
   },
   {
    "duration": 34,
    "start_time": "2024-03-22T11:06:48.414Z"
   },
   {
    "duration": 24,
    "start_time": "2024-03-22T11:06:48.449Z"
   },
   {
    "duration": 18,
    "start_time": "2024-03-22T11:06:48.475Z"
   },
   {
    "duration": 16,
    "start_time": "2024-03-22T11:06:48.494Z"
   },
   {
    "duration": 7,
    "start_time": "2024-03-22T11:06:48.511Z"
   },
   {
    "duration": 12,
    "start_time": "2024-03-22T11:06:48.519Z"
   },
   {
    "duration": 334,
    "start_time": "2024-03-22T11:06:48.532Z"
   },
   {
    "duration": 100,
    "start_time": "2024-03-22T11:06:48.868Z"
   },
   {
    "duration": 0,
    "start_time": "2024-03-22T11:06:48.969Z"
   },
   {
    "duration": 0,
    "start_time": "2024-03-22T11:06:48.970Z"
   },
   {
    "duration": 0,
    "start_time": "2024-03-22T11:06:48.971Z"
   },
   {
    "duration": 0,
    "start_time": "2024-03-22T11:06:48.972Z"
   },
   {
    "duration": 0,
    "start_time": "2024-03-22T11:06:48.972Z"
   },
   {
    "duration": 0,
    "start_time": "2024-03-22T11:06:48.973Z"
   },
   {
    "duration": 0,
    "start_time": "2024-03-22T11:06:48.974Z"
   },
   {
    "duration": 0,
    "start_time": "2024-03-22T11:06:48.975Z"
   },
   {
    "duration": 0,
    "start_time": "2024-03-22T11:06:48.976Z"
   },
   {
    "duration": 0,
    "start_time": "2024-03-22T11:06:48.976Z"
   },
   {
    "duration": 0,
    "start_time": "2024-03-22T11:06:48.977Z"
   },
   {
    "duration": 0,
    "start_time": "2024-03-22T11:06:48.978Z"
   },
   {
    "duration": 0,
    "start_time": "2024-03-22T11:06:48.978Z"
   },
   {
    "duration": 0,
    "start_time": "2024-03-22T11:06:48.979Z"
   },
   {
    "duration": 0,
    "start_time": "2024-03-22T11:06:48.980Z"
   },
   {
    "duration": 0,
    "start_time": "2024-03-22T11:06:48.981Z"
   },
   {
    "duration": 0,
    "start_time": "2024-03-22T11:06:48.981Z"
   },
   {
    "duration": 0,
    "start_time": "2024-03-22T11:06:48.982Z"
   },
   {
    "duration": 0,
    "start_time": "2024-03-22T11:06:48.983Z"
   },
   {
    "duration": 0,
    "start_time": "2024-03-22T11:06:48.984Z"
   },
   {
    "duration": 0,
    "start_time": "2024-03-22T11:06:48.984Z"
   },
   {
    "duration": 0,
    "start_time": "2024-03-22T11:06:48.985Z"
   },
   {
    "duration": 0,
    "start_time": "2024-03-22T11:06:48.986Z"
   },
   {
    "duration": 0,
    "start_time": "2024-03-22T11:06:48.987Z"
   },
   {
    "duration": 0,
    "start_time": "2024-03-22T11:06:48.988Z"
   },
   {
    "duration": 0,
    "start_time": "2024-03-22T11:06:48.989Z"
   },
   {
    "duration": 0,
    "start_time": "2024-03-22T11:06:48.990Z"
   },
   {
    "duration": 0,
    "start_time": "2024-03-22T11:06:48.990Z"
   },
   {
    "duration": 1,
    "start_time": "2024-03-22T11:06:48.991Z"
   },
   {
    "duration": 68,
    "start_time": "2024-03-22T11:07:09.299Z"
   },
   {
    "duration": 82,
    "start_time": "2024-03-22T11:07:49.856Z"
   },
   {
    "duration": 74,
    "start_time": "2024-03-22T11:08:25.634Z"
   },
   {
    "duration": 95,
    "start_time": "2024-03-22T11:11:58.946Z"
   },
   {
    "duration": 62,
    "start_time": "2024-03-22T11:12:13.234Z"
   },
   {
    "duration": 64,
    "start_time": "2024-03-22T11:13:14.423Z"
   },
   {
    "duration": 57,
    "start_time": "2024-03-22T11:13:25.729Z"
   },
   {
    "duration": 129,
    "start_time": "2024-03-22T11:13:46.860Z"
   },
   {
    "duration": 67,
    "start_time": "2024-03-22T11:15:28.360Z"
   },
   {
    "duration": 106,
    "start_time": "2024-03-22T11:18:04.390Z"
   },
   {
    "duration": 103,
    "start_time": "2024-03-22T11:18:23.321Z"
   },
   {
    "duration": 75,
    "start_time": "2024-03-22T11:19:07.706Z"
   },
   {
    "duration": 94,
    "start_time": "2024-03-22T11:23:29.647Z"
   },
   {
    "duration": 199,
    "start_time": "2024-03-22T11:24:08.541Z"
   },
   {
    "duration": 66,
    "start_time": "2024-03-22T11:25:02.289Z"
   },
   {
    "duration": 14,
    "start_time": "2024-03-22T11:25:14.665Z"
   },
   {
    "duration": 6,
    "start_time": "2024-03-22T11:26:14.374Z"
   },
   {
    "duration": 14,
    "start_time": "2024-03-22T11:26:32.744Z"
   },
   {
    "duration": 7,
    "start_time": "2024-03-22T11:26:42.288Z"
   },
   {
    "duration": 12,
    "start_time": "2024-03-22T11:26:57.281Z"
   },
   {
    "duration": 13,
    "start_time": "2024-03-22T11:27:35.190Z"
   },
   {
    "duration": 12,
    "start_time": "2024-03-22T11:29:27.847Z"
   },
   {
    "duration": 13,
    "start_time": "2024-03-22T11:29:39.065Z"
   },
   {
    "duration": 203,
    "start_time": "2024-03-22T11:33:45.071Z"
   },
   {
    "duration": 196,
    "start_time": "2024-03-22T11:34:09.325Z"
   },
   {
    "duration": 26,
    "start_time": "2024-03-22T11:34:48.894Z"
   },
   {
    "duration": 6,
    "start_time": "2024-03-22T11:35:00.260Z"
   },
   {
    "duration": 126,
    "start_time": "2024-03-22T11:38:04.188Z"
   },
   {
    "duration": 93,
    "start_time": "2024-03-22T11:39:24.535Z"
   },
   {
    "duration": 131,
    "start_time": "2024-03-22T11:39:49.361Z"
   },
   {
    "duration": 151,
    "start_time": "2024-03-22T11:40:14.583Z"
   },
   {
    "duration": 125,
    "start_time": "2024-03-22T11:40:57.719Z"
   },
   {
    "duration": 110,
    "start_time": "2024-03-22T11:52:06.968Z"
   },
   {
    "duration": 6,
    "start_time": "2024-03-22T11:52:12.203Z"
   },
   {
    "duration": 1482,
    "start_time": "2024-03-22T11:53:13.392Z"
   },
   {
    "duration": 1600,
    "start_time": "2024-03-22T11:53:38.541Z"
   },
   {
    "duration": 107,
    "start_time": "2024-03-22T11:55:06.220Z"
   },
   {
    "duration": 118,
    "start_time": "2024-03-22T11:55:20.236Z"
   },
   {
    "duration": 114,
    "start_time": "2024-03-22T11:55:31.512Z"
   },
   {
    "duration": 129,
    "start_time": "2024-03-22T11:56:06.051Z"
   },
   {
    "duration": 63,
    "start_time": "2024-03-22T11:59:42.147Z"
   },
   {
    "duration": 7,
    "start_time": "2024-03-22T11:59:58.495Z"
   },
   {
    "duration": 92,
    "start_time": "2024-03-22T12:00:09.965Z"
   },
   {
    "duration": 123,
    "start_time": "2024-03-22T12:00:19.993Z"
   },
   {
    "duration": 120,
    "start_time": "2024-03-22T12:02:18.194Z"
   },
   {
    "duration": 142,
    "start_time": "2024-03-22T12:04:11.694Z"
   },
   {
    "duration": 312,
    "start_time": "2024-03-22T12:04:26.598Z"
   },
   {
    "duration": 125,
    "start_time": "2024-03-22T12:04:45.604Z"
   },
   {
    "duration": 114,
    "start_time": "2024-03-22T12:04:55.272Z"
   },
   {
    "duration": 120,
    "start_time": "2024-03-22T12:05:08.744Z"
   },
   {
    "duration": 121,
    "start_time": "2024-03-22T12:05:23.271Z"
   },
   {
    "duration": 138,
    "start_time": "2024-03-22T12:06:20.598Z"
   },
   {
    "duration": 137,
    "start_time": "2024-03-22T12:07:06.703Z"
   },
   {
    "duration": 137,
    "start_time": "2024-03-22T12:07:42.604Z"
   },
   {
    "duration": 132,
    "start_time": "2024-03-22T12:08:42.839Z"
   },
   {
    "duration": 1136,
    "start_time": "2024-03-22T12:10:34.900Z"
   },
   {
    "duration": 4,
    "start_time": "2024-03-22T12:12:22.377Z"
   },
   {
    "duration": 227,
    "start_time": "2024-03-22T12:14:49.055Z"
   },
   {
    "duration": 195,
    "start_time": "2024-03-22T12:14:53.917Z"
   },
   {
    "duration": 152,
    "start_time": "2024-03-22T12:15:12.358Z"
   },
   {
    "duration": 206,
    "start_time": "2024-03-22T12:15:22.445Z"
   },
   {
    "duration": 382,
    "start_time": "2024-03-22T12:17:12.684Z"
   },
   {
    "duration": 6,
    "start_time": "2024-03-22T12:19:26.778Z"
   },
   {
    "duration": 199,
    "start_time": "2024-03-22T12:25:01.281Z"
   },
   {
    "duration": 4,
    "start_time": "2024-03-22T12:25:27.127Z"
   },
   {
    "duration": 25,
    "start_time": "2024-03-22T12:29:08.061Z"
   },
   {
    "duration": 11,
    "start_time": "2024-03-22T12:29:19.216Z"
   },
   {
    "duration": 218,
    "start_time": "2024-03-22T12:29:24.755Z"
   },
   {
    "duration": 72,
    "start_time": "2024-03-22T12:34:35.554Z"
   },
   {
    "duration": 315,
    "start_time": "2024-03-22T12:34:50.089Z"
   },
   {
    "duration": 1150,
    "start_time": "2024-03-22T12:35:15.545Z"
   },
   {
    "duration": 307,
    "start_time": "2024-03-22T12:35:30.237Z"
   },
   {
    "duration": 288,
    "start_time": "2024-03-22T12:36:17.765Z"
   },
   {
    "duration": 124,
    "start_time": "2024-03-22T12:39:34.937Z"
   },
   {
    "duration": 200,
    "start_time": "2024-03-22T12:41:15.532Z"
   },
   {
    "duration": 331,
    "start_time": "2024-03-22T12:42:43.520Z"
   },
   {
    "duration": 130,
    "start_time": "2024-03-22T12:43:01.901Z"
   },
   {
    "duration": 367,
    "start_time": "2024-03-22T12:43:24.115Z"
   },
   {
    "duration": 84,
    "start_time": "2024-03-22T12:43:43.538Z"
   },
   {
    "duration": 333,
    "start_time": "2024-03-22T12:43:52.455Z"
   },
   {
    "duration": 183,
    "start_time": "2024-03-22T12:44:38.458Z"
   },
   {
    "duration": 179,
    "start_time": "2024-03-22T12:44:49.484Z"
   },
   {
    "duration": 337,
    "start_time": "2024-03-22T12:45:20.777Z"
   },
   {
    "duration": 86,
    "start_time": "2024-03-22T12:45:33.715Z"
   },
   {
    "duration": 127,
    "start_time": "2024-03-22T12:45:54.545Z"
   },
   {
    "duration": 128,
    "start_time": "2024-03-22T12:46:06.937Z"
   },
   {
    "duration": 317,
    "start_time": "2024-03-22T12:46:17.176Z"
   },
   {
    "duration": 127,
    "start_time": "2024-03-22T12:46:23.700Z"
   },
   {
    "duration": 6,
    "start_time": "2024-03-22T12:50:32.383Z"
   },
   {
    "duration": 136,
    "start_time": "2024-03-22T12:59:13.085Z"
   },
   {
    "duration": 208,
    "start_time": "2024-03-22T12:59:32.044Z"
   },
   {
    "duration": 240,
    "start_time": "2024-03-22T13:00:47.814Z"
   },
   {
    "duration": 206,
    "start_time": "2024-03-22T13:00:54.344Z"
   },
   {
    "duration": 240,
    "start_time": "2024-03-22T13:00:59.920Z"
   },
   {
    "duration": 237,
    "start_time": "2024-03-22T13:01:37.670Z"
   },
   {
    "duration": 252,
    "start_time": "2024-03-22T13:01:53.896Z"
   },
   {
    "duration": 102,
    "start_time": "2024-03-22T13:02:21.372Z"
   },
   {
    "duration": 241,
    "start_time": "2024-03-22T13:04:33.825Z"
   },
   {
    "duration": 268,
    "start_time": "2024-03-22T13:09:53.313Z"
   },
   {
    "duration": 75,
    "start_time": "2024-03-22T13:11:12.338Z"
   },
   {
    "duration": 76,
    "start_time": "2024-03-22T13:11:31.650Z"
   },
   {
    "duration": 270,
    "start_time": "2024-03-22T13:11:50.573Z"
   },
   {
    "duration": 297,
    "start_time": "2024-03-22T13:13:24.804Z"
   },
   {
    "duration": 313,
    "start_time": "2024-03-22T13:15:14.013Z"
   },
   {
    "duration": 8,
    "start_time": "2024-03-22T13:15:39.589Z"
   },
   {
    "duration": 6859,
    "start_time": "2024-03-22T13:17:14.181Z"
   },
   {
    "duration": 1969,
    "start_time": "2024-03-22T13:17:44.156Z"
   },
   {
    "duration": 766,
    "start_time": "2024-03-22T13:18:04.080Z"
   },
   {
    "duration": 565,
    "start_time": "2024-03-22T13:18:16.925Z"
   },
   {
    "duration": 426,
    "start_time": "2024-03-22T13:18:41.338Z"
   },
   {
    "duration": 409,
    "start_time": "2024-03-22T13:18:55.978Z"
   },
   {
    "duration": 331,
    "start_time": "2024-03-22T13:19:11.931Z"
   },
   {
    "duration": 296,
    "start_time": "2024-03-22T13:19:48.744Z"
   },
   {
    "duration": 345,
    "start_time": "2024-03-22T13:20:37.704Z"
   },
   {
    "duration": 351,
    "start_time": "2024-03-22T13:21:00.992Z"
   },
   {
    "duration": 306,
    "start_time": "2024-03-22T13:21:23.035Z"
   },
   {
    "duration": 334,
    "start_time": "2024-03-22T13:21:44.713Z"
   },
   {
    "duration": 7,
    "start_time": "2024-03-22T13:27:07.950Z"
   },
   {
    "duration": 6,
    "start_time": "2024-03-22T13:28:30.650Z"
   },
   {
    "duration": 312,
    "start_time": "2024-03-22T13:34:49.845Z"
   },
   {
    "duration": 333,
    "start_time": "2024-03-22T13:35:03.149Z"
   },
   {
    "duration": 306,
    "start_time": "2024-03-22T13:35:15.054Z"
   },
   {
    "duration": 15,
    "start_time": "2024-03-22T14:04:26.993Z"
   },
   {
    "duration": 11,
    "start_time": "2024-03-22T14:05:55.727Z"
   },
   {
    "duration": 80,
    "start_time": "2024-03-22T14:08:15.304Z"
   },
   {
    "duration": 66,
    "start_time": "2024-03-22T14:09:32.126Z"
   },
   {
    "duration": 11,
    "start_time": "2024-03-22T14:12:16.865Z"
   },
   {
    "duration": 26,
    "start_time": "2024-03-22T14:12:26.087Z"
   },
   {
    "duration": 15,
    "start_time": "2024-03-22T14:13:43.998Z"
   },
   {
    "duration": 274,
    "start_time": "2024-03-22T14:14:39.465Z"
   },
   {
    "duration": 387,
    "start_time": "2024-03-22T14:14:59.377Z"
   },
   {
    "duration": 3,
    "start_time": "2024-03-22T14:19:40.656Z"
   },
   {
    "duration": 5,
    "start_time": "2024-03-22T14:22:38.962Z"
   },
   {
    "duration": 6,
    "start_time": "2024-03-22T14:23:13.194Z"
   },
   {
    "duration": 5,
    "start_time": "2024-03-22T14:23:55.698Z"
   },
   {
    "duration": 4,
    "start_time": "2024-03-22T14:25:22.282Z"
   },
   {
    "duration": 83,
    "start_time": "2024-03-22T14:27:52.973Z"
   },
   {
    "duration": 3,
    "start_time": "2024-03-22T14:29:24.289Z"
   },
   {
    "duration": 11,
    "start_time": "2024-03-22T14:32:06.171Z"
   },
   {
    "duration": 8,
    "start_time": "2024-03-22T14:34:30.586Z"
   },
   {
    "duration": 8,
    "start_time": "2024-03-22T14:34:43.685Z"
   },
   {
    "duration": 8,
    "start_time": "2024-03-22T14:35:53.878Z"
   },
   {
    "duration": 10,
    "start_time": "2024-03-22T14:36:16.057Z"
   },
   {
    "duration": 4,
    "start_time": "2024-03-22T14:36:30.015Z"
   },
   {
    "duration": 5,
    "start_time": "2024-03-22T14:36:36.464Z"
   },
   {
    "duration": 65,
    "start_time": "2024-03-22T14:47:10.986Z"
   },
   {
    "duration": 58,
    "start_time": "2024-03-22T14:52:04.080Z"
   },
   {
    "duration": 4,
    "start_time": "2024-03-22T14:52:38.701Z"
   },
   {
    "duration": 4,
    "start_time": "2024-03-22T14:52:53.433Z"
   },
   {
    "duration": 62,
    "start_time": "2024-03-22T14:53:33.012Z"
   },
   {
    "duration": 4,
    "start_time": "2024-03-22T14:53:53.860Z"
   },
   {
    "duration": 4,
    "start_time": "2024-03-22T14:54:20.160Z"
   },
   {
    "duration": 4,
    "start_time": "2024-03-22T14:54:26.744Z"
   },
   {
    "duration": 479,
    "start_time": "2024-03-22T14:55:08.237Z"
   },
   {
    "duration": 11,
    "start_time": "2024-03-22T14:55:08.717Z"
   },
   {
    "duration": 22,
    "start_time": "2024-03-22T14:55:08.730Z"
   },
   {
    "duration": 13,
    "start_time": "2024-03-22T14:55:08.753Z"
   },
   {
    "duration": 7,
    "start_time": "2024-03-22T14:55:08.768Z"
   },
   {
    "duration": 15,
    "start_time": "2024-03-22T14:55:08.776Z"
   },
   {
    "duration": 22,
    "start_time": "2024-03-22T14:55:08.792Z"
   },
   {
    "duration": 23,
    "start_time": "2024-03-22T14:55:08.816Z"
   },
   {
    "duration": 5,
    "start_time": "2024-03-22T14:55:08.840Z"
   },
   {
    "duration": 4,
    "start_time": "2024-03-22T14:55:08.848Z"
   },
   {
    "duration": 5,
    "start_time": "2024-03-22T14:55:08.853Z"
   },
   {
    "duration": 26,
    "start_time": "2024-03-22T14:55:08.859Z"
   },
   {
    "duration": 9,
    "start_time": "2024-03-22T14:55:08.886Z"
   },
   {
    "duration": 8,
    "start_time": "2024-03-22T14:55:08.896Z"
   },
   {
    "duration": 8,
    "start_time": "2024-03-22T14:55:08.905Z"
   },
   {
    "duration": 22,
    "start_time": "2024-03-22T14:55:08.914Z"
   },
   {
    "duration": 13,
    "start_time": "2024-03-22T14:55:08.937Z"
   },
   {
    "duration": 13,
    "start_time": "2024-03-22T14:55:08.951Z"
   },
   {
    "duration": 22,
    "start_time": "2024-03-22T14:55:08.966Z"
   },
   {
    "duration": 363,
    "start_time": "2024-03-22T14:55:08.989Z"
   },
   {
    "duration": 116,
    "start_time": "2024-03-22T14:55:09.353Z"
   },
   {
    "duration": 145,
    "start_time": "2024-03-22T14:55:09.471Z"
   },
   {
    "duration": 5,
    "start_time": "2024-03-22T14:55:09.617Z"
   },
   {
    "duration": 255,
    "start_time": "2024-03-22T14:55:09.623Z"
   },
   {
    "duration": 4,
    "start_time": "2024-03-22T14:55:09.879Z"
   },
   {
    "duration": 289,
    "start_time": "2024-03-22T14:55:09.884Z"
   },
   {
    "duration": 15,
    "start_time": "2024-03-22T14:55:10.174Z"
   },
   {
    "duration": 10,
    "start_time": "2024-03-22T14:55:10.201Z"
   },
   {
    "duration": 257,
    "start_time": "2024-03-22T14:55:10.213Z"
   },
   {
    "duration": 5,
    "start_time": "2024-03-22T14:55:10.471Z"
   },
   {
    "duration": 42,
    "start_time": "2024-03-22T14:55:10.477Z"
   },
   {
    "duration": 12,
    "start_time": "2024-03-22T14:55:10.521Z"
   },
   {
    "duration": 9,
    "start_time": "2024-03-22T14:55:10.534Z"
   },
   {
    "duration": 10,
    "start_time": "2024-03-22T14:55:10.544Z"
   },
   {
    "duration": 422,
    "start_time": "2024-03-22T14:55:10.556Z"
   },
   {
    "duration": 6,
    "start_time": "2024-03-22T14:55:10.979Z"
   },
   {
    "duration": 373,
    "start_time": "2024-03-22T14:55:10.986Z"
   },
   {
    "duration": 11,
    "start_time": "2024-03-22T14:55:11.360Z"
   },
   {
    "duration": 37,
    "start_time": "2024-03-22T14:55:11.372Z"
   },
   {
    "duration": 18,
    "start_time": "2024-03-22T14:55:11.411Z"
   },
   {
    "duration": 14,
    "start_time": "2024-03-22T14:55:11.430Z"
   },
   {
    "duration": 501,
    "start_time": "2024-03-22T14:55:11.445Z"
   },
   {
    "duration": 3,
    "start_time": "2024-03-22T14:55:11.947Z"
   },
   {
    "duration": 9,
    "start_time": "2024-03-22T14:55:11.951Z"
   },
   {
    "duration": 3,
    "start_time": "2024-03-22T14:55:11.961Z"
   },
   {
    "duration": 21,
    "start_time": "2024-03-22T14:55:11.965Z"
   },
   {
    "duration": 10,
    "start_time": "2024-03-22T14:55:11.987Z"
   },
   {
    "duration": 7,
    "start_time": "2024-03-22T14:55:11.998Z"
   },
   {
    "duration": 11,
    "start_time": "2024-03-22T14:55:12.007Z"
   },
   {
    "duration": 8,
    "start_time": "2024-03-22T14:55:12.020Z"
   }
  ],
  "kernelspec": {
   "display_name": "Python 3 (ipykernel)",
   "language": "python",
   "name": "python3"
  },
  "language_info": {
   "codemirror_mode": {
    "name": "ipython",
    "version": 3
   },
   "file_extension": ".py",
   "mimetype": "text/x-python",
   "name": "python",
   "nbconvert_exporter": "python",
   "pygments_lexer": "ipython3",
   "version": "3.11.5"
  },
  "toc": {
   "base_numbering": 1,
   "nav_menu": {},
   "number_sections": true,
   "sideBar": true,
   "skip_h1_title": true,
   "title_cell": "Table of Contents",
   "title_sidebar": "Contents",
   "toc_cell": false,
   "toc_position": {},
   "toc_section_display": true,
   "toc_window_display": false
  }
 },
 "nbformat": 4,
 "nbformat_minor": 5
}
